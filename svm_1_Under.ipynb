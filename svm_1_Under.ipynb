{
 "cells": [
  {
   "cell_type": "markdown",
   "id": "9027e5e2-5b85-4860-984d-854c7894dd3b",
   "metadata": {},
   "source": [
    "### This notebook uses the buildDataFrame function to predict the target\n",
    "##### DF uses oneHotEncoder, StandardScaler, encodes Gender and the Attrition (target) columns"
   ]
  },
  {
   "cell_type": "code",
   "execution_count": 7,
   "id": "cb3067cf-1109-4fdb-88b7-7811f001dc28",
   "metadata": {},
   "outputs": [],
   "source": [
    "import pandas as pd\n",
    "import numpy as np\n",
    "import hvplot.pandas\n",
    "from sklearn.model_selection import train_test_split\n",
    "from imblearn.under_sampling import RandomUnderSampler\n",
    "from imblearn.metrics import classification_report_imbalanced\n",
    "from sklearn import svm"
   ]
  },
  {
   "cell_type": "markdown",
   "id": "7778edfc-95d4-4e10-bc62-019a0cb2aefb",
   "metadata": {},
   "source": [
    "##### The following cell pulls in the train and test data"
   ]
  },
  {
   "cell_type": "code",
   "execution_count": 8,
   "id": "724fd743-4163-452f-abf6-ad2d5da4bec1",
   "metadata": {},
   "outputs": [],
   "source": [
    "from df import buildDataFrame_2\n",
    "X_train, X_test, y_train, y_test = buildDataFrame_2()"
   ]
  },
  {
   "cell_type": "markdown",
   "id": "3116ee82-d901-469d-b5a5-a7638b5e9e4b",
   "metadata": {},
   "source": [
    "##### Next, the training data is resampled using an undersampler"
   ]
  },
  {
   "cell_type": "code",
   "execution_count": 10,
   "id": "b786171f-e548-4a1d-a56d-68d230b291fc",
   "metadata": {},
   "outputs": [],
   "source": [
    "random_undersampler = RandomUnderSampler()\n",
    "X_resampled, y_resampled = random_undersampler.fit_resample(X_train, y_train)"
   ]
  },
  {
   "cell_type": "markdown",
   "id": "9679b879-1998-49a7-8da1-a07945696f70",
   "metadata": {},
   "source": [
    "##### SVM classifier model will be used, here it is fitting the trainin data"
   ]
  },
  {
   "cell_type": "code",
   "execution_count": 11,
   "id": "f53e5cfc-e4c0-42f6-a12e-7a2cc7d5ced5",
   "metadata": {},
   "outputs": [],
   "source": [
    "model = svm.SVC()\n",
    "\n",
    "model = model.fit(X_train, y_train)"
   ]
  },
  {
   "cell_type": "markdown",
   "id": "b54076ca-29fd-4ea9-b11d-250e41545a25",
   "metadata": {},
   "source": [
    "##### The model can now predict the training data. A dataframe will be created to compare the predicted outcomes to the actual outcomes of the training data"
   ]
  },
  {
   "cell_type": "code",
   "execution_count": 12,
   "id": "006c91db-e557-4700-b21f-5d558a24b022",
   "metadata": {},
   "outputs": [
    {
     "data": {
      "text/html": [
       "<div>\n",
       "<style scoped>\n",
       "    .dataframe tbody tr th:only-of-type {\n",
       "        vertical-align: middle;\n",
       "    }\n",
       "\n",
       "    .dataframe tbody tr th {\n",
       "        vertical-align: top;\n",
       "    }\n",
       "\n",
       "    .dataframe thead th {\n",
       "        text-align: right;\n",
       "    }\n",
       "</style>\n",
       "<table border=\"1\" class=\"dataframe\">\n",
       "  <thead>\n",
       "    <tr style=\"text-align: right;\">\n",
       "      <th></th>\n",
       "      <th>Predictions</th>\n",
       "      <th>Actual</th>\n",
       "    </tr>\n",
       "  </thead>\n",
       "  <tbody>\n",
       "    <tr>\n",
       "      <th>8915</th>\n",
       "      <td>0</td>\n",
       "      <td>0</td>\n",
       "    </tr>\n",
       "    <tr>\n",
       "      <th>9912</th>\n",
       "      <td>0</td>\n",
       "      <td>0</td>\n",
       "    </tr>\n",
       "    <tr>\n",
       "      <th>7212</th>\n",
       "      <td>0</td>\n",
       "      <td>0</td>\n",
       "    </tr>\n",
       "    <tr>\n",
       "      <th>6454</th>\n",
       "      <td>0</td>\n",
       "      <td>1</td>\n",
       "    </tr>\n",
       "    <tr>\n",
       "      <th>5920</th>\n",
       "      <td>0</td>\n",
       "      <td>0</td>\n",
       "    </tr>\n",
       "  </tbody>\n",
       "</table>\n",
       "</div>"
      ],
      "text/plain": [
       "      Predictions  Actual\n",
       "8915            0       0\n",
       "9912            0       0\n",
       "7212            0       0\n",
       "6454            0       1\n",
       "5920            0       0"
      ]
     },
     "execution_count": 12,
     "metadata": {},
     "output_type": "execute_result"
    }
   ],
   "source": [
    "predictions = model.predict(X_train)\n",
    "\n",
    "results_df = pd.DataFrame({'Predictions':predictions, 'Actual':y_train})    \n",
    "results_df.head()"
   ]
  },
  {
   "cell_type": "markdown",
   "id": "bae1b67e-c5dc-4f70-a62c-27e2adbf9568",
   "metadata": {},
   "source": [
    "##### Now the model will predict the test data then compared to the actual outcomes. Some of the results will be printed."
   ]
  },
  {
   "cell_type": "code",
   "execution_count": 13,
   "id": "fb4c2d2a-d268-4a97-84d5-e4292b44b3f2",
   "metadata": {},
   "outputs": [
    {
     "data": {
      "text/html": [
       "<div>\n",
       "<style scoped>\n",
       "    .dataframe tbody tr th:only-of-type {\n",
       "        vertical-align: middle;\n",
       "    }\n",
       "\n",
       "    .dataframe tbody tr th {\n",
       "        vertical-align: top;\n",
       "    }\n",
       "\n",
       "    .dataframe thead th {\n",
       "        text-align: right;\n",
       "    }\n",
       "</style>\n",
       "<table border=\"1\" class=\"dataframe\">\n",
       "  <thead>\n",
       "    <tr style=\"text-align: right;\">\n",
       "      <th></th>\n",
       "      <th>Testing Data Predictions</th>\n",
       "      <th>Testing Data Actual Targets</th>\n",
       "    </tr>\n",
       "  </thead>\n",
       "  <tbody>\n",
       "    <tr>\n",
       "      <th>4940</th>\n",
       "      <td>0</td>\n",
       "      <td>0</td>\n",
       "    </tr>\n",
       "    <tr>\n",
       "      <th>8676</th>\n",
       "      <td>0</td>\n",
       "      <td>1</td>\n",
       "    </tr>\n",
       "    <tr>\n",
       "      <th>10002</th>\n",
       "      <td>0</td>\n",
       "      <td>0</td>\n",
       "    </tr>\n",
       "    <tr>\n",
       "      <th>3041</th>\n",
       "      <td>0</td>\n",
       "      <td>0</td>\n",
       "    </tr>\n",
       "    <tr>\n",
       "      <th>802</th>\n",
       "      <td>0</td>\n",
       "      <td>0</td>\n",
       "    </tr>\n",
       "  </tbody>\n",
       "</table>\n",
       "</div>"
      ],
      "text/plain": [
       "       Testing Data Predictions  Testing Data Actual Targets\n",
       "4940                          0                            0\n",
       "8676                          0                            1\n",
       "10002                         0                            0\n",
       "3041                          0                            0\n",
       "802                           0                            0"
      ]
     },
     "execution_count": 13,
     "metadata": {},
     "output_type": "execute_result"
    }
   ],
   "source": [
    "y_pred = model.predict(X_test)\n",
    "\n",
    "results_df = pd.DataFrame({\n",
    "    'Testing Data Predictions': y_pred,\n",
    "    'Testing Data Actual Targets':y_test})\n",
    "results_df.head()"
   ]
  },
  {
   "cell_type": "markdown",
   "id": "47194e27-46eb-4782-b0b1-da5441ca44f3",
   "metadata": {},
   "source": [
    "##### Print the model's accuracy results"
   ]
  },
  {
   "cell_type": "code",
   "execution_count": 14,
   "id": "a291862d-cf26-4e81-ab6c-a6be34e52c65",
   "metadata": {},
   "outputs": [
    {
     "name": "stdout",
     "output_type": "stream",
     "text": [
      "                   pre       rec       spe        f1       geo       iba       sup\n",
      "\n",
      "          0       0.97      0.91      0.77      0.94      0.84      0.71      2300\n",
      "          1       0.46      0.77      0.91      0.58      0.84      0.69       232\n",
      "\n",
      "avg / total       0.93      0.90      0.78      0.91      0.84      0.71      2532\n",
      "\n"
     ]
    }
   ],
   "source": [
    "print(classification_report_imbalanced(y_pred, y_test))"
   ]
  }
 ],
 "metadata": {
  "kernelspec": {
   "display_name": "dev",
   "language": "python",
   "name": "dev"
  },
  "language_info": {
   "codemirror_mode": {
    "name": "ipython",
    "version": 3
   },
   "file_extension": ".py",
   "mimetype": "text/x-python",
   "name": "python",
   "nbconvert_exporter": "python",
   "pygments_lexer": "ipython3",
   "version": "3.9.12"
  }
 },
 "nbformat": 4,
 "nbformat_minor": 5
}
