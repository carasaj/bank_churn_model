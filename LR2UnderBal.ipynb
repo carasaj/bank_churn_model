{
 "cells": [
  {
   "cell_type": "markdown",
   "id": "471bcd73-71ea-4267-8757-431ea8691856",
   "metadata": {},
   "source": [
    "### Import the necessary libraries"
   ]
  },
  {
   "cell_type": "code",
   "execution_count": 8,
   "id": "bc8d8bb2-f528-4a7e-9d7e-88e496c3065a",
   "metadata": {},
   "outputs": [],
   "source": [
    "import pandas as pd\n",
    "from sklearn.model_selection import train_test_split\n",
    "from sklearn.linear_model import LogisticRegression\n",
    "from imblearn.under_sampling import RandomUnderSampler\n",
    "from imblearn.metrics import classification_report_imbalanced\n",
    "from sklearn.preprocessing import OneHotEncoder\n",
    "from sklearn.preprocessing import StandardScaler"
   ]
  },
  {
   "cell_type": "markdown",
   "id": "58031d8e-0263-4551-aa1d-7729b50a3ba8",
   "metadata": {},
   "source": [
    "### Import the dataframe function that return the split train and test data\n",
    "##### This is the Logistic Regression classifier model that uses get_dummies, StandardScaler, encodes Gender and the Attrition (target) columns"
   ]
  },
  {
   "cell_type": "code",
   "execution_count": 9,
   "id": "a4c2fa6a-e6ca-4ddd-a7e0-90ccaacc5932",
   "metadata": {},
   "outputs": [],
   "source": [
    "from df import buildDataFrame_2\n",
    "X_train, X_test, y_train, y_test = buildDataFrame_2()"
   ]
  },
  {
   "cell_type": "markdown",
   "id": "e352edaf-54f8-44ce-96e0-948022209399",
   "metadata": {},
   "source": [
    "### Import the resampled data and the model, run the classification report\n",
    "##### This resampled data has been undersampled and the imbalanced classification report has been printed"
   ]
  },
  {
   "cell_type": "code",
   "execution_count": 10,
   "id": "699e3d62-eba8-4f18-bc4a-499be86643e1",
   "metadata": {},
   "outputs": [
    {
     "name": "stdout",
     "output_type": "stream",
     "text": [
      "                   pre       rec       spe        f1       geo       iba       sup\n",
      "\n",
      "          0       0.96      0.81      0.81      0.88      0.81      0.65      2143\n",
      "          1       0.43      0.81      0.81      0.56      0.81      0.65       389\n",
      "\n",
      "avg / total       0.88      0.81      0.81      0.83      0.81      0.65      2532\n",
      "\n"
     ]
    }
   ],
   "source": [
    "from balancers import sample_2\n",
    "sample_2(RandomUnderSampler, LogisticRegression, X_train, y_train, X_test, y_test)"
   ]
  },
  {
   "cell_type": "code",
   "execution_count": null,
   "id": "d9ad63d7-d361-4086-8183-ab81cc1e48b0",
   "metadata": {},
   "outputs": [],
   "source": []
  }
 ],
 "metadata": {
  "kernelspec": {
   "display_name": "dev",
   "language": "python",
   "name": "dev"
  },
  "language_info": {
   "codemirror_mode": {
    "name": "ipython",
    "version": 3
   },
   "file_extension": ".py",
   "mimetype": "text/x-python",
   "name": "python",
   "nbconvert_exporter": "python",
   "pygments_lexer": "ipython3",
   "version": "3.9.12"
  }
 },
 "nbformat": 4,
 "nbformat_minor": 5
}
