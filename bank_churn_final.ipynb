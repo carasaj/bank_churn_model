{
 "cells": [
  {
   "attachments": {},
   "cell_type": "markdown",
   "metadata": {},
   "source": [
    "## Import Statements\n",
    "### The libraries used are `pandas`, `pathlib`, `imblearn`, and `sklearn`. "
   ]
  },
  {
   "cell_type": "code",
   "execution_count": 36,
   "metadata": {},
   "outputs": [],
   "source": [
    "import pandas as pd\n",
    "from pathlib import Path\n",
    "from imblearn.metrics import classification_report_imbalanced\n",
    "from imblearn.over_sampling import SMOTE\n",
    "from sklearn.metrics import accuracy_score\n",
    "from sklearn.metrics import classification_report\n",
    "from sklearn.metrics import confusion_matrix\n",
    "from sklearn.preprocessing import StandardScaler\n",
    "from sklearn.compose import ColumnTransformer\n",
    "from sklearn.model_selection import train_test_split\n",
    "from sklearn.ensemble import GradientBoostingClassifier"
   ]
  },
  {
   "attachments": {},
   "cell_type": "markdown",
   "metadata": {},
   "source": [
    "## Import the data and create a dataframe\n",
    "1. Use `pandas` and `pathlib` to read the `BankChurners2.csv` CSV from the `Resources` folder.\n",
    "2. Sample the dataset to review the data."
   ]
  },
  {
   "cell_type": "code",
   "execution_count": 37,
   "metadata": {},
   "outputs": [
    {
     "data": {
      "text/html": [
       "<div>\n",
       "<style scoped>\n",
       "    .dataframe tbody tr th:only-of-type {\n",
       "        vertical-align: middle;\n",
       "    }\n",
       "\n",
       "    .dataframe tbody tr th {\n",
       "        vertical-align: top;\n",
       "    }\n",
       "\n",
       "    .dataframe thead th {\n",
       "        text-align: right;\n",
       "    }\n",
       "</style>\n",
       "<table border=\"1\" class=\"dataframe\">\n",
       "  <thead>\n",
       "    <tr style=\"text-align: right;\">\n",
       "      <th></th>\n",
       "      <th>CLIENTNUM</th>\n",
       "      <th>Attrition_Flag</th>\n",
       "      <th>Customer_Age</th>\n",
       "      <th>Gender</th>\n",
       "      <th>Dependent_count</th>\n",
       "      <th>Education_Level</th>\n",
       "      <th>Marital_Status</th>\n",
       "      <th>Income_Category</th>\n",
       "      <th>Card_Category</th>\n",
       "      <th>Months_on_book</th>\n",
       "      <th>...</th>\n",
       "      <th>Credit_Limit</th>\n",
       "      <th>Total_Revolving_Bal</th>\n",
       "      <th>Avg_Open_To_Buy</th>\n",
       "      <th>Total_Amt_Chng_Q4_Q1</th>\n",
       "      <th>Total_Trans_Amt</th>\n",
       "      <th>Total_Trans_Ct</th>\n",
       "      <th>Total_Ct_Chng_Q4_Q1</th>\n",
       "      <th>Avg_Utilization_Ratio</th>\n",
       "      <th>Naive_Bayes_Classifier_Attrition_Flag_Card_Category_Contacts_Count_12_mon_Dependent_count_Education_Level_Months_Inactive_12_mon_1</th>\n",
       "      <th>Naive_Bayes_Classifier_Attrition_Flag_Card_Category_Contacts_Count_12_mon_Dependent_count_Education_Level_Months_Inactive_12_mon_2</th>\n",
       "    </tr>\n",
       "  </thead>\n",
       "  <tbody>\n",
       "    <tr>\n",
       "      <th>2427</th>\n",
       "      <td>709623483</td>\n",
       "      <td>Existing Customer</td>\n",
       "      <td>56</td>\n",
       "      <td>M</td>\n",
       "      <td>2</td>\n",
       "      <td>High School</td>\n",
       "      <td>Married</td>\n",
       "      <td>$120K +</td>\n",
       "      <td>Blue</td>\n",
       "      <td>41</td>\n",
       "      <td>...</td>\n",
       "      <td>18442.0</td>\n",
       "      <td>1470</td>\n",
       "      <td>16972.0</td>\n",
       "      <td>0.491</td>\n",
       "      <td>1281</td>\n",
       "      <td>36</td>\n",
       "      <td>0.800</td>\n",
       "      <td>0.080</td>\n",
       "      <td>0.000090</td>\n",
       "      <td>0.99991</td>\n",
       "    </tr>\n",
       "    <tr>\n",
       "      <th>5788</th>\n",
       "      <td>719504433</td>\n",
       "      <td>Existing Customer</td>\n",
       "      <td>63</td>\n",
       "      <td>M</td>\n",
       "      <td>0</td>\n",
       "      <td>Unknown</td>\n",
       "      <td>Single</td>\n",
       "      <td>$40K - $60K</td>\n",
       "      <td>Silver</td>\n",
       "      <td>54</td>\n",
       "      <td>...</td>\n",
       "      <td>18064.0</td>\n",
       "      <td>1695</td>\n",
       "      <td>16369.0</td>\n",
       "      <td>0.838</td>\n",
       "      <td>3434</td>\n",
       "      <td>71</td>\n",
       "      <td>0.479</td>\n",
       "      <td>0.094</td>\n",
       "      <td>0.000258</td>\n",
       "      <td>0.99974</td>\n",
       "    </tr>\n",
       "    <tr>\n",
       "      <th>104</th>\n",
       "      <td>713572683</td>\n",
       "      <td>Existing Customer</td>\n",
       "      <td>44</td>\n",
       "      <td>M</td>\n",
       "      <td>3</td>\n",
       "      <td>High School</td>\n",
       "      <td>Unknown</td>\n",
       "      <td>$60K - $80K</td>\n",
       "      <td>Blue</td>\n",
       "      <td>25</td>\n",
       "      <td>...</td>\n",
       "      <td>1862.0</td>\n",
       "      <td>0</td>\n",
       "      <td>1862.0</td>\n",
       "      <td>0.883</td>\n",
       "      <td>1226</td>\n",
       "      <td>34</td>\n",
       "      <td>0.789</td>\n",
       "      <td>0.000</td>\n",
       "      <td>0.000067</td>\n",
       "      <td>0.99993</td>\n",
       "    </tr>\n",
       "    <tr>\n",
       "      <th>7840</th>\n",
       "      <td>817288458</td>\n",
       "      <td>Existing Customer</td>\n",
       "      <td>33</td>\n",
       "      <td>F</td>\n",
       "      <td>2</td>\n",
       "      <td>Graduate</td>\n",
       "      <td>Single</td>\n",
       "      <td>Less than $40K</td>\n",
       "      <td>Blue</td>\n",
       "      <td>19</td>\n",
       "      <td>...</td>\n",
       "      <td>5141.0</td>\n",
       "      <td>1737</td>\n",
       "      <td>3404.0</td>\n",
       "      <td>0.985</td>\n",
       "      <td>5859</td>\n",
       "      <td>82</td>\n",
       "      <td>0.783</td>\n",
       "      <td>0.338</td>\n",
       "      <td>0.000191</td>\n",
       "      <td>0.99981</td>\n",
       "    </tr>\n",
       "    <tr>\n",
       "      <th>782</th>\n",
       "      <td>710831133</td>\n",
       "      <td>Existing Customer</td>\n",
       "      <td>42</td>\n",
       "      <td>M</td>\n",
       "      <td>3</td>\n",
       "      <td>Unknown</td>\n",
       "      <td>Married</td>\n",
       "      <td>$80K - $120K</td>\n",
       "      <td>Blue</td>\n",
       "      <td>36</td>\n",
       "      <td>...</td>\n",
       "      <td>18085.0</td>\n",
       "      <td>1487</td>\n",
       "      <td>16598.0</td>\n",
       "      <td>0.792</td>\n",
       "      <td>1582</td>\n",
       "      <td>47</td>\n",
       "      <td>1.043</td>\n",
       "      <td>0.082</td>\n",
       "      <td>0.000130</td>\n",
       "      <td>0.99987</td>\n",
       "    </tr>\n",
       "  </tbody>\n",
       "</table>\n",
       "<p>5 rows × 23 columns</p>\n",
       "</div>"
      ],
      "text/plain": [
       "      CLIENTNUM     Attrition_Flag  Customer_Age Gender  Dependent_count  \\\n",
       "2427  709623483  Existing Customer            56      M                2   \n",
       "5788  719504433  Existing Customer            63      M                0   \n",
       "104   713572683  Existing Customer            44      M                3   \n",
       "7840  817288458  Existing Customer            33      F                2   \n",
       "782   710831133  Existing Customer            42      M                3   \n",
       "\n",
       "     Education_Level Marital_Status Income_Category Card_Category  \\\n",
       "2427     High School        Married         $120K +          Blue   \n",
       "5788         Unknown         Single     $40K - $60K        Silver   \n",
       "104      High School        Unknown     $60K - $80K          Blue   \n",
       "7840        Graduate         Single  Less than $40K          Blue   \n",
       "782          Unknown        Married    $80K - $120K          Blue   \n",
       "\n",
       "      Months_on_book  ...  Credit_Limit  Total_Revolving_Bal  Avg_Open_To_Buy  \\\n",
       "2427              41  ...       18442.0                 1470          16972.0   \n",
       "5788              54  ...       18064.0                 1695          16369.0   \n",
       "104               25  ...        1862.0                    0           1862.0   \n",
       "7840              19  ...        5141.0                 1737           3404.0   \n",
       "782               36  ...       18085.0                 1487          16598.0   \n",
       "\n",
       "      Total_Amt_Chng_Q4_Q1  Total_Trans_Amt  Total_Trans_Ct  \\\n",
       "2427                 0.491             1281              36   \n",
       "5788                 0.838             3434              71   \n",
       "104                  0.883             1226              34   \n",
       "7840                 0.985             5859              82   \n",
       "782                  0.792             1582              47   \n",
       "\n",
       "      Total_Ct_Chng_Q4_Q1  Avg_Utilization_Ratio  \\\n",
       "2427                0.800                  0.080   \n",
       "5788                0.479                  0.094   \n",
       "104                 0.789                  0.000   \n",
       "7840                0.783                  0.338   \n",
       "782                 1.043                  0.082   \n",
       "\n",
       "      Naive_Bayes_Classifier_Attrition_Flag_Card_Category_Contacts_Count_12_mon_Dependent_count_Education_Level_Months_Inactive_12_mon_1  \\\n",
       "2427                                           0.000090                                                                                    \n",
       "5788                                           0.000258                                                                                    \n",
       "104                                            0.000067                                                                                    \n",
       "7840                                           0.000191                                                                                    \n",
       "782                                            0.000130                                                                                    \n",
       "\n",
       "      Naive_Bayes_Classifier_Attrition_Flag_Card_Category_Contacts_Count_12_mon_Dependent_count_Education_Level_Months_Inactive_12_mon_2  \n",
       "2427                                            0.99991                                                                                   \n",
       "5788                                            0.99974                                                                                   \n",
       "104                                             0.99993                                                                                   \n",
       "7840                                            0.99981                                                                                   \n",
       "782                                             0.99987                                                                                   \n",
       "\n",
       "[5 rows x 23 columns]"
      ]
     },
     "execution_count": 37,
     "metadata": {},
     "output_type": "execute_result"
    }
   ],
   "source": [
    "starter_df = pd.read_csv(Path(\"c://users/ajcth/documents/github/bank_churn_project/Resources/BankChurnersPrimary.csv\"))\n",
    "starter_df.sample(5)"
   ]
  },
  {
   "attachments": {},
   "cell_type": "markdown",
   "metadata": {},
   "source": [
    "## Change some of the longer column names to make the original dataframe easily readable"
   ]
  },
  {
   "cell_type": "code",
   "execution_count": 38,
   "metadata": {},
   "outputs": [],
   "source": [
    "replacement_column_names = {'Attrition_Flag': 'Status',\n",
    "        'Customer_Age': 'Age',\n",
    "        'Education_Level': 'Education',\n",
    "        'Dependent_count': 'Dependents',\n",
    "        'Income_Category': 'Income',\n",
    "        'Card_Category': 'Card_Type',\n",
    "        'Months_on_book': 'Tenure(month)'\n",
    "        }\n",
    "starter_df.rename(columns=replacement_column_names, inplace=True)"
   ]
  },
  {
   "attachments": {},
   "cell_type": "markdown",
   "metadata": {},
   "source": [
    "## Drop any Unknown or NaN values"
   ]
  },
  {
   "cell_type": "code",
   "execution_count": 39,
   "metadata": {},
   "outputs": [],
   "source": [
    "starter_df = starter_df[starter_df != 'Unknown'].dropna()"
   ]
  },
  {
   "attachments": {},
   "cell_type": "markdown",
   "metadata": {},
   "source": [
    "## Remove any columns that won't be used.\n",
    "Naive Bayes columns can't be used (it's calculated from features and target).\n",
    "\n",
    "CLIENTNUM is irrelevant."
   ]
  },
  {
   "cell_type": "code",
   "execution_count": 40,
   "metadata": {},
   "outputs": [],
   "source": [
    "starter_df.drop(columns=[\n",
    "'Naive_Bayes_Classifier_Attrition_Flag_Card_Category_Contacts_Count_12_mon_Dependent_count_Education_Level_Months_Inactive_12_mon_2', \n",
    "'Naive_Bayes_Classifier_Attrition_Flag_Card_Category_Contacts_Count_12_mon_Dependent_count_Education_Level_Months_Inactive_12_mon_1',\n",
    "'CLIENTNUM'\n",
    "], \n",
    "inplace= True)"
   ]
  },
  {
   "attachments": {},
   "cell_type": "markdown",
   "metadata": {},
   "source": [
    "## Evaluate the Education column for use as a feature\n",
    "The Education values are ranked from uneducated to doctorate, and is a gradient rather than ambiguous classifications. \n",
    "\n",
    "The ranks will be converted to numericals and specified as datatype `int`.\n",
    "1. Uneducated = 0\n",
    "2. Highschool = 1\n",
    "3. College = 2\n",
    "4. Graduate = 3\n",
    "5. Post-Grad = 4\n",
    "6. Doctorate = 5"
   ]
  },
  {
   "cell_type": "code",
   "execution_count": 41,
   "metadata": {},
   "outputs": [],
   "source": [
    "starter_df = starter_df.replace({'Education' : {\n",
    "'Uneducated': 0, \n",
    "'High School': 1, \n",
    "'College' : 2, \n",
    "'Graduate' :  3, \n",
    "'Post-Graduate' : 4, \n",
    "'Doctorate' : 5\n",
    "}})\n",
    "starter_df.Education = starter_df.Education.astype(int)"
   ]
  },
  {
   "attachments": {},
   "cell_type": "markdown",
   "metadata": {},
   "source": [
    "## Evaluate the Card Type column for use as a feature\n",
    "The Card Type values are ranked from blue to platinum, and is a gradient rather than ambiguous classifications. The ranks will be converted to numericals and specified as datatype `int`.\n",
    "1. Blue = 0\n",
    "2. Silver = 1\n",
    "3. Gold = 2\n",
    "4. Platinum = 3\n"
   ]
  },
  {
   "cell_type": "code",
   "execution_count": 42,
   "metadata": {},
   "outputs": [],
   "source": [
    "starter_df = starter_df.replace({'Card_Type' : {\n",
    "'Blue': 0, \n",
    "'Silver': 1, \n",
    "'Gold' : 2, \n",
    "'Platinum' : 3\n",
    "}})\n",
    "starter_df.Card_Type = starter_df.Card_Type.astype(int)"
   ]
  },
  {
   "attachments": {},
   "cell_type": "markdown",
   "metadata": {},
   "source": [
    "## Evaluate the Gender column for use as a feature\n",
    "Gender is a binary classification, so we don't need to OneHotEncode.\n",
    "The values will be converted to numericals and specified as datatype `int`.\n",
    "1. Male = 0\n",
    "2. Female = 1 \n"
   ]
  },
  {
   "cell_type": "code",
   "execution_count": 43,
   "metadata": {},
   "outputs": [],
   "source": [
    "starter_df = starter_df.replace({'Gender' : {\n",
    "'M': 0, \n",
    "'F': 1\n",
    "}})\n",
    "starter_df.Gender = starter_df.Gender.astype(int)"
   ]
  },
  {
   "attachments": {},
   "cell_type": "markdown",
   "metadata": {},
   "source": [
    "## Evaluate the Status column for use as the target\n",
    "Status is a binary classification, so we don't need to OneHotEncode.\n",
    "The values will be converted to numericals and specified as datatype `int`.\n",
    "1. Attrited Customer = 0\n",
    "2. Existing Customer = 1 "
   ]
  },
  {
   "cell_type": "code",
   "execution_count": 44,
   "metadata": {},
   "outputs": [],
   "source": [
    "starter_df = starter_df.replace({'Status' : {\n",
    "'Attrited Customer': 0, \n",
    "'Existing Customer': 1\n",
    "}})\n",
    "starter_df.Status = starter_df.Status.astype(int)"
   ]
  },
  {
   "attachments": {},
   "cell_type": "markdown",
   "metadata": {},
   "source": [
    "## Perform feature creation on the Dependents and Marital_Status features to create the Marital_Dependent_Ratio feature\n",
    "The values will be converted to numericals and specified as datatype `int`.\n",
    "Divorced and Single will be combined, as they are both single income sources.\n",
    "1. Divorced = 1\n",
    "2. Single = 1 \n",
    "3. Married = 2\n",
    "\n",
    "The formula for Marital_Dependent_Ratio is as follows:\n",
    "\n",
    "( Marital_Status / (Dependents + 1) / 2 )\n",
    "\n",
    "The original Marital_Status and Dependents columns will be dropped in place of the Marital_Dependent_Ratio column."
   ]
  },
  {
   "cell_type": "code",
   "execution_count": 45,
   "metadata": {},
   "outputs": [],
   "source": [
    "starter_df = starter_df.replace({'Marital_Status' : {\n",
    "'Divorced': 1, \n",
    "'Single': 1, \n",
    "'Married' : 2\n",
    "}})\n",
    "starter_df.Marital_Status = starter_df.Marital_Status.astype(int)\n",
    "starter_df['Marital_Dependent_Ratio'] = ((starter_df['Marital_Status'] / (starter_df['Dependents'] + 1)) / 2).round(2)\n",
    "starter_df.drop(columns=['Marital_Status', 'Dependents'], inplace=True)\n"
   ]
  },
  {
   "attachments": {},
   "cell_type": "markdown",
   "metadata": {},
   "source": [
    "## Perform feature creation on the Avg_Open_To_Buy and Credit_Limit features to create the Avg_Trans_Value feature. Its a simple ratio.\n",
    "The original Avg_Open_To_Buy and Credit_Limit columns will be dropped in place of the Credit_Usage column."
   ]
  },
  {
   "cell_type": "code",
   "execution_count": 46,
   "metadata": {},
   "outputs": [],
   "source": [
    "starter_df['Credit_Usage'] = (starter_df['Avg_Open_To_Buy'] / starter_df['Credit_Limit']).round(2)\n",
    "starter_df.drop(columns=['Avg_Open_To_Buy', 'Credit_Limit'], inplace=True)"
   ]
  },
  {
   "attachments": {},
   "cell_type": "markdown",
   "metadata": {},
   "source": [
    "## Perform feature creation on the Total_Trans_Amt and Total_Trans_Ct features to create the Avg_Trans_Value feature. Its a simple ratio.\n",
    "The original Total_Trans_Amt and Total_Trans_Ct columns will be dropped in place of the Avg_Trans_Value column."
   ]
  },
  {
   "cell_type": "code",
   "execution_count": 47,
   "metadata": {},
   "outputs": [],
   "source": [
    "starter_df['Avg_Trans_Value'] = (starter_df['Total_Trans_Amt'] / starter_df['Total_Trans_Ct']).round(2)\n",
    "starter_df.drop(columns=['Total_Trans_Amt', 'Total_Trans_Ct'], inplace=True)"
   ]
  },
  {
   "attachments": {},
   "cell_type": "markdown",
   "metadata": {},
   "source": [
    "## Perform feature creation on the Tenure(month) and Age features to create the Tenure_By_Age feature. Its a simple ratio.\n",
    "\n",
    "The original Tenure(month) and Age columns will be dropped in place of the Tenure_By_Age column."
   ]
  },
  {
   "cell_type": "code",
   "execution_count": 48,
   "metadata": {},
   "outputs": [],
   "source": [
    "#Do feature creation to make a ratio between age and tenure\n",
    "starter_df['Tenure_By_Age'] = (starter_df['Tenure(month)'] / starter_df['Age']).round(2)\n",
    "starter_df.drop(columns=['Tenure(month)', 'Age'], inplace=True)"
   ]
  },
  {
   "attachments": {},
   "cell_type": "markdown",
   "metadata": {},
   "source": [
    "## Evaluate the Income column for use as the target\n",
    " The Income values are ranked in blocks, and is a gradient rather than ambiguous classifications. The ranks will be converted to numericals and specified as datatype `int`."
   ]
  },
  {
   "cell_type": "code",
   "execution_count": 49,
   "metadata": {},
   "outputs": [],
   "source": [
    "starter_df = starter_df.replace({'Income' : {\n",
    "'Less than $40K': 0, \n",
    "'$40K - $60K': 1, \n",
    "'$80K - $120K' : 2, \n",
    "'$60K - $80K' : 3, \n",
    "'$120K +' : 4\n",
    "}})\n",
    "starter_df.Income = starter_df.Income.astype(int)"
   ]
  },
  {
   "attachments": {},
   "cell_type": "markdown",
   "metadata": {},
   "source": [
    "## Review the new features"
   ]
  },
  {
   "cell_type": "code",
   "execution_count": 50,
   "metadata": {},
   "outputs": [
    {
     "data": {
      "text/plain": [
       "Status                        int32\n",
       "Gender                        int32\n",
       "Education                     int32\n",
       "Income                        int32\n",
       "Card_Type                     int32\n",
       "Total_Relationship_Count      int64\n",
       "Months_Inactive_12_mon        int64\n",
       "Contacts_Count_12_mon         int64\n",
       "Total_Revolving_Bal           int64\n",
       "Total_Amt_Chng_Q4_Q1        float64\n",
       "Total_Ct_Chng_Q4_Q1         float64\n",
       "Avg_Utilization_Ratio       float64\n",
       "Marital_Dependent_Ratio     float64\n",
       "Credit_Usage                float64\n",
       "Avg_Trans_Value             float64\n",
       "Tenure_By_Age               float64\n",
       "dtype: object"
      ]
     },
     "execution_count": 50,
     "metadata": {},
     "output_type": "execute_result"
    }
   ],
   "source": [
    "starter_df.dtypes"
   ]
  },
  {
   "cell_type": "code",
   "execution_count": 51,
   "metadata": {},
   "outputs": [
    {
     "data": {
      "text/html": [
       "<div>\n",
       "<style scoped>\n",
       "    .dataframe tbody tr th:only-of-type {\n",
       "        vertical-align: middle;\n",
       "    }\n",
       "\n",
       "    .dataframe tbody tr th {\n",
       "        vertical-align: top;\n",
       "    }\n",
       "\n",
       "    .dataframe thead th {\n",
       "        text-align: right;\n",
       "    }\n",
       "</style>\n",
       "<table border=\"1\" class=\"dataframe\">\n",
       "  <thead>\n",
       "    <tr style=\"text-align: right;\">\n",
       "      <th></th>\n",
       "      <th>Status</th>\n",
       "      <th>Gender</th>\n",
       "      <th>Education</th>\n",
       "      <th>Income</th>\n",
       "      <th>Card_Type</th>\n",
       "      <th>Total_Relationship_Count</th>\n",
       "      <th>Months_Inactive_12_mon</th>\n",
       "      <th>Contacts_Count_12_mon</th>\n",
       "      <th>Total_Revolving_Bal</th>\n",
       "      <th>Total_Amt_Chng_Q4_Q1</th>\n",
       "      <th>Total_Ct_Chng_Q4_Q1</th>\n",
       "      <th>Avg_Utilization_Ratio</th>\n",
       "      <th>Marital_Dependent_Ratio</th>\n",
       "      <th>Credit_Usage</th>\n",
       "      <th>Avg_Trans_Value</th>\n",
       "      <th>Tenure_By_Age</th>\n",
       "    </tr>\n",
       "  </thead>\n",
       "  <tbody>\n",
       "    <tr>\n",
       "      <th>3911</th>\n",
       "      <td>1</td>\n",
       "      <td>1</td>\n",
       "      <td>0</td>\n",
       "      <td>0</td>\n",
       "      <td>0</td>\n",
       "      <td>6</td>\n",
       "      <td>2</td>\n",
       "      <td>4</td>\n",
       "      <td>1798</td>\n",
       "      <td>0.847</td>\n",
       "      <td>0.692</td>\n",
       "      <td>0.771</td>\n",
       "      <td>0.17</td>\n",
       "      <td>0.23</td>\n",
       "      <td>61.53</td>\n",
       "      <td>0.73</td>\n",
       "    </tr>\n",
       "    <tr>\n",
       "      <th>7709</th>\n",
       "      <td>1</td>\n",
       "      <td>1</td>\n",
       "      <td>4</td>\n",
       "      <td>0</td>\n",
       "      <td>0</td>\n",
       "      <td>4</td>\n",
       "      <td>2</td>\n",
       "      <td>3</td>\n",
       "      <td>878</td>\n",
       "      <td>0.777</td>\n",
       "      <td>0.900</td>\n",
       "      <td>0.243</td>\n",
       "      <td>1.00</td>\n",
       "      <td>0.76</td>\n",
       "      <td>71.26</td>\n",
       "      <td>0.91</td>\n",
       "    </tr>\n",
       "    <tr>\n",
       "      <th>3001</th>\n",
       "      <td>1</td>\n",
       "      <td>1</td>\n",
       "      <td>3</td>\n",
       "      <td>0</td>\n",
       "      <td>1</td>\n",
       "      <td>4</td>\n",
       "      <td>3</td>\n",
       "      <td>2</td>\n",
       "      <td>1260</td>\n",
       "      <td>1.138</td>\n",
       "      <td>0.733</td>\n",
       "      <td>0.103</td>\n",
       "      <td>0.12</td>\n",
       "      <td>0.90</td>\n",
       "      <td>43.82</td>\n",
       "      <td>0.85</td>\n",
       "    </tr>\n",
       "    <tr>\n",
       "      <th>5591</th>\n",
       "      <td>1</td>\n",
       "      <td>1</td>\n",
       "      <td>3</td>\n",
       "      <td>0</td>\n",
       "      <td>0</td>\n",
       "      <td>6</td>\n",
       "      <td>3</td>\n",
       "      <td>2</td>\n",
       "      <td>644</td>\n",
       "      <td>0.673</td>\n",
       "      <td>0.907</td>\n",
       "      <td>0.297</td>\n",
       "      <td>0.25</td>\n",
       "      <td>0.70</td>\n",
       "      <td>56.79</td>\n",
       "      <td>0.81</td>\n",
       "    </tr>\n",
       "    <tr>\n",
       "      <th>9074</th>\n",
       "      <td>0</td>\n",
       "      <td>0</td>\n",
       "      <td>4</td>\n",
       "      <td>3</td>\n",
       "      <td>0</td>\n",
       "      <td>5</td>\n",
       "      <td>3</td>\n",
       "      <td>2</td>\n",
       "      <td>0</td>\n",
       "      <td>1.005</td>\n",
       "      <td>0.590</td>\n",
       "      <td>0.000</td>\n",
       "      <td>0.50</td>\n",
       "      <td>1.00</td>\n",
       "      <td>85.03</td>\n",
       "      <td>0.70</td>\n",
       "    </tr>\n",
       "  </tbody>\n",
       "</table>\n",
       "</div>"
      ],
      "text/plain": [
       "      Status  Gender  Education  Income  Card_Type  Total_Relationship_Count  \\\n",
       "3911       1       1          0       0          0                         6   \n",
       "7709       1       1          4       0          0                         4   \n",
       "3001       1       1          3       0          1                         4   \n",
       "5591       1       1          3       0          0                         6   \n",
       "9074       0       0          4       3          0                         5   \n",
       "\n",
       "      Months_Inactive_12_mon  Contacts_Count_12_mon  Total_Revolving_Bal  \\\n",
       "3911                       2                      4                 1798   \n",
       "7709                       2                      3                  878   \n",
       "3001                       3                      2                 1260   \n",
       "5591                       3                      2                  644   \n",
       "9074                       3                      2                    0   \n",
       "\n",
       "      Total_Amt_Chng_Q4_Q1  Total_Ct_Chng_Q4_Q1  Avg_Utilization_Ratio  \\\n",
       "3911                 0.847                0.692                  0.771   \n",
       "7709                 0.777                0.900                  0.243   \n",
       "3001                 1.138                0.733                  0.103   \n",
       "5591                 0.673                0.907                  0.297   \n",
       "9074                 1.005                0.590                  0.000   \n",
       "\n",
       "      Marital_Dependent_Ratio  Credit_Usage  Avg_Trans_Value  Tenure_By_Age  \n",
       "3911                     0.17          0.23            61.53           0.73  \n",
       "7709                     1.00          0.76            71.26           0.91  \n",
       "3001                     0.12          0.90            43.82           0.85  \n",
       "5591                     0.25          0.70            56.79           0.81  \n",
       "9074                     0.50          1.00            85.03           0.70  "
      ]
     },
     "execution_count": 51,
     "metadata": {},
     "output_type": "execute_result"
    }
   ],
   "source": [
    "starter_df.sample(5)"
   ]
  },
  {
   "attachments": {},
   "cell_type": "markdown",
   "metadata": {},
   "source": [
    "## Define our features(X) and our target(y)"
   ]
  },
  {
   "cell_type": "code",
   "execution_count": 52,
   "metadata": {},
   "outputs": [],
   "source": [
    "y = starter_df['Status']\n",
    "X = starter_df.drop(columns=['Status'])"
   ]
  },
  {
   "attachments": {},
   "cell_type": "markdown",
   "metadata": {},
   "source": [
    "## Split features and target in to training and testing sets"
   ]
  },
  {
   "cell_type": "code",
   "execution_count": 53,
   "metadata": {},
   "outputs": [],
   "source": [
    "X_train, X_test, y_train, y_test = train_test_split(X, y, random_state=1)"
   ]
  },
  {
   "attachments": {},
   "cell_type": "markdown",
   "metadata": {},
   "source": [
    "## Using StandardScaler, scale all numerical/float values that don't represent ambiguous categories\n",
    "### StandardScaler will be used within ColumnTransformer. This allows for the scaling of specified columns within our X_train and X_test set.\n",
    "It's critical that the StandardScaler is only fit to our X_train. Both X_train and X_test will be transformed, but the StandardScaler will only be fit to X_train.This prevents the model from 'cheating'."
   ]
  },
  {
   "cell_type": "code",
   "execution_count": 54,
   "metadata": {},
   "outputs": [],
   "source": [
    "scaler = StandardScaler()\n",
    "\n",
    "col_tran= ColumnTransformer([\n",
    "('Total_Revolving_Bal_Scaled', scaler, ['Total_Revolving_Bal']),\n",
    "('Education_Scaled', scaler, ['Education']),\n",
    "('Income_Scaled', scaler, ['Income']),\n",
    "('Card_Type_Scaled', scaler, ['Card_Type']),\n",
    "('Months_Inactive_12_mon_scaled', scaler, ['Months_Inactive_12_mon']),\n",
    "('Credit_Usage_Scaled', scaler, ['Credit_Usage']),\n",
    "('Avg_Trans_Value_Scaled', scaler, ['Avg_Trans_Value']),\n",
    "('Tenure_By_Age_Scaled', scaler, ['Tenure_By_Age']),\n",
    "('Avg_Util_Ratio_Scaled', scaler, ['Avg_Utilization_Ratio']),\n",
    "('Total_Relationship_Count_Scaled', scaler, ['Total_Relationship_Count']),\n",
    "('Contacts_Count_12_mon_scaled', scaler, ['Contacts_Count_12_mon']),\n",
    "('Total_Amt_Chng_Q4_Q1_scaled', scaler, ['Total_Amt_Chng_Q4_Q1']),\n",
    "('Total_Ct_Chng_Q4_Q1_scaled', scaler, ['Total_Ct_Chng_Q4_Q1']),\n",
    "('Marital_Dependent_Ratio_Scaled', scaler, ['Marital_Dependent_Ratio'])\n",
    "])\n",
    "\n",
    "\n",
    "X_train = col_tran.fit_transform(X_train)\n",
    "X_test = col_tran.transform(X_test)"
   ]
  },
  {
   "attachments": {},
   "cell_type": "markdown",
   "metadata": {},
   "source": [
    "## Use SMOTE to add synthetic data and balance our target/feature value count\n",
    "This will only be done on the training data."
   ]
  },
  {
   "cell_type": "code",
   "execution_count": 55,
   "metadata": {},
   "outputs": [],
   "source": [
    "oversample = SMOTE()\n",
    "X_train, y_train = oversample.fit_resample(X_train, y_train)"
   ]
  },
  {
   "attachments": {},
   "cell_type": "markdown",
   "metadata": {},
   "source": [
    "## Create an instance of the GradientBoostingClassifier model\n",
    "Hyperparameter tuning was mostly unhelpful; only two hyperparameters have been changed from default values.\n",
    "1. n_estimators = 500\n",
    "2. random_state= 2"
   ]
  },
  {
   "cell_type": "code",
   "execution_count": 56,
   "metadata": {},
   "outputs": [],
   "source": [
    "gbc_model = GradientBoostingClassifier(\n",
    "n_estimators=500,                 #default = 100    range = 1-inf\n",
    "random_state= 2,                  #default = None   range = 1-inf\n",
    "subsample= 1,                     #default = 1      range = 0.-1\n",
    "min_samples_split = 2,            #default = 2      range = 2-inf\n",
    "max_depth=3,                      #default = 3      range = 1-inf\n",
    "min_impurity_decrease=0,          #default = 0      range = 0 - inf\n",
    "min_samples_leaf = 1,             #default = 1      range = 1 - inf\n",
    "min_weight_fraction_leaf = 0,     #default = 0      range =0 - 0.5\n",
    "max_leaf_nodes = None,            #default = None   range = 2-inf\n",
    "learning_rate = 0.1               #default=0.1      range 0.0-inf\n",
    ")"
   ]
  },
  {
   "attachments": {},
   "cell_type": "markdown",
   "metadata": {},
   "source": [
    "## Fit the model on the training data"
   ]
  },
  {
   "cell_type": "code",
   "execution_count": 57,
   "metadata": {},
   "outputs": [
    {
     "data": {
      "text/plain": [
       "GradientBoostingClassifier(min_impurity_decrease=0, min_weight_fraction_leaf=0,\n",
       "                           n_estimators=500, random_state=2, subsample=1)"
      ]
     },
     "execution_count": 57,
     "metadata": {},
     "output_type": "execute_result"
    }
   ],
   "source": [
    "gbc_model.fit(X_train, y_train)"
   ]
  },
  {
   "attachments": {},
   "cell_type": "markdown",
   "metadata": {},
   "source": [
    "## Make predictions on the test data"
   ]
  },
  {
   "cell_type": "code",
   "execution_count": 58,
   "metadata": {},
   "outputs": [],
   "source": [
    "gbc_test_predictions = gbc_model.predict(X_test)"
   ]
  },
  {
   "attachments": {},
   "cell_type": "markdown",
   "metadata": {},
   "source": [
    "## Evaluate the model's performance"
   ]
  },
  {
   "cell_type": "code",
   "execution_count": 59,
   "metadata": {},
   "outputs": [
    {
     "name": "stdout",
     "output_type": "stream",
     "text": [
      "Accuracy: 92.60%\n"
     ]
    }
   ],
   "source": [
    "accuracy = accuracy_score(y_test, gbc_test_predictions)\n",
    "print(\"Accuracy: {:.2f}%\".format(accuracy * 100))"
   ]
  },
  {
   "attachments": {},
   "cell_type": "markdown",
   "metadata": {},
   "source": [
    "## Generate a confusion matrix"
   ]
  },
  {
   "cell_type": "code",
   "execution_count": 60,
   "metadata": {},
   "outputs": [
    {
     "name": "stdout",
     "output_type": "stream",
     "text": [
      "[[ 200   77]\n",
      " [  54 1440]]\n"
     ]
    }
   ],
   "source": [
    "gbc_test_matrix = confusion_matrix(y_test, gbc_test_predictions)\n",
    "print(gbc_test_matrix)"
   ]
  },
  {
   "attachments": {},
   "cell_type": "markdown",
   "metadata": {},
   "source": [
    "## Generate a classification report"
   ]
  },
  {
   "cell_type": "code",
   "execution_count": 61,
   "metadata": {},
   "outputs": [
    {
     "name": "stdout",
     "output_type": "stream",
     "text": [
      "              precision    recall  f1-score   support\n",
      "\n",
      "           0       0.79      0.72      0.75       277\n",
      "           1       0.95      0.96      0.96      1494\n",
      "\n",
      "    accuracy                           0.93      1771\n",
      "   macro avg       0.87      0.84      0.85      1771\n",
      "weighted avg       0.92      0.93      0.92      1771\n",
      "\n"
     ]
    }
   ],
   "source": [
    "gbc_testing_report = classification_report(y_test, gbc_test_predictions)\n",
    "print(gbc_testing_report)"
   ]
  },
  {
   "attachments": {},
   "cell_type": "markdown",
   "metadata": {},
   "source": [
    "## Generate an imbalanced classification report"
   ]
  },
  {
   "cell_type": "code",
   "execution_count": 62,
   "metadata": {},
   "outputs": [
    {
     "name": "stdout",
     "output_type": "stream",
     "text": [
      "                   pre       rec       spe        f1       geo       iba       sup\n",
      "\n",
      "          0       0.79      0.72      0.96      0.75      0.83      0.68       277\n",
      "          1       0.95      0.96      0.72      0.96      0.83      0.71      1494\n",
      "\n",
      "avg / total       0.92      0.93      0.76      0.92      0.83      0.71      1771\n",
      "\n"
     ]
    }
   ],
   "source": [
    "imb__gbc_testing_report = classification_report_imbalanced(y_test, gbc_test_predictions)\n",
    "print(imb__gbc_testing_report)"
   ]
  }
 ],
 "metadata": {
  "kernelspec": {
   "display_name": "dev",
   "language": "python",
   "name": "python3"
  },
  "language_info": {
   "codemirror_mode": {
    "name": "ipython",
    "version": 3
   },
   "file_extension": ".py",
   "mimetype": "text/x-python",
   "name": "python",
   "nbconvert_exporter": "python",
   "pygments_lexer": "ipython3",
   "version": "3.7.13"
  },
  "orig_nbformat": 4,
  "vscode": {
   "interpreter": {
    "hash": "28515e2b63b40114f6e8c1f789cf21b6d4b349a50273d5a1dcb37706cefab85d"
   }
  }
 },
 "nbformat": 4,
 "nbformat_minor": 2
}
