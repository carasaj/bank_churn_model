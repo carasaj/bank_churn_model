{
 "cells": [
  {
   "attachments": {},
   "cell_type": "markdown",
   "metadata": {},
   "source": [
    "## Import Statements\n",
    "### The libraries used are `pandas`, `pathlib`, `imblearn`, and `sklearn`. "
   ]
  },
  {
   "cell_type": "code",
   "execution_count": 8,
   "metadata": {},
   "outputs": [],
   "source": [
    "import pandas as pd\n",
    "from pathlib import Path\n",
    "from imblearn.metrics import classification_report_imbalanced\n",
    "from imblearn.over_sampling import SMOTE\n",
    "from sklearn.metrics import accuracy_score\n",
    "from sklearn.metrics import classification_report\n",
    "from sklearn.metrics import confusion_matrix\n",
    "from sklearn.preprocessing import StandardScaler\n",
    "from sklearn.compose import ColumnTransformer\n",
    "from sklearn.model_selection import train_test_split\n",
    "from sklearn.ensemble import GradientBoostingClassifier"
   ]
  },
  {
   "attachments": {},
   "cell_type": "markdown",
   "metadata": {},
   "source": [
    "## Import the data and create a dataframe\n",
    "1. Use `pandas` and `pathlib` to read the `BankChurners2.csv` CSV from the `Resources` folder.\n",
    "2. Sample the dataset to review the data."
   ]
  },
  {
   "cell_type": "code",
   "execution_count": 9,
   "metadata": {},
   "outputs": [
    {
     "data": {
      "text/html": [
       "<div>\n",
       "<style scoped>\n",
       "    .dataframe tbody tr th:only-of-type {\n",
       "        vertical-align: middle;\n",
       "    }\n",
       "\n",
       "    .dataframe tbody tr th {\n",
       "        vertical-align: top;\n",
       "    }\n",
       "\n",
       "    .dataframe thead th {\n",
       "        text-align: right;\n",
       "    }\n",
       "</style>\n",
       "<table border=\"1\" class=\"dataframe\">\n",
       "  <thead>\n",
       "    <tr style=\"text-align: right;\">\n",
       "      <th></th>\n",
       "      <th>CLIENTNUM</th>\n",
       "      <th>Attrition_Flag</th>\n",
       "      <th>Customer_Age</th>\n",
       "      <th>Gender</th>\n",
       "      <th>Dependent_count</th>\n",
       "      <th>Education_Level</th>\n",
       "      <th>Marital_Status</th>\n",
       "      <th>Income_Category</th>\n",
       "      <th>Card_Category</th>\n",
       "      <th>Months_on_book</th>\n",
       "      <th>...</th>\n",
       "      <th>Credit_Limit</th>\n",
       "      <th>Total_Revolving_Bal</th>\n",
       "      <th>Avg_Open_To_Buy</th>\n",
       "      <th>Total_Amt_Chng_Q4_Q1</th>\n",
       "      <th>Total_Trans_Amt</th>\n",
       "      <th>Total_Trans_Ct</th>\n",
       "      <th>Total_Ct_Chng_Q4_Q1</th>\n",
       "      <th>Avg_Utilization_Ratio</th>\n",
       "      <th>Naive_Bayes_Classifier_Attrition_Flag_Card_Category_Contacts_Count_12_mon_Dependent_count_Education_Level_Months_Inactive_12_mon_1</th>\n",
       "      <th>Naive_Bayes_Classifier_Attrition_Flag_Card_Category_Contacts_Count_12_mon_Dependent_count_Education_Level_Months_Inactive_12_mon_2</th>\n",
       "    </tr>\n",
       "  </thead>\n",
       "  <tbody>\n",
       "    <tr>\n",
       "      <th>2552</th>\n",
       "      <td>714120258</td>\n",
       "      <td>Existing Customer</td>\n",
       "      <td>37</td>\n",
       "      <td>M</td>\n",
       "      <td>2</td>\n",
       "      <td>Uneducated</td>\n",
       "      <td>Divorced</td>\n",
       "      <td>$80K - $120K</td>\n",
       "      <td>Blue</td>\n",
       "      <td>36</td>\n",
       "      <td>...</td>\n",
       "      <td>2281.0</td>\n",
       "      <td>1677</td>\n",
       "      <td>604.0</td>\n",
       "      <td>1.027</td>\n",
       "      <td>2735</td>\n",
       "      <td>58</td>\n",
       "      <td>1.071</td>\n",
       "      <td>0.735</td>\n",
       "      <td>0.000185</td>\n",
       "      <td>0.99982</td>\n",
       "    </tr>\n",
       "    <tr>\n",
       "      <th>4971</th>\n",
       "      <td>789670533</td>\n",
       "      <td>Existing Customer</td>\n",
       "      <td>41</td>\n",
       "      <td>F</td>\n",
       "      <td>2</td>\n",
       "      <td>High School</td>\n",
       "      <td>Married</td>\n",
       "      <td>$40K - $60K</td>\n",
       "      <td>Blue</td>\n",
       "      <td>26</td>\n",
       "      <td>...</td>\n",
       "      <td>1438.3</td>\n",
       "      <td>0</td>\n",
       "      <td>1438.3</td>\n",
       "      <td>0.660</td>\n",
       "      <td>4300</td>\n",
       "      <td>67</td>\n",
       "      <td>0.675</td>\n",
       "      <td>0.000</td>\n",
       "      <td>0.000054</td>\n",
       "      <td>0.99995</td>\n",
       "    </tr>\n",
       "    <tr>\n",
       "      <th>8533</th>\n",
       "      <td>825838908</td>\n",
       "      <td>Existing Customer</td>\n",
       "      <td>39</td>\n",
       "      <td>F</td>\n",
       "      <td>1</td>\n",
       "      <td>Uneducated</td>\n",
       "      <td>Single</td>\n",
       "      <td>Less than $40K</td>\n",
       "      <td>Blue</td>\n",
       "      <td>35</td>\n",
       "      <td>...</td>\n",
       "      <td>1961.0</td>\n",
       "      <td>0</td>\n",
       "      <td>1961.0</td>\n",
       "      <td>0.631</td>\n",
       "      <td>4846</td>\n",
       "      <td>92</td>\n",
       "      <td>0.840</td>\n",
       "      <td>0.000</td>\n",
       "      <td>0.000117</td>\n",
       "      <td>0.99988</td>\n",
       "    </tr>\n",
       "    <tr>\n",
       "      <th>6806</th>\n",
       "      <td>826808208</td>\n",
       "      <td>Existing Customer</td>\n",
       "      <td>60</td>\n",
       "      <td>F</td>\n",
       "      <td>0</td>\n",
       "      <td>High School</td>\n",
       "      <td>Single</td>\n",
       "      <td>$40K - $60K</td>\n",
       "      <td>Blue</td>\n",
       "      <td>56</td>\n",
       "      <td>...</td>\n",
       "      <td>2213.0</td>\n",
       "      <td>829</td>\n",
       "      <td>1384.0</td>\n",
       "      <td>0.639</td>\n",
       "      <td>4210</td>\n",
       "      <td>84</td>\n",
       "      <td>0.714</td>\n",
       "      <td>0.375</td>\n",
       "      <td>0.000168</td>\n",
       "      <td>0.99983</td>\n",
       "    </tr>\n",
       "    <tr>\n",
       "      <th>4832</th>\n",
       "      <td>718982058</td>\n",
       "      <td>Existing Customer</td>\n",
       "      <td>37</td>\n",
       "      <td>M</td>\n",
       "      <td>3</td>\n",
       "      <td>Graduate</td>\n",
       "      <td>Divorced</td>\n",
       "      <td>$40K - $60K</td>\n",
       "      <td>Blue</td>\n",
       "      <td>36</td>\n",
       "      <td>...</td>\n",
       "      <td>5987.0</td>\n",
       "      <td>1405</td>\n",
       "      <td>4582.0</td>\n",
       "      <td>0.952</td>\n",
       "      <td>4011</td>\n",
       "      <td>72</td>\n",
       "      <td>0.674</td>\n",
       "      <td>0.235</td>\n",
       "      <td>0.000044</td>\n",
       "      <td>0.99996</td>\n",
       "    </tr>\n",
       "  </tbody>\n",
       "</table>\n",
       "<p>5 rows × 23 columns</p>\n",
       "</div>"
      ],
      "text/plain": [
       "      CLIENTNUM     Attrition_Flag  Customer_Age Gender  Dependent_count  \\\n",
       "2552  714120258  Existing Customer            37      M                2   \n",
       "4971  789670533  Existing Customer            41      F                2   \n",
       "8533  825838908  Existing Customer            39      F                1   \n",
       "6806  826808208  Existing Customer            60      F                0   \n",
       "4832  718982058  Existing Customer            37      M                3   \n",
       "\n",
       "     Education_Level Marital_Status Income_Category Card_Category  \\\n",
       "2552      Uneducated       Divorced    $80K - $120K          Blue   \n",
       "4971     High School        Married     $40K - $60K          Blue   \n",
       "8533      Uneducated         Single  Less than $40K          Blue   \n",
       "6806     High School         Single     $40K - $60K          Blue   \n",
       "4832        Graduate       Divorced     $40K - $60K          Blue   \n",
       "\n",
       "      Months_on_book  ...  Credit_Limit  Total_Revolving_Bal  Avg_Open_To_Buy  \\\n",
       "2552              36  ...        2281.0                 1677            604.0   \n",
       "4971              26  ...        1438.3                    0           1438.3   \n",
       "8533              35  ...        1961.0                    0           1961.0   \n",
       "6806              56  ...        2213.0                  829           1384.0   \n",
       "4832              36  ...        5987.0                 1405           4582.0   \n",
       "\n",
       "      Total_Amt_Chng_Q4_Q1  Total_Trans_Amt  Total_Trans_Ct  \\\n",
       "2552                 1.027             2735              58   \n",
       "4971                 0.660             4300              67   \n",
       "8533                 0.631             4846              92   \n",
       "6806                 0.639             4210              84   \n",
       "4832                 0.952             4011              72   \n",
       "\n",
       "      Total_Ct_Chng_Q4_Q1  Avg_Utilization_Ratio  \\\n",
       "2552                1.071                  0.735   \n",
       "4971                0.675                  0.000   \n",
       "8533                0.840                  0.000   \n",
       "6806                0.714                  0.375   \n",
       "4832                0.674                  0.235   \n",
       "\n",
       "      Naive_Bayes_Classifier_Attrition_Flag_Card_Category_Contacts_Count_12_mon_Dependent_count_Education_Level_Months_Inactive_12_mon_1  \\\n",
       "2552                                           0.000185                                                                                    \n",
       "4971                                           0.000054                                                                                    \n",
       "8533                                           0.000117                                                                                    \n",
       "6806                                           0.000168                                                                                    \n",
       "4832                                           0.000044                                                                                    \n",
       "\n",
       "      Naive_Bayes_Classifier_Attrition_Flag_Card_Category_Contacts_Count_12_mon_Dependent_count_Education_Level_Months_Inactive_12_mon_2  \n",
       "2552                                            0.99982                                                                                   \n",
       "4971                                            0.99995                                                                                   \n",
       "8533                                            0.99988                                                                                   \n",
       "6806                                            0.99983                                                                                   \n",
       "4832                                            0.99996                                                                                   \n",
       "\n",
       "[5 rows x 23 columns]"
      ]
     },
     "execution_count": 9,
     "metadata": {},
     "output_type": "execute_result"
    }
   ],
   "source": [
    "starter_df = pd.read_csv(Path(\"c://users/ajcth/documents/github/bank_churn_project/Resources/BankChurnersPrimary.csv\"))\n",
    "starter_df.sample(5)"
   ]
  },
  {
   "attachments": {},
   "cell_type": "markdown",
   "metadata": {},
   "source": [
    "## Change some of the longer column names to make the original dataframe easily readable"
   ]
  },
  {
   "cell_type": "code",
   "execution_count": 10,
   "metadata": {},
   "outputs": [],
   "source": [
    "replacement_column_names = {'Attrition_Flag': 'Status',\n",
    "        'Customer_Age': 'Age',\n",
    "        'Education_Level': 'Education',\n",
    "        'Dependent_count': 'Dependents',\n",
    "        'Income_Category': 'Income',\n",
    "        'Card_Category': 'Card_Type',\n",
    "        'Months_on_book': 'Tenure(month)'\n",
    "        }\n",
    "starter_df.rename(columns=replacement_column_names, inplace=True)"
   ]
  },
  {
   "attachments": {},
   "cell_type": "markdown",
   "metadata": {},
   "source": [
    "## Drop any Unknown or NaN values"
   ]
  },
  {
   "cell_type": "code",
   "execution_count": 11,
   "metadata": {},
   "outputs": [],
   "source": [
    "starter_df = starter_df[starter_df != 'Unknown'].dropna()"
   ]
  },
  {
   "attachments": {},
   "cell_type": "markdown",
   "metadata": {},
   "source": [
    "## Remove any columns that won't be used.\n",
    "### Naive Bayes columns can't be used (it's calculated from features and target).\n",
    "### CLIENTNUM is irrelevant."
   ]
  },
  {
   "cell_type": "code",
   "execution_count": 12,
   "metadata": {},
   "outputs": [],
   "source": [
    "starter_df.drop(columns=[\n",
    "'Naive_Bayes_Classifier_Attrition_Flag_Card_Category_Contacts_Count_12_mon_Dependent_count_Education_Level_Months_Inactive_12_mon_2', \n",
    "'Naive_Bayes_Classifier_Attrition_Flag_Card_Category_Contacts_Count_12_mon_Dependent_count_Education_Level_Months_Inactive_12_mon_1',\n",
    "'CLIENTNUM'\n",
    "], \n",
    "inplace= True)"
   ]
  },
  {
   "attachments": {},
   "cell_type": "markdown",
   "metadata": {},
   "source": [
    "## Evaluate the Education column for use as a feature\n",
    "### The Education values are ranked from uneducated to doctorate, and is a gradient rather than ambiguous classifications. The ranks will be converted to numericals and specified as datatype `int`.\n",
    "1. Uneducated = 0\n",
    "2. Highschool = 1\n",
    "3. College = 2\n",
    "4. Graduate = 3\n",
    "5. Post-Grad = 4\n",
    "6. Doctorate = 5"
   ]
  },
  {
   "cell_type": "code",
   "execution_count": 13,
   "metadata": {},
   "outputs": [],
   "source": [
    "starter_df = starter_df.replace({'Education' : {\n",
    "'Uneducated': 0, \n",
    "'High School': 1, \n",
    "'College' : 2, \n",
    "'Graduate' :  3, \n",
    "'Post-Graduate' : 4, \n",
    "'Doctorate' : 5\n",
    "}})\n",
    "starter_df.Education = starter_df.Education.astype(int)"
   ]
  },
  {
   "attachments": {},
   "cell_type": "markdown",
   "metadata": {},
   "source": [
    "## Evaluate the Card Type column for use as a feature\n",
    "### The Card Type values are ranked from blue to platinum, and is a gradient rather than ambiguous classifications. The ranks will be converted to numericals and specified as datatype `int`.\n",
    "1. Blue = 0\n",
    "2. Silver = 1\n",
    "3. Gold = 2\n",
    "4. Platinum = 3\n"
   ]
  },
  {
   "cell_type": "code",
   "execution_count": 14,
   "metadata": {},
   "outputs": [],
   "source": [
    "starter_df = starter_df.replace({'Card_Type' : {\n",
    "'Blue': 0, \n",
    "'Silver': 1, \n",
    "'Gold' : 2, \n",
    "'Platinum' : 3\n",
    "}})\n",
    "starter_df.Card_Type = starter_df.Card_Type.astype(int)"
   ]
  },
  {
   "attachments": {},
   "cell_type": "markdown",
   "metadata": {},
   "source": [
    "## Evaluate the Gender column for use as a feature\n",
    "### Gender is a binary classification, so we don't need to OneHotEncode.\n",
    "### The values will be converted to numericals and specified as datatype `int`.\n",
    "1. Male = 0\n",
    "2. Female = 1 \n"
   ]
  },
  {
   "cell_type": "code",
   "execution_count": 15,
   "metadata": {},
   "outputs": [],
   "source": [
    "starter_df = starter_df.replace({'Gender' : {\n",
    "'M': 0, \n",
    "'F': 1\n",
    "}})\n",
    "starter_df.Gender = starter_df.Gender.astype(int)"
   ]
  },
  {
   "attachments": {},
   "cell_type": "markdown",
   "metadata": {},
   "source": [
    "## Evaluate the Status column for use as the target\n",
    "### Status is a binary classification, so we don't need to OneHotEncode.\n",
    "### The values will be converted to numericals and specified as datatype `int`.\n",
    "1. Attrited Customer = 0\n",
    "2. Existing Customer = 1 "
   ]
  },
  {
   "cell_type": "code",
   "execution_count": 16,
   "metadata": {},
   "outputs": [
    {
     "name": "stderr",
     "output_type": "stream",
     "text": [
      "c:\\python_files\\Anaconda3\\envs\\dev\\lib\\site-packages\\ipykernel_launcher.py:5: UserWarning: Pandas doesn't allow columns to be created via a new attribute name - see https://pandas.pydata.org/pandas-docs/stable/indexing.html#attribute-access\n",
      "  \"\"\"\n"
     ]
    }
   ],
   "source": [
    "starter_df = starter_df.replace({'Status' : {\n",
    "'Attrited Customer': 0, \n",
    "'Existing Customer': 1\n",
    "}})\n",
    "starter_df.GenStatuStatussder = starter_df.Status.astype(int)"
   ]
  },
  {
   "attachments": {},
   "cell_type": "markdown",
   "metadata": {},
   "source": [
    "## Perform feature creation on the Dependents and Marital_Status features to create the Marital_Dependent_Ratio feature\n",
    "### The values will be converted to numericals and specified as datatype `int`.\n",
    "### Divorced and Single will be combined, as they are both single income sources.\n",
    "1. Divorced = 1\n",
    "2. Single = 1 \n",
    "3. Married\n",
    "\n",
    "## The formula for Marital_Dependent_Ratio is as follows:\n",
    "( Marital_Status / (Dependents + 1) / 2 )\n",
    "## The original Marital_Status and Dependents columns will be dropped in place of the Marital_Dependent_Ratio column."
   ]
  },
  {
   "cell_type": "code",
   "execution_count": 17,
   "metadata": {},
   "outputs": [],
   "source": [
    "starter_df = starter_df.replace({'Marital_Status' : {\n",
    "'Divorced': 1, \n",
    "'Single': 1, \n",
    "'Married' : 2\n",
    "}})\n",
    "starter_df.Marital_Status = starter_df.Marital_Status.astype(int)\n",
    "starter_df['Marital_Dependent_Ratio'] = ((starter_df['Marital_Status'] / (starter_df['Dependents'] + 1)) / 2).round(2)\n",
    "starter_df.drop(columns=['Marital_Status', 'Dependents'], inplace=True)\n"
   ]
  },
  {
   "attachments": {},
   "cell_type": "markdown",
   "metadata": {},
   "source": [
    "## Perform feature creation on the Total_Trans_Amt and Total_Trans_Ct features to create the Avg_Trans_Value feature. Its a simple ratio.\n",
    "### The original Total_Trans_Amt and Total_Trans_Ct columns will be dropped in place of the Avg_Trans_Value column."
   ]
  },
  {
   "cell_type": "code",
   "execution_count": 18,
   "metadata": {},
   "outputs": [],
   "source": [
    "starter_df['CreditUsage'] = (starter_df['Avg_Open_To_Buy'] / starter_df['Credit_Limit']).round(2)\n",
    "starter_df.drop(columns=['Avg_Open_To_Buy', 'Credit_Limit'], inplace=True)"
   ]
  },
  {
   "attachments": {},
   "cell_type": "markdown",
   "metadata": {},
   "source": [
    "## Perform feature creation on the Total_Trans_Amt and Total_Trans_Ct features to create the Avg_Trans_Value feature. Its a simple ratio.\n",
    "### The original Total_Trans_Amt and Total_Trans_Ct columns will be dropped in place of the Avg_Trans_Value column."
   ]
  },
  {
   "cell_type": "code",
   "execution_count": 19,
   "metadata": {},
   "outputs": [],
   "source": [
    "starter_df['Avg_Trans_Value'] = (starter_df['Total_Trans_Amt'] / starter_df['Total_Trans_Ct']).round(2)\n",
    "starter_df.drop(columns=['Total_Trans_Amt', 'Total_Trans_Ct'], inplace=True)"
   ]
  },
  {
   "attachments": {},
   "cell_type": "markdown",
   "metadata": {},
   "source": [
    "## Perform feature creation on the Tenure(month) and Age features to create the Tenure_By_Age feature. Its a simple ratio.\n",
    "\n",
    "### The original Tenure(month) and Age columns will be dropped in place of the Tenure_By_Age column."
   ]
  },
  {
   "cell_type": "code",
   "execution_count": 20,
   "metadata": {},
   "outputs": [],
   "source": [
    "#Do feature creation to make a ratio between age and tenure\n",
    "starter_df['Tenure_By_Age'] = (starter_df['Tenure(month)'] / starter_df['Age']).round(2)\n",
    "starter_df.drop(columns=['Tenure(month)', 'Age'], inplace=True)"
   ]
  },
  {
   "attachments": {},
   "cell_type": "markdown",
   "metadata": {},
   "source": [
    "## Evaluate the Income column for use as the target\n",
    "### The Income values are ranked in blocks, and is a gradient rather than ambiguous classifications. The ranks will be converted to numericals and specified as datatype `int`."
   ]
  },
  {
   "cell_type": "code",
   "execution_count": 21,
   "metadata": {},
   "outputs": [],
   "source": [
    "starter_df = starter_df.replace({'Income' : {\n",
    "'Less than $40K': 0, \n",
    "'$40K - $60K': 1, \n",
    "'$80K - $120K' : 2, \n",
    "'$60K - $80K' : 3, \n",
    "'$120K +' : 4\n",
    "}})\n",
    "starter_df.Income = starter_df.Income.astype(int)"
   ]
  },
  {
   "attachments": {},
   "cell_type": "markdown",
   "metadata": {},
   "source": [
    "## Review the new features"
   ]
  },
  {
   "cell_type": "code",
   "execution_count": 35,
   "metadata": {},
   "outputs": [
    {
     "data": {
      "text/plain": [
       "Status                        int64\n",
       "Gender                        int32\n",
       "Education                     int32\n",
       "Income                        int32\n",
       "Card_Type                     int32\n",
       "Total_Relationship_Count      int64\n",
       "Months_Inactive_12_mon        int64\n",
       "Contacts_Count_12_mon         int64\n",
       "Total_Revolving_Bal           int64\n",
       "Total_Amt_Chng_Q4_Q1        float64\n",
       "Total_Ct_Chng_Q4_Q1         float64\n",
       "Avg_Utilization_Ratio       float64\n",
       "Marital_Dependent_Ratio     float64\n",
       "CreditUsage                 float64\n",
       "Avg_Trans_Value             float64\n",
       "Tenure_By_Age               float64\n",
       "dtype: object"
      ]
     },
     "execution_count": 35,
     "metadata": {},
     "output_type": "execute_result"
    }
   ],
   "source": [
    "starter_df.dtypes"
   ]
  },
  {
   "cell_type": "code",
   "execution_count": 22,
   "metadata": {},
   "outputs": [
    {
     "data": {
      "text/html": [
       "<div>\n",
       "<style scoped>\n",
       "    .dataframe tbody tr th:only-of-type {\n",
       "        vertical-align: middle;\n",
       "    }\n",
       "\n",
       "    .dataframe tbody tr th {\n",
       "        vertical-align: top;\n",
       "    }\n",
       "\n",
       "    .dataframe thead th {\n",
       "        text-align: right;\n",
       "    }\n",
       "</style>\n",
       "<table border=\"1\" class=\"dataframe\">\n",
       "  <thead>\n",
       "    <tr style=\"text-align: right;\">\n",
       "      <th></th>\n",
       "      <th>Status</th>\n",
       "      <th>Gender</th>\n",
       "      <th>Education</th>\n",
       "      <th>Income</th>\n",
       "      <th>Card_Type</th>\n",
       "      <th>Total_Relationship_Count</th>\n",
       "      <th>Months_Inactive_12_mon</th>\n",
       "      <th>Contacts_Count_12_mon</th>\n",
       "      <th>Total_Revolving_Bal</th>\n",
       "      <th>Total_Amt_Chng_Q4_Q1</th>\n",
       "      <th>Total_Ct_Chng_Q4_Q1</th>\n",
       "      <th>Avg_Utilization_Ratio</th>\n",
       "      <th>Marital_Dependent_Ratio</th>\n",
       "      <th>CreditUsage</th>\n",
       "      <th>Avg_Trans_Value</th>\n",
       "      <th>Tenure_By_Age</th>\n",
       "    </tr>\n",
       "  </thead>\n",
       "  <tbody>\n",
       "    <tr>\n",
       "      <th>6885</th>\n",
       "      <td>1</td>\n",
       "      <td>1</td>\n",
       "      <td>3</td>\n",
       "      <td>1</td>\n",
       "      <td>0</td>\n",
       "      <td>6</td>\n",
       "      <td>4</td>\n",
       "      <td>2</td>\n",
       "      <td>632</td>\n",
       "      <td>0.702</td>\n",
       "      <td>0.660</td>\n",
       "      <td>0.045</td>\n",
       "      <td>0.17</td>\n",
       "      <td>0.95</td>\n",
       "      <td>56.95</td>\n",
       "      <td>0.87</td>\n",
       "    </tr>\n",
       "    <tr>\n",
       "      <th>9233</th>\n",
       "      <td>1</td>\n",
       "      <td>0</td>\n",
       "      <td>0</td>\n",
       "      <td>3</td>\n",
       "      <td>0</td>\n",
       "      <td>2</td>\n",
       "      <td>1</td>\n",
       "      <td>1</td>\n",
       "      <td>1337</td>\n",
       "      <td>0.734</td>\n",
       "      <td>0.600</td>\n",
       "      <td>0.076</td>\n",
       "      <td>0.17</td>\n",
       "      <td>0.92</td>\n",
       "      <td>148.38</td>\n",
       "      <td>0.65</td>\n",
       "    </tr>\n",
       "    <tr>\n",
       "      <th>7495</th>\n",
       "      <td>1</td>\n",
       "      <td>0</td>\n",
       "      <td>3</td>\n",
       "      <td>3</td>\n",
       "      <td>0</td>\n",
       "      <td>4</td>\n",
       "      <td>2</td>\n",
       "      <td>3</td>\n",
       "      <td>896</td>\n",
       "      <td>0.680</td>\n",
       "      <td>0.516</td>\n",
       "      <td>0.397</td>\n",
       "      <td>0.20</td>\n",
       "      <td>0.60</td>\n",
       "      <td>49.13</td>\n",
       "      <td>0.64</td>\n",
       "    </tr>\n",
       "    <tr>\n",
       "      <th>8479</th>\n",
       "      <td>1</td>\n",
       "      <td>1</td>\n",
       "      <td>3</td>\n",
       "      <td>1</td>\n",
       "      <td>0</td>\n",
       "      <td>2</td>\n",
       "      <td>1</td>\n",
       "      <td>1</td>\n",
       "      <td>0</td>\n",
       "      <td>0.728</td>\n",
       "      <td>0.708</td>\n",
       "      <td>0.000</td>\n",
       "      <td>0.10</td>\n",
       "      <td>1.00</td>\n",
       "      <td>54.80</td>\n",
       "      <td>0.53</td>\n",
       "    </tr>\n",
       "    <tr>\n",
       "      <th>2488</th>\n",
       "      <td>1</td>\n",
       "      <td>0</td>\n",
       "      <td>0</td>\n",
       "      <td>1</td>\n",
       "      <td>0</td>\n",
       "      <td>3</td>\n",
       "      <td>1</td>\n",
       "      <td>1</td>\n",
       "      <td>607</td>\n",
       "      <td>0.883</td>\n",
       "      <td>0.477</td>\n",
       "      <td>0.057</td>\n",
       "      <td>0.25</td>\n",
       "      <td>0.94</td>\n",
       "      <td>62.68</td>\n",
       "      <td>0.80</td>\n",
       "    </tr>\n",
       "  </tbody>\n",
       "</table>\n",
       "</div>"
      ],
      "text/plain": [
       "      Status  Gender  Education  Income  Card_Type  Total_Relationship_Count  \\\n",
       "6885       1       1          3       1          0                         6   \n",
       "9233       1       0          0       3          0                         2   \n",
       "7495       1       0          3       3          0                         4   \n",
       "8479       1       1          3       1          0                         2   \n",
       "2488       1       0          0       1          0                         3   \n",
       "\n",
       "      Months_Inactive_12_mon  Contacts_Count_12_mon  Total_Revolving_Bal  \\\n",
       "6885                       4                      2                  632   \n",
       "9233                       1                      1                 1337   \n",
       "7495                       2                      3                  896   \n",
       "8479                       1                      1                    0   \n",
       "2488                       1                      1                  607   \n",
       "\n",
       "      Total_Amt_Chng_Q4_Q1  Total_Ct_Chng_Q4_Q1  Avg_Utilization_Ratio  \\\n",
       "6885                 0.702                0.660                  0.045   \n",
       "9233                 0.734                0.600                  0.076   \n",
       "7495                 0.680                0.516                  0.397   \n",
       "8479                 0.728                0.708                  0.000   \n",
       "2488                 0.883                0.477                  0.057   \n",
       "\n",
       "      Marital_Dependent_Ratio  CreditUsage  Avg_Trans_Value  Tenure_By_Age  \n",
       "6885                     0.17         0.95            56.95           0.87  \n",
       "9233                     0.17         0.92           148.38           0.65  \n",
       "7495                     0.20         0.60            49.13           0.64  \n",
       "8479                     0.10         1.00            54.80           0.53  \n",
       "2488                     0.25         0.94            62.68           0.80  "
      ]
     },
     "execution_count": 22,
     "metadata": {},
     "output_type": "execute_result"
    }
   ],
   "source": [
    "starter_df.sample(5)"
   ]
  },
  {
   "attachments": {},
   "cell_type": "markdown",
   "metadata": {},
   "source": [
    "## Define our features(X) and our target(y)"
   ]
  },
  {
   "cell_type": "code",
   "execution_count": 23,
   "metadata": {},
   "outputs": [],
   "source": [
    "y = starter_df['Status']\n",
    "X = starter_df.drop(columns=['Status'])"
   ]
  },
  {
   "attachments": {},
   "cell_type": "markdown",
   "metadata": {},
   "source": [
    "## Split features and target in to training and testing sets"
   ]
  },
  {
   "cell_type": "code",
   "execution_count": 24,
   "metadata": {},
   "outputs": [],
   "source": [
    "X_train, X_test, y_train, y_test = train_test_split(X, y, random_state=1)"
   ]
  },
  {
   "attachments": {},
   "cell_type": "markdown",
   "metadata": {},
   "source": [
    "## Using StandardScaler, scale all numerical/float values that don't represent ambiguous categories\n",
    "### StandardScaler will be used within ColumnTransformer. This allows for the scaling of specified columns within our X_train and X_test set.\n",
    "It's critical that the StandardScaler is only fit to our X_train. Both X_train and X_test will be transformed, but the StandardScaler will only be fit to X_train.This prevents the model from 'cheating'."
   ]
  },
  {
   "cell_type": "code",
   "execution_count": 25,
   "metadata": {},
   "outputs": [],
   "source": [
    "scaler = StandardScaler()\n",
    "\n",
    "col_tran= ColumnTransformer([\n",
    "('Total_Revolving_Bal_Scaled', scaler, ['Total_Revolving_Bal']),\n",
    "('Education_Scaled', scaler, ['Education']),\n",
    "('Income_Scaled', scaler, ['Income']),\n",
    "('Card_Type_Scaled', scaler, ['Card_Type']),\n",
    "('Months_Inactive_12_mon_scaled', scaler, ['Months_Inactive_12_mon']),\n",
    "('Credit_Usage_Scaled', scaler, ['Credit_Usage']),\n",
    "('Avg_Trans_Value_Scaled', scaler, ['Avg_Trans_Value']),\n",
    "('Tenure_By_Age_Scaled', scaler, ['Tenure_By_Age']),\n",
    "('Avg_Util_Ratio_Scaled', scaler, ['Avg_Utilization_Ratio']),\n",
    "('Total_Relationship_Count_Scaled', scaler, ['Total_Relationship_Count']),\n",
    "('Contacts_Count_12_mon_scaled', scaler, ['Contacts_Count_12_mon']),\n",
    "('Total_Amt_Chng_Q4_Q1_scaled', scaler, ['Total_Amt_Chng_Q4_Q1']),\n",
    "('Total_Ct_Chng_Q4_Q1_scaled', scaler, ['Total_Ct_Chng_Q4_Q1']),\n",
    "('Marital_Dependent_Ratio_Scaled', scaler, ['Marital_Dependent_Ratio'])\n",
    "])"
   ]
  },
  {
   "attachments": {},
   "cell_type": "markdown",
   "metadata": {},
   "source": [
    "## Use SMOTE to add synthetic data and balance our target/feature value count\n",
    "### This will only be done on the training data."
   ]
  },
  {
   "cell_type": "code",
   "execution_count": 26,
   "metadata": {},
   "outputs": [],
   "source": [
    "oversample = SMOTE()\n",
    "X_train, y_train = oversample.fit_resample(X_train, y_train)"
   ]
  },
  {
   "attachments": {},
   "cell_type": "markdown",
   "metadata": {},
   "source": [
    "## Create an instance of the GradientBoostingClassifier model\n",
    "### Hyperparameter tuning was mostly unhelpful; only two hyperparameters have been changed from default values.\n",
    "1. n_estimators = 500\n",
    "2. random_state= 2"
   ]
  },
  {
   "cell_type": "code",
   "execution_count": 27,
   "metadata": {},
   "outputs": [],
   "source": [
    "gbc_model = GradientBoostingClassifier(\n",
    "n_estimators=500,                 #default = 100    range = 1-inf\n",
    "random_state= 2,                  #default = None   range = 1-inf\n",
    "subsample= 1,                     #default = 1      range = 0.-1\n",
    "min_samples_split = 2,            #default = 2      range = 2-inf\n",
    "max_depth=3,                      #default = 3      range = 1-inf\n",
    "min_impurity_decrease=0,          #default = 0      range = 0 - inf\n",
    "min_samples_leaf = 1,             #default = 1      range = 1 - inf\n",
    "min_weight_fraction_leaf = 0,     #default = 0      range =0 - 0.5\n",
    "max_leaf_nodes = None,            #default = None   range = 2-inf\n",
    "learning_rate = 0.1               #default=0.1      range 0.0-inf\n",
    ")"
   ]
  },
  {
   "attachments": {},
   "cell_type": "markdown",
   "metadata": {},
   "source": [
    "## Fit the model on the training data"
   ]
  },
  {
   "cell_type": "code",
   "execution_count": 28,
   "metadata": {},
   "outputs": [
    {
     "data": {
      "text/plain": [
       "GradientBoostingClassifier(min_impurity_decrease=0, min_weight_fraction_leaf=0,\n",
       "                           n_estimators=500, random_state=2, subsample=1)"
      ]
     },
     "execution_count": 28,
     "metadata": {},
     "output_type": "execute_result"
    }
   ],
   "source": [
    "gbc_model.fit(X_train, y_train)"
   ]
  },
  {
   "attachments": {},
   "cell_type": "markdown",
   "metadata": {},
   "source": [
    "## Make predictions on the test data"
   ]
  },
  {
   "cell_type": "code",
   "execution_count": 29,
   "metadata": {},
   "outputs": [],
   "source": [
    "gbc_test_predictions = gbc_model.predict(X_test)"
   ]
  },
  {
   "attachments": {},
   "cell_type": "markdown",
   "metadata": {},
   "source": [
    "## Evaluate the model's performance"
   ]
  },
  {
   "cell_type": "code",
   "execution_count": 30,
   "metadata": {},
   "outputs": [
    {
     "name": "stdout",
     "output_type": "stream",
     "text": [
      "Accuracy: 91.47%\n"
     ]
    }
   ],
   "source": [
    "accuracy = accuracy_score(y_test, gbc_test_predictions)\n",
    "print(\"Accuracy: {:.2f}%\".format(accuracy * 100))"
   ]
  },
  {
   "attachments": {},
   "cell_type": "markdown",
   "metadata": {},
   "source": [
    "## Generate a confusion matrix"
   ]
  },
  {
   "cell_type": "code",
   "execution_count": 31,
   "metadata": {},
   "outputs": [
    {
     "name": "stdout",
     "output_type": "stream",
     "text": [
      "[[ 198   79]\n",
      " [  72 1422]]\n"
     ]
    }
   ],
   "source": [
    "gbc_test_matrix = confusion_matrix(y_test, gbc_test_predictions)\n",
    "print(gbc_test_matrix)"
   ]
  },
  {
   "attachments": {},
   "cell_type": "markdown",
   "metadata": {},
   "source": [
    "## Generate a classification report"
   ]
  },
  {
   "cell_type": "code",
   "execution_count": 32,
   "metadata": {},
   "outputs": [
    {
     "name": "stdout",
     "output_type": "stream",
     "text": [
      "              precision    recall  f1-score   support\n",
      "\n",
      "           0       0.73      0.71      0.72       277\n",
      "           1       0.95      0.95      0.95      1494\n",
      "\n",
      "    accuracy                           0.91      1771\n",
      "   macro avg       0.84      0.83      0.84      1771\n",
      "weighted avg       0.91      0.91      0.91      1771\n",
      "\n"
     ]
    }
   ],
   "source": [
    "gbc_testing_report = classification_report(y_test, gbc_test_predictions)\n",
    "print(gbc_testing_report)"
   ]
  },
  {
   "attachments": {},
   "cell_type": "markdown",
   "metadata": {},
   "source": [
    "## Generate an imbalanced classification report"
   ]
  },
  {
   "cell_type": "code",
   "execution_count": 33,
   "metadata": {},
   "outputs": [
    {
     "name": "stdout",
     "output_type": "stream",
     "text": [
      "                   pre       rec       spe        f1       geo       iba       sup\n",
      "\n",
      "          0       0.73      0.71      0.95      0.72      0.82      0.66       277\n",
      "          1       0.95      0.95      0.71      0.95      0.82      0.70      1494\n",
      "\n",
      "avg / total       0.91      0.91      0.75      0.91      0.82      0.69      1771\n",
      "\n"
     ]
    }
   ],
   "source": [
    "imb__gbc_testing_report = classification_report_imbalanced(y_test, gbc_test_predictions)\n",
    "print(imb__gbc_testing_report)"
   ]
  }
 ],
 "metadata": {
  "kernelspec": {
   "display_name": "dev",
   "language": "python",
   "name": "python3"
  },
  "language_info": {
   "codemirror_mode": {
    "name": "ipython",
    "version": 3
   },
   "file_extension": ".py",
   "mimetype": "text/x-python",
   "name": "python",
   "nbconvert_exporter": "python",
   "pygments_lexer": "ipython3",
   "version": "3.7.13"
  },
  "orig_nbformat": 4,
  "vscode": {
   "interpreter": {
    "hash": "28515e2b63b40114f6e8c1f789cf21b6d4b349a50273d5a1dcb37706cefab85d"
   }
  }
 },
 "nbformat": 4,
 "nbformat_minor": 2
}
