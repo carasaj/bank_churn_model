{
 "cells": [
  {
   "cell_type": "code",
   "execution_count": 13,
   "id": "b615961e-6a62-442c-a2ff-697e994bb22e",
   "metadata": {},
   "outputs": [],
   "source": [
    "import pandas as pd\n",
    "import numpy as np\n",
    "from pathlib import Path\n",
    "\n",
    "from imblearn.over_sampling import SMOTE\n",
    "from sklearn.model_selection import train_test_split\n",
    "from sklearn.svm import SVC\n",
    "from sklearn.metrics import accuracy_score\n",
    "from sklearn.metrics import classification_report\n",
    "from sklearn.metrics import confusion_matrix"
   ]
  },
  {
   "cell_type": "code",
   "execution_count": 14,
   "id": "ec4bc3fb-5a3c-4e99-914b-2da151425c48",
   "metadata": {},
   "outputs": [
    {
     "data": {
      "text/html": [
       "<div>\n",
       "<style scoped>\n",
       "    .dataframe tbody tr th:only-of-type {\n",
       "        vertical-align: middle;\n",
       "    }\n",
       "\n",
       "    .dataframe tbody tr th {\n",
       "        vertical-align: top;\n",
       "    }\n",
       "\n",
       "    .dataframe thead th {\n",
       "        text-align: right;\n",
       "    }\n",
       "</style>\n",
       "<table border=\"1\" class=\"dataframe\">\n",
       "  <thead>\n",
       "    <tr style=\"text-align: right;\">\n",
       "      <th></th>\n",
       "      <th>Unnamed: 0</th>\n",
       "      <th>Status</th>\n",
       "      <th>Gender</th>\n",
       "      <th>Education</th>\n",
       "      <th>Income</th>\n",
       "      <th>Card Type</th>\n",
       "      <th>Months_Inactive_12_mon</th>\n",
       "      <th>Total_Revolving_Bal</th>\n",
       "      <th>Avg_Utilization_Ratio</th>\n",
       "      <th>MaritalDependentRatio</th>\n",
       "      <th>CreditUsage</th>\n",
       "      <th>AvgTransValue</th>\n",
       "      <th>TenureByAge</th>\n",
       "    </tr>\n",
       "  </thead>\n",
       "  <tbody>\n",
       "    <tr>\n",
       "      <th>0</th>\n",
       "      <td>0</td>\n",
       "      <td>1</td>\n",
       "      <td>0</td>\n",
       "      <td>1</td>\n",
       "      <td>3</td>\n",
       "      <td>0</td>\n",
       "      <td>1</td>\n",
       "      <td>777</td>\n",
       "      <td>0.061</td>\n",
       "      <td>0.25</td>\n",
       "      <td>0.94</td>\n",
       "      <td>27.24</td>\n",
       "      <td>0.87</td>\n",
       "    </tr>\n",
       "    <tr>\n",
       "      <th>1</th>\n",
       "      <td>4</td>\n",
       "      <td>1</td>\n",
       "      <td>0</td>\n",
       "      <td>0</td>\n",
       "      <td>3</td>\n",
       "      <td>0</td>\n",
       "      <td>1</td>\n",
       "      <td>0</td>\n",
       "      <td>0.000</td>\n",
       "      <td>0.25</td>\n",
       "      <td>1.00</td>\n",
       "      <td>29.14</td>\n",
       "      <td>0.52</td>\n",
       "    </tr>\n",
       "    <tr>\n",
       "      <th>2</th>\n",
       "      <td>8</td>\n",
       "      <td>1</td>\n",
       "      <td>0</td>\n",
       "      <td>0</td>\n",
       "      <td>3</td>\n",
       "      <td>0</td>\n",
       "      <td>2</td>\n",
       "      <td>2517</td>\n",
       "      <td>0.113</td>\n",
       "      <td>0.12</td>\n",
       "      <td>0.89</td>\n",
       "      <td>56.25</td>\n",
       "      <td>0.97</td>\n",
       "    </tr>\n",
       "    <tr>\n",
       "      <th>3</th>\n",
       "      <td>12</td>\n",
       "      <td>1</td>\n",
       "      <td>0</td>\n",
       "      <td>2</td>\n",
       "      <td>2</td>\n",
       "      <td>0</td>\n",
       "      <td>6</td>\n",
       "      <td>0</td>\n",
       "      <td>0.000</td>\n",
       "      <td>0.25</td>\n",
       "      <td>1.00</td>\n",
       "      <td>90.53</td>\n",
       "      <td>0.64</td>\n",
       "    </tr>\n",
       "    <tr>\n",
       "      <th>4</th>\n",
       "      <td>16</td>\n",
       "      <td>1</td>\n",
       "      <td>0</td>\n",
       "      <td>3</td>\n",
       "      <td>2</td>\n",
       "      <td>0</td>\n",
       "      <td>2</td>\n",
       "      <td>2362</td>\n",
       "      <td>0.078</td>\n",
       "      <td>0.10</td>\n",
       "      <td>0.92</td>\n",
       "      <td>61.89</td>\n",
       "      <td>0.75</td>\n",
       "    </tr>\n",
       "    <tr>\n",
       "      <th>...</th>\n",
       "      <td>...</td>\n",
       "      <td>...</td>\n",
       "      <td>...</td>\n",
       "      <td>...</td>\n",
       "      <td>...</td>\n",
       "      <td>...</td>\n",
       "      <td>...</td>\n",
       "      <td>...</td>\n",
       "      <td>...</td>\n",
       "      <td>...</td>\n",
       "      <td>...</td>\n",
       "      <td>...</td>\n",
       "      <td>...</td>\n",
       "    </tr>\n",
       "    <tr>\n",
       "      <th>4485</th>\n",
       "      <td>10113</td>\n",
       "      <td>-1</td>\n",
       "      <td>0</td>\n",
       "      <td>1</td>\n",
       "      <td>3</td>\n",
       "      <td>0</td>\n",
       "      <td>3</td>\n",
       "      <td>2517</td>\n",
       "      <td>0.189</td>\n",
       "      <td>0.50</td>\n",
       "      <td>0.81</td>\n",
       "      <td>120.22</td>\n",
       "      <td>1.33</td>\n",
       "    </tr>\n",
       "    <tr>\n",
       "      <th>4486</th>\n",
       "      <td>10115</td>\n",
       "      <td>1</td>\n",
       "      <td>0</td>\n",
       "      <td>0</td>\n",
       "      <td>1</td>\n",
       "      <td>0</td>\n",
       "      <td>3</td>\n",
       "      <td>1558</td>\n",
       "      <td>0.276</td>\n",
       "      <td>0.25</td>\n",
       "      <td>0.72</td>\n",
       "      <td>152.55</td>\n",
       "      <td>0.95</td>\n",
       "    </tr>\n",
       "    <tr>\n",
       "      <th>4487</th>\n",
       "      <td>10116</td>\n",
       "      <td>1</td>\n",
       "      <td>0</td>\n",
       "      <td>2</td>\n",
       "      <td>2</td>\n",
       "      <td>0</td>\n",
       "      <td>2</td>\n",
       "      <td>2241</td>\n",
       "      <td>0.170</td>\n",
       "      <td>0.08</td>\n",
       "      <td>0.83</td>\n",
       "      <td>137.09</td>\n",
       "      <td>0.78</td>\n",
       "    </tr>\n",
       "    <tr>\n",
       "      <th>4488</th>\n",
       "      <td>10120</td>\n",
       "      <td>1</td>\n",
       "      <td>0</td>\n",
       "      <td>1</td>\n",
       "      <td>3</td>\n",
       "      <td>0</td>\n",
       "      <td>2</td>\n",
       "      <td>2109</td>\n",
       "      <td>0.151</td>\n",
       "      <td>0.25</td>\n",
       "      <td>0.85</td>\n",
       "      <td>136.64</td>\n",
       "      <td>0.63</td>\n",
       "    </tr>\n",
       "    <tr>\n",
       "      <th>4489</th>\n",
       "      <td>10124</td>\n",
       "      <td>-1</td>\n",
       "      <td>1</td>\n",
       "      <td>1</td>\n",
       "      <td>0</td>\n",
       "      <td>0</td>\n",
       "      <td>3</td>\n",
       "      <td>0</td>\n",
       "      <td>0.000</td>\n",
       "      <td>0.50</td>\n",
       "      <td>1.00</td>\n",
       "      <td>171.52</td>\n",
       "      <td>0.82</td>\n",
       "    </tr>\n",
       "  </tbody>\n",
       "</table>\n",
       "<p>4490 rows × 13 columns</p>\n",
       "</div>"
      ],
      "text/plain": [
       "      Unnamed: 0  Status  Gender  Education  Income  Card Type  \\\n",
       "0              0       1       0          1       3          0   \n",
       "1              4       1       0          0       3          0   \n",
       "2              8       1       0          0       3          0   \n",
       "3             12       1       0          2       2          0   \n",
       "4             16       1       0          3       2          0   \n",
       "...          ...     ...     ...        ...     ...        ...   \n",
       "4485       10113      -1       0          1       3          0   \n",
       "4486       10115       1       0          0       1          0   \n",
       "4487       10116       1       0          2       2          0   \n",
       "4488       10120       1       0          1       3          0   \n",
       "4489       10124      -1       1          1       0          0   \n",
       "\n",
       "      Months_Inactive_12_mon  Total_Revolving_Bal  Avg_Utilization_Ratio  \\\n",
       "0                          1                  777                  0.061   \n",
       "1                          1                    0                  0.000   \n",
       "2                          2                 2517                  0.113   \n",
       "3                          6                    0                  0.000   \n",
       "4                          2                 2362                  0.078   \n",
       "...                      ...                  ...                    ...   \n",
       "4485                       3                 2517                  0.189   \n",
       "4486                       3                 1558                  0.276   \n",
       "4487                       2                 2241                  0.170   \n",
       "4488                       2                 2109                  0.151   \n",
       "4489                       3                    0                  0.000   \n",
       "\n",
       "      MaritalDependentRatio  CreditUsage  AvgTransValue  TenureByAge  \n",
       "0                      0.25         0.94          27.24         0.87  \n",
       "1                      0.25         1.00          29.14         0.52  \n",
       "2                      0.12         0.89          56.25         0.97  \n",
       "3                      0.25         1.00          90.53         0.64  \n",
       "4                      0.10         0.92          61.89         0.75  \n",
       "...                     ...          ...            ...          ...  \n",
       "4485                   0.50         0.81         120.22         1.33  \n",
       "4486                   0.25         0.72         152.55         0.95  \n",
       "4487                   0.08         0.83         137.09         0.78  \n",
       "4488                   0.25         0.85         136.64         0.63  \n",
       "4489                   0.50         1.00         171.52         0.82  \n",
       "\n",
       "[4490 rows x 13 columns]"
      ]
     },
     "execution_count": 14,
     "metadata": {},
     "output_type": "execute_result"
    }
   ],
   "source": [
    "#importing Austins feture engineered Bank Churn Dataframe\n",
    "\n",
    "starter_df = pd.read_csv(Path(\"../Resources/BankChurnedit1.csv\"))\n",
    "starter_df"
   ]
  },
  {
   "cell_type": "code",
   "execution_count": 15,
   "id": "0cdab6c0-cb3a-47c4-9cb8-7eb2afbbfde8",
   "metadata": {},
   "outputs": [],
   "source": [
    "#X will be only Total_Revolving_Bal\n",
    "y = starter_df['Status']\n",
    "X = starter_df['Total_Revolving_Bal']"
   ]
  },
  {
   "cell_type": "code",
   "execution_count": 16,
   "id": "08811b99-d2e6-4320-b595-0cccd0e7f642",
   "metadata": {},
   "outputs": [],
   "source": [
    "#Split features and target in to training and testing sets\n",
    "X_train, X_test, y_train, y_test = train_test_split(X, y, random_state=1)"
   ]
  },
  {
   "cell_type": "code",
   "execution_count": 17,
   "id": "ba1a35f6-0094-475d-8ab6-681a6c63030e",
   "metadata": {},
   "outputs": [],
   "source": [
    "#Use SMOTE to add synthetic data and balance our target feature value count\n",
    "oversample = SMOTE()\n",
    "X_train, y_train = oversample.fit_resample(X_train, y_train)"
   ]
  },
  {
   "cell_type": "code",
   "execution_count": 18,
   "id": "637a0dbe-1f4e-4eda-91e5-257e12413a64",
   "metadata": {},
   "outputs": [],
   "source": [
    "#Choose a model\n",
    "clf = SVC()\n",
    "#clf = LogisticRegression()\n",
    "#clf = RandomForestClassifier(n_estimators= 2000)"
   ]
  },
  {
   "cell_type": "code",
   "execution_count": 19,
   "id": "b8547614-c8d4-44a4-92bf-26ae7ecf2cc5",
   "metadata": {},
   "outputs": [
    {
     "data": {
      "text/plain": [
       "SVC()"
      ]
     },
     "execution_count": 19,
     "metadata": {},
     "output_type": "execute_result"
    }
   ],
   "source": [
    "#Fit\n",
    "clf.fit(X_train, y_train)"
   ]
  },
  {
   "cell_type": "code",
   "execution_count": 20,
   "id": "e989626f-e916-41c4-9f7a-7a0fca332a2b",
   "metadata": {},
   "outputs": [],
   "source": [
    "#Predict\n",
    "test_predictions = clf.predict(X_test)"
   ]
  },
  {
   "cell_type": "code",
   "execution_count": 21,
   "id": "f87c2dfc-3083-4f5b-9a95-4cb0ad5f782a",
   "metadata": {},
   "outputs": [
    {
     "name": "stdout",
     "output_type": "stream",
     "text": [
      "Accuracy: 73.37%\n"
     ]
    }
   ],
   "source": [
    "# Evaluate the model's performance\n",
    "accuracy = accuracy_score(test_predictions, y_test)\n",
    "print(\"Accuracy: {:.2f}%\".format(accuracy * 100))"
   ]
  },
  {
   "cell_type": "code",
   "execution_count": 22,
   "id": "cd0e4010-e36e-4d41-a55a-56982dc44bf8",
   "metadata": {},
   "outputs": [
    {
     "name": "stdout",
     "output_type": "stream",
     "text": [
      "[[132  60]\n",
      " [239 692]]\n"
     ]
    }
   ],
   "source": [
    "test_matrix = confusion_matrix(y_test, test_predictions)\n",
    "print(test_matrix)"
   ]
  },
  {
   "cell_type": "code",
   "execution_count": 23,
   "id": "cb691ac0-febf-4912-b077-daa36909c99c",
   "metadata": {},
   "outputs": [
    {
     "name": "stdout",
     "output_type": "stream",
     "text": [
      "              precision    recall  f1-score   support\n",
      "\n",
      "          -1       0.36      0.69      0.47       192\n",
      "           1       0.92      0.74      0.82       931\n",
      "\n",
      "    accuracy                           0.73      1123\n",
      "   macro avg       0.64      0.72      0.65      1123\n",
      "weighted avg       0.82      0.73      0.76      1123\n",
      "\n"
     ]
    }
   ],
   "source": [
    "testing_report = classification_report(y_test, test_predictions)\n",
    "print(testing_report)"
   ]
  },
  {
   "cell_type": "code",
   "execution_count": null,
   "id": "f8bb3ac7-5b77-4bf8-b9d2-35e4eee3a139",
   "metadata": {},
   "outputs": [],
   "source": []
  }
 ],
 "metadata": {
  "kernelspec": {
   "display_name": "Python 3 (ipykernel)",
   "language": "python",
   "name": "python3"
  },
  "language_info": {
   "codemirror_mode": {
    "name": "ipython",
    "version": 3
   },
   "file_extension": ".py",
   "mimetype": "text/x-python",
   "name": "python",
   "nbconvert_exporter": "python",
   "pygments_lexer": "ipython3",
   "version": "3.9.12"
  }
 },
 "nbformat": 4,
 "nbformat_minor": 5
}
