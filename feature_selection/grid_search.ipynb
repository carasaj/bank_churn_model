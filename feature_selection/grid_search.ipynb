{
 "cells": [
  {
   "cell_type": "code",
   "execution_count": null,
   "metadata": {},
   "outputs": [],
   "source": [
    "import pandas as pd\n",
    "from pathlib import Path\n",
    "from imblearn.metrics import classification_report_imbalanced\n",
    "from imblearn.over_sampling import SMOTE\n",
    "from sklearn.metrics import accuracy_score\n",
    "from sklearn.metrics import classification_report\n",
    "from sklearn.metrics import confusion_matrix\n",
    "from sklearn.preprocessing import StandardScaler\n",
    "from sklearn.preprocessing import OneHotEncoder\n",
    "from sklearn.compose import ColumnTransformer\n",
    "from sklearn.model_selection import train_test_split\n",
    "from sklearn.ensemble import GradientBoostingClassifier\n",
    "from sklearn.model_selection import GridSearchCV"
   ]
  },
  {
   "cell_type": "code",
   "execution_count": null,
   "metadata": {},
   "outputs": [],
   "source": [
    "starter_df = pd.read_csv(Path(\"c://users/ajcth/documents/github/bank_churn_model/Resources/BankChurnersPrimary.csv\"))\n",
    "starter_df.sample(5)"
   ]
  },
  {
   "cell_type": "code",
   "execution_count": null,
   "metadata": {},
   "outputs": [],
   "source": [
    "starter_df.drop(columns=[\n",
    "'Naive_Bayes_Classifier_Attrition_Flag_Card_Category_Contacts_Count_12_mon_Dependent_count_Education_Level_Months_Inactive_12_mon_2', \n",
    "'Naive_Bayes_Classifier_Attrition_Flag_Card_Category_Contacts_Count_12_mon_Dependent_count_Education_Level_Months_Inactive_12_mon_1',\n",
    "'CLIENTNUM',\n",
    "'Education_Level', \n",
    "'Marital_Status', \n",
    "'Income_Category'\n",
    "], \n",
    "inplace= True)"
   ]
  },
  {
   "cell_type": "code",
   "execution_count": null,
   "metadata": {},
   "outputs": [],
   "source": [
    "\n",
    "enc = OneHotEncoder(sparse=False)\n",
    "categorical_variables = ['Card_Category']\n",
    "encoded_data = enc.fit_transform(starter_df[categorical_variables])\n",
    "encoded_dataframe = pd.DataFrame(encoded_data, columns = enc.get_feature_names(categorical_variables))\n",
    "starter_df.drop(columns=['Card_Category'], inplace=True)\n",
    "starter_df = pd.concat([starter_df, encoded_dataframe.set_axis(starter_df.index)], axis=1)\n",
    "starter_df.sample(10)"
   ]
  },
  {
   "cell_type": "code",
   "execution_count": null,
   "metadata": {},
   "outputs": [],
   "source": [
    "starter_df = starter_df.replace({'Gender' : {\n",
    "'M': 0, \n",
    "'F': 1\n",
    "}})\n",
    "starter_df.Gender = starter_df.Gender.astype(int)"
   ]
  },
  {
   "cell_type": "code",
   "execution_count": null,
   "metadata": {},
   "outputs": [],
   "source": [
    "starter_df = starter_df.replace({'Attrition_Flag' : {\n",
    "'Attrited Customer': 0, \n",
    "'Existing Customer': 1\n",
    "}})\n",
    "starter_df.Attrition_Flag = starter_df.Attrition_Flag.astype(int)"
   ]
  },
  {
   "cell_type": "code",
   "execution_count": null,
   "metadata": {},
   "outputs": [],
   "source": [
    "y = starter_df['Attrition_Flag']\n",
    "X = starter_df.drop(columns=['Attrition_Flag'])"
   ]
  },
  {
   "cell_type": "code",
   "execution_count": null,
   "metadata": {},
   "outputs": [],
   "source": [
    "X_train, X_test, y_train, y_test = train_test_split(X, y, random_state=1)"
   ]
  },
  {
   "cell_type": "code",
   "execution_count": null,
   "metadata": {},
   "outputs": [],
   "source": [
    "scaler = StandardScaler()\n",
    "X_train = scaler.fit_transform(X_train)\n",
    "X_test = scaler.transform(X_test)"
   ]
  },
  {
   "cell_type": "code",
   "execution_count": null,
   "metadata": {},
   "outputs": [],
   "source": [
    "oversample = SMOTE()\n",
    "X_train, y_train = oversample.fit_resample(X_train, y_train)"
   ]
  },
  {
   "attachments": {},
   "cell_type": "markdown",
   "metadata": {},
   "source": [
    "### Pick the parameters you want to test below:"
   ]
  },
  {
   "cell_type": "code",
   "execution_count": null,
   "metadata": {},
   "outputs": [],
   "source": [
    "parameters = {\n",
    "#'n_estimators' : [],               #default = 100    range = 1-inf\n",
    "#'random_state' : [],               #default = None   range = 1-inf\n",
    "#'subsample' : [],                  #default = 1      range = 0.-1\n",
    "#'min_samples_split' : [],          #default = 2      range = 2-inf\n",
    "#'max_depth' : [],                  #default = 3      range = 1-inf\n",
    "#'min_impurity_decrease' : [],      #default = 0      range = 0 - inf\n",
    "#'min_samples_leaf' : [],           #default = 1      range = 1 - inf\n",
    "#'min_weight_fraction_leaf' : [],   #default = 0      range =0 - 0.5\n",
    "#'max_leaf_nodes' : [],             #default = None   range = 2-inf\n",
    "#'learning_rate' : [],              #default=0.1      range 0.0-inf\n",
    "#'init' : ('zero', None),\n",
    "#'loss' : ('deviance', 'exponential')\n",
    "}\n",
    "\n",
    "\n",
    "\n",
    "gbc = GradientBoostingClassifier()\n",
    "clf = GridSearchCV(gbc, parameters)\n",
    "clf.fit(X_train, y_train)\n",
    "clf.best_estimator_\n"
   ]
  }
 ],
 "metadata": {
  "language_info": {
   "name": "python"
  },
  "orig_nbformat": 4
 },
 "nbformat": 4,
 "nbformat_minor": 2
}
