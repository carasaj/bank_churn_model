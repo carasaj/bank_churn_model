{
 "cells": [
  {
   "cell_type": "code",
   "execution_count": 1,
   "id": "ddc63ea9-afc2-4f84-910f-ce781d62bfdd",
   "metadata": {},
   "outputs": [],
   "source": [
    "import pandas as pd\n",
    "import numpy as np\n",
    "from pathlib import Path\n",
    "\n",
    "from imblearn.over_sampling import SMOTE\n",
    "from sklearn.preprocessing import OneHotEncoder\n",
    "from sklearn.preprocessing import StandardScaler\n",
    "from sklearn.model_selection import train_test_split\n",
    "from sklearn.linear_model import LogisticRegression\n",
    "from sklearn.ensemble import RandomForestClassifier\n",
    "from sklearn.metrics import accuracy_score\n",
    "from sklearn.metrics import classification_report\n",
    "from sklearn.metrics import confusion_matrix\n",
    "from sklearn.svm import SVC"
   ]
  },
  {
   "cell_type": "code",
   "execution_count": 2,
   "id": "e9cafa1e-7bd1-4d9d-9575-57ace5ab2800",
   "metadata": {},
   "outputs": [
    {
     "data": {
      "text/html": [
       "<div>\n",
       "<style scoped>\n",
       "    .dataframe tbody tr th:only-of-type {\n",
       "        vertical-align: middle;\n",
       "    }\n",
       "\n",
       "    .dataframe tbody tr th {\n",
       "        vertical-align: top;\n",
       "    }\n",
       "\n",
       "    .dataframe thead th {\n",
       "        text-align: right;\n",
       "    }\n",
       "</style>\n",
       "<table border=\"1\" class=\"dataframe\">\n",
       "  <thead>\n",
       "    <tr style=\"text-align: right;\">\n",
       "      <th></th>\n",
       "      <th>Unnamed: 0</th>\n",
       "      <th>Status</th>\n",
       "      <th>Gender</th>\n",
       "      <th>Education</th>\n",
       "      <th>Income</th>\n",
       "      <th>Card Type</th>\n",
       "      <th>Months_Inactive_12_mon</th>\n",
       "      <th>Total_Revolving_Bal</th>\n",
       "      <th>Avg_Utilization_Ratio</th>\n",
       "      <th>MaritalDependentRatio</th>\n",
       "      <th>CreditUsage</th>\n",
       "      <th>AvgTransValue</th>\n",
       "      <th>TenureByAge</th>\n",
       "    </tr>\n",
       "  </thead>\n",
       "  <tbody>\n",
       "    <tr>\n",
       "      <th>0</th>\n",
       "      <td>0</td>\n",
       "      <td>1</td>\n",
       "      <td>0</td>\n",
       "      <td>1</td>\n",
       "      <td>3</td>\n",
       "      <td>0</td>\n",
       "      <td>1</td>\n",
       "      <td>777</td>\n",
       "      <td>0.061</td>\n",
       "      <td>0.25</td>\n",
       "      <td>0.94</td>\n",
       "      <td>27.24</td>\n",
       "      <td>0.87</td>\n",
       "    </tr>\n",
       "    <tr>\n",
       "      <th>1</th>\n",
       "      <td>4</td>\n",
       "      <td>1</td>\n",
       "      <td>0</td>\n",
       "      <td>0</td>\n",
       "      <td>3</td>\n",
       "      <td>0</td>\n",
       "      <td>1</td>\n",
       "      <td>0</td>\n",
       "      <td>0.000</td>\n",
       "      <td>0.25</td>\n",
       "      <td>1.00</td>\n",
       "      <td>29.14</td>\n",
       "      <td>0.52</td>\n",
       "    </tr>\n",
       "    <tr>\n",
       "      <th>2</th>\n",
       "      <td>8</td>\n",
       "      <td>1</td>\n",
       "      <td>0</td>\n",
       "      <td>0</td>\n",
       "      <td>3</td>\n",
       "      <td>0</td>\n",
       "      <td>2</td>\n",
       "      <td>2517</td>\n",
       "      <td>0.113</td>\n",
       "      <td>0.12</td>\n",
       "      <td>0.89</td>\n",
       "      <td>56.25</td>\n",
       "      <td>0.97</td>\n",
       "    </tr>\n",
       "    <tr>\n",
       "      <th>3</th>\n",
       "      <td>12</td>\n",
       "      <td>1</td>\n",
       "      <td>0</td>\n",
       "      <td>2</td>\n",
       "      <td>2</td>\n",
       "      <td>0</td>\n",
       "      <td>6</td>\n",
       "      <td>0</td>\n",
       "      <td>0.000</td>\n",
       "      <td>0.25</td>\n",
       "      <td>1.00</td>\n",
       "      <td>90.53</td>\n",
       "      <td>0.64</td>\n",
       "    </tr>\n",
       "    <tr>\n",
       "      <th>4</th>\n",
       "      <td>16</td>\n",
       "      <td>1</td>\n",
       "      <td>0</td>\n",
       "      <td>3</td>\n",
       "      <td>2</td>\n",
       "      <td>0</td>\n",
       "      <td>2</td>\n",
       "      <td>2362</td>\n",
       "      <td>0.078</td>\n",
       "      <td>0.10</td>\n",
       "      <td>0.92</td>\n",
       "      <td>61.89</td>\n",
       "      <td>0.75</td>\n",
       "    </tr>\n",
       "    <tr>\n",
       "      <th>...</th>\n",
       "      <td>...</td>\n",
       "      <td>...</td>\n",
       "      <td>...</td>\n",
       "      <td>...</td>\n",
       "      <td>...</td>\n",
       "      <td>...</td>\n",
       "      <td>...</td>\n",
       "      <td>...</td>\n",
       "      <td>...</td>\n",
       "      <td>...</td>\n",
       "      <td>...</td>\n",
       "      <td>...</td>\n",
       "      <td>...</td>\n",
       "    </tr>\n",
       "    <tr>\n",
       "      <th>4485</th>\n",
       "      <td>10113</td>\n",
       "      <td>-1</td>\n",
       "      <td>0</td>\n",
       "      <td>1</td>\n",
       "      <td>3</td>\n",
       "      <td>0</td>\n",
       "      <td>3</td>\n",
       "      <td>2517</td>\n",
       "      <td>0.189</td>\n",
       "      <td>0.50</td>\n",
       "      <td>0.81</td>\n",
       "      <td>120.22</td>\n",
       "      <td>1.33</td>\n",
       "    </tr>\n",
       "    <tr>\n",
       "      <th>4486</th>\n",
       "      <td>10115</td>\n",
       "      <td>1</td>\n",
       "      <td>0</td>\n",
       "      <td>0</td>\n",
       "      <td>1</td>\n",
       "      <td>0</td>\n",
       "      <td>3</td>\n",
       "      <td>1558</td>\n",
       "      <td>0.276</td>\n",
       "      <td>0.25</td>\n",
       "      <td>0.72</td>\n",
       "      <td>152.55</td>\n",
       "      <td>0.95</td>\n",
       "    </tr>\n",
       "    <tr>\n",
       "      <th>4487</th>\n",
       "      <td>10116</td>\n",
       "      <td>1</td>\n",
       "      <td>0</td>\n",
       "      <td>2</td>\n",
       "      <td>2</td>\n",
       "      <td>0</td>\n",
       "      <td>2</td>\n",
       "      <td>2241</td>\n",
       "      <td>0.170</td>\n",
       "      <td>0.08</td>\n",
       "      <td>0.83</td>\n",
       "      <td>137.09</td>\n",
       "      <td>0.78</td>\n",
       "    </tr>\n",
       "    <tr>\n",
       "      <th>4488</th>\n",
       "      <td>10120</td>\n",
       "      <td>1</td>\n",
       "      <td>0</td>\n",
       "      <td>1</td>\n",
       "      <td>3</td>\n",
       "      <td>0</td>\n",
       "      <td>2</td>\n",
       "      <td>2109</td>\n",
       "      <td>0.151</td>\n",
       "      <td>0.25</td>\n",
       "      <td>0.85</td>\n",
       "      <td>136.64</td>\n",
       "      <td>0.63</td>\n",
       "    </tr>\n",
       "    <tr>\n",
       "      <th>4489</th>\n",
       "      <td>10124</td>\n",
       "      <td>-1</td>\n",
       "      <td>1</td>\n",
       "      <td>1</td>\n",
       "      <td>0</td>\n",
       "      <td>0</td>\n",
       "      <td>3</td>\n",
       "      <td>0</td>\n",
       "      <td>0.000</td>\n",
       "      <td>0.50</td>\n",
       "      <td>1.00</td>\n",
       "      <td>171.52</td>\n",
       "      <td>0.82</td>\n",
       "    </tr>\n",
       "  </tbody>\n",
       "</table>\n",
       "<p>4490 rows × 13 columns</p>\n",
       "</div>"
      ],
      "text/plain": [
       "      Unnamed: 0  Status  Gender  Education  Income  Card Type  \\\n",
       "0              0       1       0          1       3          0   \n",
       "1              4       1       0          0       3          0   \n",
       "2              8       1       0          0       3          0   \n",
       "3             12       1       0          2       2          0   \n",
       "4             16       1       0          3       2          0   \n",
       "...          ...     ...     ...        ...     ...        ...   \n",
       "4485       10113      -1       0          1       3          0   \n",
       "4486       10115       1       0          0       1          0   \n",
       "4487       10116       1       0          2       2          0   \n",
       "4488       10120       1       0          1       3          0   \n",
       "4489       10124      -1       1          1       0          0   \n",
       "\n",
       "      Months_Inactive_12_mon  Total_Revolving_Bal  Avg_Utilization_Ratio  \\\n",
       "0                          1                  777                  0.061   \n",
       "1                          1                    0                  0.000   \n",
       "2                          2                 2517                  0.113   \n",
       "3                          6                    0                  0.000   \n",
       "4                          2                 2362                  0.078   \n",
       "...                      ...                  ...                    ...   \n",
       "4485                       3                 2517                  0.189   \n",
       "4486                       3                 1558                  0.276   \n",
       "4487                       2                 2241                  0.170   \n",
       "4488                       2                 2109                  0.151   \n",
       "4489                       3                    0                  0.000   \n",
       "\n",
       "      MaritalDependentRatio  CreditUsage  AvgTransValue  TenureByAge  \n",
       "0                      0.25         0.94          27.24         0.87  \n",
       "1                      0.25         1.00          29.14         0.52  \n",
       "2                      0.12         0.89          56.25         0.97  \n",
       "3                      0.25         1.00          90.53         0.64  \n",
       "4                      0.10         0.92          61.89         0.75  \n",
       "...                     ...          ...            ...          ...  \n",
       "4485                   0.50         0.81         120.22         1.33  \n",
       "4486                   0.25         0.72         152.55         0.95  \n",
       "4487                   0.08         0.83         137.09         0.78  \n",
       "4488                   0.25         0.85         136.64         0.63  \n",
       "4489                   0.50         1.00         171.52         0.82  \n",
       "\n",
       "[4490 rows x 13 columns]"
      ]
     },
     "execution_count": 2,
     "metadata": {},
     "output_type": "execute_result"
    }
   ],
   "source": [
    "#importing Austins feture engineered Bank Churn Dataframe\n",
    "\n",
    "starter_df = pd.read_csv(Path(\"../Resources/BankChurnedit1.csv\"))\n",
    "starter_df"
   ]
  },
  {
   "attachments": {},
   "cell_type": "markdown",
   "id": "2c3a2c9a",
   "metadata": {},
   "source": [
    "education only run all below for that"
   ]
  },
  {
   "cell_type": "markdown",
   "id": "6e4d7571-78e4-4c9c-893d-515e016a6143",
   "metadata": {},
   "source": [
    "Best performing column compared to Status/Attrition \n",
    "Total Revolving Balance\n",
    "Accuracy: 73.37%\n",
    "              precision    recall  f1-score   support\n",
    "\n",
    "          -1       0.33      0.55      0.41       192\n",
    "           1       0.89      0.77      0.83       931\n",
    "\n",
    "    accuracy                           0.73      1123\n",
    "   macro avg       0.61      0.66      0.62      1123\n",
    "weighted avg       0.80      0.73      0.76      1123\n"
   ]
  },
  {
   "cell_type": "code",
   "execution_count": 17,
   "id": "52a1a6c4-4390-4ac1-872b-d7685e6ae9bd",
   "metadata": {},
   "outputs": [],
   "source": [
    "#X will be only Education\n",
    "y = starter_df['Status']\n",
    "X = starter_df['Education']"
   ]
  },
  {
   "cell_type": "code",
   "execution_count": 18,
   "id": "96d171dc-602d-4119-bee6-0791bf266dd0",
   "metadata": {},
   "outputs": [],
   "source": [
    "#Split features and target in to training and testing sets\n",
    "X_train, X_test, y_train, y_test = train_test_split(X, y, random_state=1)"
   ]
  },
  {
   "cell_type": "code",
   "execution_count": 19,
   "id": "bd324d41-c80d-41cc-8371-6453a12e025d",
   "metadata": {},
   "outputs": [],
   "source": [
    "#Use SMOTE to add synthetic data and balance our target feature value count\n",
    "oversample = SMOTE()\n",
    "X_train, y_train = oversample.fit_resample(X_train, y_train)"
   ]
  },
  {
   "cell_type": "code",
   "execution_count": 28,
   "id": "7cde8411-ea80-4c42-b16b-34197a116138",
   "metadata": {},
   "outputs": [],
   "source": [
    "#Choose a model\n",
    "#clf = SVC()\n",
    "#clf = LogisticRegression()\n",
    "clf = RandomForestClassifier(n_estimators= 2000)"
   ]
  },
  {
   "cell_type": "code",
   "execution_count": 29,
   "id": "2cecc246-5050-4926-bc5c-ca95c6943203",
   "metadata": {},
   "outputs": [
    {
     "data": {
      "text/plain": [
       "RandomForestClassifier(n_estimators=2000)"
      ]
     },
     "execution_count": 29,
     "metadata": {},
     "output_type": "execute_result"
    }
   ],
   "source": [
    "#Fit\n",
    "clf.fit(X_train, y_train)"
   ]
  },
  {
   "cell_type": "code",
   "execution_count": 30,
   "id": "c2678f14-9f07-4477-9925-a1371ff59ff8",
   "metadata": {},
   "outputs": [],
   "source": [
    "#Predict\n",
    "test_predictions = clf.predict(X_test)"
   ]
  },
  {
   "cell_type": "code",
   "execution_count": 31,
   "id": "d8d6626a-39dc-437b-ac17-7ed5e1e26a67",
   "metadata": {},
   "outputs": [
    {
     "name": "stdout",
     "output_type": "stream",
     "text": [
      "Accuracy: 59.31%\n"
     ]
    }
   ],
   "source": [
    "# Evaluate the model's performance\n",
    "accuracy = accuracy_score(test_predictions, y_test)\n",
    "print(\"Accuracy: {:.2f}%\".format(accuracy * 100))"
   ]
  },
  {
   "cell_type": "code",
   "execution_count": 32,
   "id": "e70d0498-5c08-40d5-9f5a-4d5e4db313db",
   "metadata": {},
   "outputs": [
    {
     "name": "stdout",
     "output_type": "stream",
     "text": [
      "[[ 81 111]\n",
      " [346 585]]\n"
     ]
    }
   ],
   "source": [
    "test_matrix = confusion_matrix(y_test, test_predictions)\n",
    "print(test_matrix)"
   ]
  },
  {
   "cell_type": "code",
   "execution_count": 33,
   "id": "72112cb5-afd5-4c5f-bd6b-02ebcbc3e1b5",
   "metadata": {},
   "outputs": [
    {
     "name": "stdout",
     "output_type": "stream",
     "text": [
      "              precision    recall  f1-score   support\n",
      "\n",
      "          -1       0.19      0.42      0.26       192\n",
      "           1       0.84      0.63      0.72       931\n",
      "\n",
      "    accuracy                           0.59      1123\n",
      "   macro avg       0.52      0.53      0.49      1123\n",
      "weighted avg       0.73      0.59      0.64      1123\n",
      "\n"
     ]
    }
   ],
   "source": [
    "testing_report = classification_report(y_test, test_predictions)\n",
    "print(testing_report)"
   ]
  },
  {
   "cell_type": "markdown",
   "id": "498e279d-f9e6-4eca-9ef2-48e482c38539",
   "metadata": {},
   "source": [
    "Education :\n",
    "Accuracy: 59.31%\n",
    "              precision    recall  f1-score   support\n",
    "\n",
    "          -1       0.19      0.42      0.26       192\n",
    "           1       0.84      0.63      0.72       931\n",
    "\n",
    "    accuracy                           0.59      1123\n",
    "   macro avg       0.52      0.53      0.49      1123\n",
    "weighted avg       0.73      0.59      0.64      1123\n"
   ]
  },
  {
   "cell_type": "code",
   "execution_count": null,
   "id": "d9e64f86-06ab-4677-8ea0-9f22cc9b7bfa",
   "metadata": {},
   "outputs": [],
   "source": [
    "new test X will be Income category"
   ]
  },
  {
   "cell_type": "code",
   "execution_count": 34,
   "id": "37867d43-a1d4-4894-ab49-96624513293a",
   "metadata": {},
   "outputs": [],
   "source": [
    "#X will be only Income\n",
    "y = starter_df['Status']\n",
    "X = starter_df['Income']"
   ]
  },
  {
   "cell_type": "code",
   "execution_count": 35,
   "id": "0af737bd-c66a-4dd0-b724-97839c8ed767",
   "metadata": {},
   "outputs": [],
   "source": [
    "#Split features and target in to training and testing sets\n",
    "X_train, X_test, y_train, y_test = train_test_split(X, y, random_state=1)"
   ]
  },
  {
   "cell_type": "code",
   "execution_count": 36,
   "id": "741392b9-35c1-40d0-ab45-7394b0a99dcf",
   "metadata": {},
   "outputs": [],
   "source": [
    "#Use SMOTE to add synthetic data and balance our target feature value count\n",
    "oversample = SMOTE()\n",
    "X_train, y_train = oversample.fit_resample(X_train, y_train)"
   ]
  },
  {
   "cell_type": "code",
   "execution_count": 37,
   "id": "aaaff9c1-6e87-42bc-9e3a-5d527848383a",
   "metadata": {},
   "outputs": [],
   "source": [
    "#Choose a model\n",
    "#clf = SVC()\n",
    "#clf = LogisticRegression()\n",
    "clf = RandomForestClassifier(n_estimators= 2000)"
   ]
  },
  {
   "cell_type": "code",
   "execution_count": 38,
   "id": "e8ebb459-4aac-4836-b14b-cdfef604a488",
   "metadata": {},
   "outputs": [
    {
     "data": {
      "text/plain": [
       "RandomForestClassifier(n_estimators=2000)"
      ]
     },
     "execution_count": 38,
     "metadata": {},
     "output_type": "execute_result"
    }
   ],
   "source": [
    "#Fit\n",
    "clf.fit(X_train, y_train)"
   ]
  },
  {
   "cell_type": "code",
   "execution_count": 39,
   "id": "f7c35829-c7ac-4bf7-8c53-321849322bfd",
   "metadata": {},
   "outputs": [],
   "source": [
    "#Predict\n",
    "test_predictions = clf.predict(X_test)"
   ]
  },
  {
   "cell_type": "code",
   "execution_count": 40,
   "id": "53d2bb37-96ea-4371-9b8f-fe6ca65840c2",
   "metadata": {},
   "outputs": [
    {
     "name": "stdout",
     "output_type": "stream",
     "text": [
      "Accuracy: 61.26%\n"
     ]
    }
   ],
   "source": [
    "# Evaluate the model's performance\n",
    "accuracy = accuracy_score(test_predictions, y_test)\n",
    "print(\"Accuracy: {:.2f}%\".format(accuracy * 100))"
   ]
  },
  {
   "cell_type": "code",
   "execution_count": 41,
   "id": "0dea3381-ff5b-491f-8379-b6d0c363a694",
   "metadata": {},
   "outputs": [
    {
     "name": "stdout",
     "output_type": "stream",
     "text": [
      "[[ 79 113]\n",
      " [322 609]]\n"
     ]
    }
   ],
   "source": [
    "test_matrix = confusion_matrix(y_test, test_predictions)\n",
    "print(test_matrix)"
   ]
  },
  {
   "cell_type": "code",
   "execution_count": 42,
   "id": "dc0298b2-c6e7-4c52-8e74-bf93a8e1025f",
   "metadata": {},
   "outputs": [
    {
     "name": "stdout",
     "output_type": "stream",
     "text": [
      "              precision    recall  f1-score   support\n",
      "\n",
      "          -1       0.20      0.41      0.27       192\n",
      "           1       0.84      0.65      0.74       931\n",
      "\n",
      "    accuracy                           0.61      1123\n",
      "   macro avg       0.52      0.53      0.50      1123\n",
      "weighted avg       0.73      0.61      0.66      1123\n",
      "\n"
     ]
    }
   ],
   "source": [
    "testing_report = classification_report(y_test, test_predictions)\n",
    "print(testing_report)"
   ]
  },
  {
   "cell_type": "markdown",
   "id": "cf70418e-3b3c-46e8-934e-3d0dd4489684",
   "metadata": {},
   "source": [
    "Income\n",
    "Accuracy: 61.26%\n",
    "              precision    recall  f1-score   support\n",
    "\n",
    "          -1       0.20      0.41      0.27       192\n",
    "           1       0.84      0.65      0.74       931\n",
    "\n",
    "    accuracy                           0.61      1123\n",
    "   macro avg       0.52      0.53      0.50      1123\n",
    "weighted avg       0.73      0.61      0.66      1123"
   ]
  },
  {
   "cell_type": "code",
   "execution_count": 44,
   "id": "d83449be-545d-4e26-b10c-c3984ad82810",
   "metadata": {},
   "outputs": [],
   "source": [
    "#X will be only Card Type\n",
    "y = starter_df['Status']\n",
    "X = starter_df.drop(columns=['Status','Gender','Education','Income','Months_Inactive_12_mon','Total_Revolving_Bal','Avg_Utilization_Ratio','MaritalDependentRatio','CreditUsage','AvgTransValue','TenureByAge'])"
   ]
  },
  {
   "cell_type": "code",
   "execution_count": 45,
   "id": "6a2bcce5-10ae-4a04-a302-7e4de5e0d8b5",
   "metadata": {},
   "outputs": [],
   "source": [
    "#Split features and target in to training and testing sets\n",
    "X_train, X_test, y_train, y_test = train_test_split(X, y, random_state=1)"
   ]
  },
  {
   "cell_type": "code",
   "execution_count": 46,
   "id": "5424e842-6e53-45c7-be62-f5f5adc364da",
   "metadata": {},
   "outputs": [],
   "source": [
    "#Use SMOTE to add synthetic data and balance our target feature value count\n",
    "oversample = SMOTE()\n",
    "X_train, y_train = oversample.fit_resample(X_train, y_train)"
   ]
  },
  {
   "cell_type": "code",
   "execution_count": 47,
   "id": "7c8fefbb-604a-414b-8789-b48c2526822e",
   "metadata": {},
   "outputs": [],
   "source": [
    "#Choose a model\n",
    "#clf = SVC()\n",
    "#clf = LogisticRegression()\n",
    "clf = RandomForestClassifier(n_estimators= 2000)"
   ]
  },
  {
   "cell_type": "code",
   "execution_count": 48,
   "id": "df385aaf-1dda-4748-9921-57884b2d08f0",
   "metadata": {},
   "outputs": [
    {
     "data": {
      "text/plain": [
       "RandomForestClassifier(n_estimators=2000)"
      ]
     },
     "execution_count": 48,
     "metadata": {},
     "output_type": "execute_result"
    }
   ],
   "source": [
    "#Fit\n",
    "clf.fit(X_train, y_train)"
   ]
  },
  {
   "cell_type": "code",
   "execution_count": 49,
   "id": "09fc7058-414f-44f4-86b0-a94200bee774",
   "metadata": {},
   "outputs": [],
   "source": [
    "#Predict\n",
    "test_predictions = clf.predict(X_test)"
   ]
  },
  {
   "cell_type": "code",
   "execution_count": 50,
   "id": "a8018eef-eaa7-482a-966e-1d1ffa8d0c43",
   "metadata": {},
   "outputs": [
    {
     "name": "stdout",
     "output_type": "stream",
     "text": [
      "Accuracy: 56.81%\n"
     ]
    }
   ],
   "source": [
    "# Evaluate the model's performance\n",
    "accuracy = accuracy_score(test_predictions, y_test)\n",
    "print(\"Accuracy: {:.2f}%\".format(accuracy * 100))"
   ]
  },
  {
   "cell_type": "code",
   "execution_count": 51,
   "id": "abff7480-a963-4cde-a29a-753308552722",
   "metadata": {},
   "outputs": [
    {
     "name": "stdout",
     "output_type": "stream",
     "text": [
      "[[ 86 106]\n",
      " [379 552]]\n"
     ]
    }
   ],
   "source": [
    "test_matrix = confusion_matrix(y_test, test_predictions)\n",
    "print(test_matrix)"
   ]
  },
  {
   "cell_type": "code",
   "execution_count": 52,
   "id": "7477daee-7246-40f4-b3d4-1705284182c8",
   "metadata": {},
   "outputs": [
    {
     "name": "stdout",
     "output_type": "stream",
     "text": [
      "              precision    recall  f1-score   support\n",
      "\n",
      "          -1       0.18      0.45      0.26       192\n",
      "           1       0.84      0.59      0.69       931\n",
      "\n",
      "    accuracy                           0.57      1123\n",
      "   macro avg       0.51      0.52      0.48      1123\n",
      "weighted avg       0.73      0.57      0.62      1123\n",
      "\n"
     ]
    }
   ],
   "source": [
    "testing_report = classification_report(y_test, test_predictions)\n",
    "print(testing_report)"
   ]
  },
  {
   "cell_type": "markdown",
   "id": "226bfa0f-04f8-41ad-aa1b-b3076e09fad3",
   "metadata": {},
   "source": [
    "Card Type\n",
    "Accuracy: 56.81%\n",
    "              precision    recall  f1-score   support\n",
    "\n",
    "          -1       0.18      0.45      0.26       192\n",
    "           1       0.84      0.59      0.69       931\n",
    "\n",
    "    accuracy                           0.57      1123\n",
    "   macro avg       0.51      0.52      0.48      1123\n",
    "weighted avg       0.73      0.57      0.62      1123"
   ]
  },
  {
   "cell_type": "code",
   "execution_count": 53,
   "id": "3ec94dfe-adc0-4715-90eb-11c5180cb760",
   "metadata": {},
   "outputs": [],
   "source": [
    "#X will be only Months inactive 12 mon\n",
    "y = starter_df['Status']\n",
    "X = starter_df.drop(columns=['Status','Gender','Education','Income','Card Type','Total_Revolving_Bal','Avg_Utilization_Ratio','MaritalDependentRatio','CreditUsage','AvgTransValue','TenureByAge'])"
   ]
  },
  {
   "cell_type": "code",
   "execution_count": 54,
   "id": "9371e62f-4800-41bb-a64e-de5be64ccacf",
   "metadata": {},
   "outputs": [],
   "source": [
    "#Split features and target in to training and testing sets\n",
    "X_train, X_test, y_train, y_test = train_test_split(X, y, random_state=1)"
   ]
  },
  {
   "cell_type": "code",
   "execution_count": 55,
   "id": "a2d3a009-df86-44d6-94d1-0e3dff588193",
   "metadata": {},
   "outputs": [],
   "source": [
    "#Use SMOTE to add synthetic data and balance our target feature value count\n",
    "oversample = SMOTE()\n",
    "X_train, y_train = oversample.fit_resample(X_train, y_train)"
   ]
  },
  {
   "cell_type": "code",
   "execution_count": 56,
   "id": "dae1070b-53ee-4faa-824c-f735f8879d0f",
   "metadata": {},
   "outputs": [],
   "source": [
    "#Choose a model\n",
    "#clf = SVC()\n",
    "#clf = LogisticRegression()\n",
    "clf = RandomForestClassifier(n_estimators= 2000)"
   ]
  },
  {
   "cell_type": "code",
   "execution_count": 57,
   "id": "13fc3d23-a3c2-4958-94bd-6fadd14b261c",
   "metadata": {},
   "outputs": [
    {
     "data": {
      "text/plain": [
       "RandomForestClassifier(n_estimators=2000)"
      ]
     },
     "execution_count": 57,
     "metadata": {},
     "output_type": "execute_result"
    }
   ],
   "source": [
    "#Fit\n",
    "clf.fit(X_train, y_train)"
   ]
  },
  {
   "cell_type": "code",
   "execution_count": 58,
   "id": "2f5c2947-40b0-449b-a575-107135c10ef1",
   "metadata": {},
   "outputs": [],
   "source": [
    "#Predict\n",
    "test_predictions = clf.predict(X_test)"
   ]
  },
  {
   "cell_type": "code",
   "execution_count": 59,
   "id": "b191f25d-22e0-48a2-8901-3ae5c08ae4c9",
   "metadata": {},
   "outputs": [
    {
     "name": "stdout",
     "output_type": "stream",
     "text": [
      "Accuracy: 63.22%\n"
     ]
    }
   ],
   "source": [
    "# Evaluate the model's performance\n",
    "accuracy = accuracy_score(test_predictions, y_test)\n",
    "print(\"Accuracy: {:.2f}%\".format(accuracy * 100))"
   ]
  },
  {
   "cell_type": "code",
   "execution_count": 60,
   "id": "90b3b448-3202-4a6c-99d8-7b80701d0dd7",
   "metadata": {},
   "outputs": [
    {
     "name": "stdout",
     "output_type": "stream",
     "text": [
      "[[ 76 116]\n",
      " [297 634]]\n"
     ]
    }
   ],
   "source": [
    "test_matrix = confusion_matrix(y_test, test_predictions)\n",
    "print(test_matrix)"
   ]
  },
  {
   "cell_type": "code",
   "execution_count": 61,
   "id": "24a78d17-c3e4-4a27-8ff7-4b36e1ef1dd8",
   "metadata": {},
   "outputs": [
    {
     "name": "stdout",
     "output_type": "stream",
     "text": [
      "              precision    recall  f1-score   support\n",
      "\n",
      "          -1       0.20      0.40      0.27       192\n",
      "           1       0.85      0.68      0.75       931\n",
      "\n",
      "    accuracy                           0.63      1123\n",
      "   macro avg       0.52      0.54      0.51      1123\n",
      "weighted avg       0.74      0.63      0.67      1123\n",
      "\n"
     ]
    }
   ],
   "source": [
    "testing_report = classification_report(y_test, test_predictions)\n",
    "print(testing_report)"
   ]
  },
  {
   "cell_type": "markdown",
   "id": "59c0f3c5-4c07-4513-956a-4e5a7dd8a0b7",
   "metadata": {},
   "source": [
    "Months inactive 12 mon\n",
    "Accuracy: 63.22%\n",
    "              precision    recall  f1-score   support\n",
    "\n",
    "          -1       0.20      0.40      0.27       192\n",
    "           1       0.85      0.68      0.75       931\n",
    "\n",
    "    accuracy                           0.63      1123\n",
    "   macro avg       0.52      0.54      0.51      1123\n",
    "weighted avg       0.74      0.63      0.67      1123"
   ]
  },
  {
   "cell_type": "code",
   "execution_count": 12,
   "id": "1d73ddc7-9786-440a-b1aa-6e7a217dbebd",
   "metadata": {},
   "outputs": [],
   "source": [
    "#X will be only Total_Revolving_Bal\n",
    "y = starter_df['Status']\n",
    "X = starter_df.drop(columns=['Status','Gender','Education','Income','Card Type','Months_Inactive_12_mon','Avg_Utilization_Ratio','MaritalDependentRatio','CreditUsage','AvgTransValue','TenureByAge'])"
   ]
  },
  {
   "cell_type": "code",
   "execution_count": 13,
   "id": "d42c52a5-08a9-447a-be1d-e560157c9242",
   "metadata": {},
   "outputs": [],
   "source": [
    "#Split features and target in to training and testing sets\n",
    "X_train, X_test, y_train, y_test = train_test_split(X, y, random_state=1)"
   ]
  },
  {
   "cell_type": "code",
   "execution_count": 14,
   "id": "099b0272-e41c-4e25-b798-dba94b0b8885",
   "metadata": {},
   "outputs": [],
   "source": [
    "#Use SMOTE to add synthetic data and balance our target feature value count\n",
    "oversample = SMOTE()\n",
    "X_train, y_train = oversample.fit_resample(X_train, y_train)"
   ]
  },
  {
   "cell_type": "code",
   "execution_count": 15,
   "id": "80da463a-92d6-4456-b9d6-c1b8c09be1e1",
   "metadata": {},
   "outputs": [],
   "source": [
    "#Choose a model\n",
    "clf = SVC()\n",
    "#clf = LogisticRegression()\n",
    "#clf = RandomForestClassifier(n_estimators= 2000)"
   ]
  },
  {
   "cell_type": "code",
   "execution_count": 16,
   "id": "400266d8-e0be-4d66-a5f6-89bb456fb502",
   "metadata": {},
   "outputs": [
    {
     "data": {
      "text/plain": [
       "SVC()"
      ]
     },
     "execution_count": 16,
     "metadata": {},
     "output_type": "execute_result"
    }
   ],
   "source": [
    "#Fit\n",
    "clf.fit(X_train, y_train)"
   ]
  },
  {
   "cell_type": "code",
   "execution_count": 17,
   "id": "d681416c-9cc4-40c6-a993-561045125cc4",
   "metadata": {},
   "outputs": [],
   "source": [
    "#Predict\n",
    "test_predictions = clf.predict(X_test)"
   ]
  },
  {
   "cell_type": "code",
   "execution_count": 18,
   "id": "ca42483c-8255-4511-b252-154872e7cce9",
   "metadata": {},
   "outputs": [
    {
     "name": "stdout",
     "output_type": "stream",
     "text": [
      "Accuracy: 73.55%\n"
     ]
    }
   ],
   "source": [
    "# Evaluate the model's performance\n",
    "accuracy = accuracy_score(test_predictions, y_test)\n",
    "print(\"Accuracy: {:.2f}%\".format(accuracy * 100))"
   ]
  },
  {
   "cell_type": "code",
   "execution_count": 19,
   "id": "331a5a92-b708-4d8c-b12c-f1ed1bdc8546",
   "metadata": {},
   "outputs": [
    {
     "name": "stdout",
     "output_type": "stream",
     "text": [
      "[[132  60]\n",
      " [237 694]]\n"
     ]
    }
   ],
   "source": [
    "test_matrix = confusion_matrix(y_test, test_predictions)\n",
    "print(test_matrix)"
   ]
  },
  {
   "cell_type": "code",
   "execution_count": 20,
   "id": "147b879b-1ab8-4231-b95c-dbba9503d80e",
   "metadata": {},
   "outputs": [
    {
     "name": "stdout",
     "output_type": "stream",
     "text": [
      "              precision    recall  f1-score   support\n",
      "\n",
      "          -1       0.36      0.69      0.47       192\n",
      "           1       0.92      0.75      0.82       931\n",
      "\n",
      "    accuracy                           0.74      1123\n",
      "   macro avg       0.64      0.72      0.65      1123\n",
      "weighted avg       0.82      0.74      0.76      1123\n",
      "\n"
     ]
    }
   ],
   "source": [
    "testing_report = classification_report(y_test, test_predictions)\n",
    "print(testing_report)"
   ]
  },
  {
   "cell_type": "markdown",
   "id": "ccda18eb-fd35-4e34-a162-9ea688f74753",
   "metadata": {},
   "source": [
    "Total Revolving Balance\n",
    "Accuracy: 73.37%\n",
    "               precision    recall  f1-score   support\n",
    "\n",
    "          -1       0.36      0.69      0.47       192\n",
    "           1       0.92      0.75      0.82       931\n",
    "\n",
    "    accuracy                           0.74      1123\n",
    "   macro avg       0.64      0.72      0.65      1123\n",
    "weighted avg       0.82      0.74      0.76      1123"
   ]
  },
  {
   "cell_type": "code",
   "execution_count": 30,
   "id": "4ecc4b60-f90a-4d3a-bae1-e8523ee55899",
   "metadata": {},
   "outputs": [],
   "source": [
    "#X will be only Avg_Utilization_Ratio\n",
    "y = starter_df['Status']\n",
    "X = starter_df.drop(columns=['Status','Gender','Education','Income','Card Type','Months_Inactive_12_mon','Total_Revolving_Bal','MaritalDependentRatio','CreditUsage','AvgTransValue','TenureByAge'])"
   ]
  },
  {
   "cell_type": "code",
   "execution_count": 31,
   "id": "09339eb8-6cfa-4de1-a33a-3980b5d9eff4",
   "metadata": {},
   "outputs": [],
   "source": [
    "#Split features and target in to training and testing sets\n",
    "X_train, X_test, y_train, y_test = train_test_split(X, y, random_state=1)"
   ]
  },
  {
   "cell_type": "code",
   "execution_count": 32,
   "id": "1b1412b8-bc09-4f2b-b8f9-1f4d64573bf6",
   "metadata": {},
   "outputs": [],
   "source": [
    "#Use SMOTE to add synthetic data and balance our target feature value count\n",
    "oversample = SMOTE()\n",
    "X_train, y_train = oversample.fit_resample(X_train, y_train)"
   ]
  },
  {
   "cell_type": "code",
   "execution_count": 33,
   "id": "5411843d-0adb-40e7-b473-cdc1fb0bdf11",
   "metadata": {},
   "outputs": [],
   "source": [
    "#Choose a model\n",
    "#clf = SVC()\n",
    "#clf = LogisticRegression()\n",
    "clf = RandomForestClassifier(n_estimators= 2000)"
   ]
  },
  {
   "cell_type": "code",
   "execution_count": 34,
   "id": "a6608521-26cc-4110-951f-5aa716dfb526",
   "metadata": {},
   "outputs": [
    {
     "data": {
      "text/plain": [
       "RandomForestClassifier(n_estimators=2000)"
      ]
     },
     "execution_count": 34,
     "metadata": {},
     "output_type": "execute_result"
    }
   ],
   "source": [
    "#Fit\n",
    "clf.fit(X_train, y_train)"
   ]
  },
  {
   "cell_type": "code",
   "execution_count": 35,
   "id": "a8320bd0-a39d-4ee5-952d-2334a3a57b1f",
   "metadata": {},
   "outputs": [],
   "source": [
    "#Predict\n",
    "test_predictions = clf.predict(X_test)"
   ]
  },
  {
   "cell_type": "code",
   "execution_count": 36,
   "id": "983c18fa-250d-4768-9ed5-dec28326bc16",
   "metadata": {},
   "outputs": [
    {
     "name": "stdout",
     "output_type": "stream",
     "text": [
      "Accuracy: 67.14%\n"
     ]
    }
   ],
   "source": [
    "# Evaluate the model's performance\n",
    "accuracy = accuracy_score(test_predictions, y_test)\n",
    "print(\"Accuracy: {:.2f}%\".format(accuracy * 100))"
   ]
  },
  {
   "cell_type": "code",
   "execution_count": 37,
   "id": "d8058424-0b36-40d1-adf8-83a56e866439",
   "metadata": {},
   "outputs": [
    {
     "name": "stdout",
     "output_type": "stream",
     "text": [
      "[[ 79 113]\n",
      " [256 675]]\n"
     ]
    }
   ],
   "source": [
    "test_matrix = confusion_matrix(y_test, test_predictions)\n",
    "print(test_matrix)"
   ]
  },
  {
   "cell_type": "code",
   "execution_count": 38,
   "id": "28db5b7c-9b60-4465-82cd-a9c005b2c9e6",
   "metadata": {},
   "outputs": [
    {
     "name": "stdout",
     "output_type": "stream",
     "text": [
      "              precision    recall  f1-score   support\n",
      "\n",
      "          -1       0.24      0.41      0.30       192\n",
      "           1       0.86      0.73      0.79       931\n",
      "\n",
      "    accuracy                           0.67      1123\n",
      "   macro avg       0.55      0.57      0.54      1123\n",
      "weighted avg       0.75      0.67      0.70      1123\n",
      "\n"
     ]
    }
   ],
   "source": [
    "testing_report = classification_report(y_test, test_predictions)\n",
    "print(testing_report)"
   ]
  },
  {
   "cell_type": "markdown",
   "id": "771d9f15-d0d7-4540-ba68-6d8cbe343841",
   "metadata": {},
   "source": [
    "RandomForestClassifier\n",
    "Avg utilization ratio\n",
    "Accuracy: 65.98%\n",
    "              precision    recall  f1-score   support\n",
    "\n",
    "          -1       0.23      0.42      0.30       192\n",
    "           1       0.86      0.71      0.78       931\n",
    "\n",
    "    accuracy                           0.66      1123\n",
    "   macro avg       0.54      0.56      0.54      1123\n",
    "weighted avg       0.75      0.66      0.69      1123\n"
   ]
  },
  {
   "cell_type": "code",
   "execution_count": 80,
   "id": "e8e4ddfc-0562-44a4-a2db-72897b000361",
   "metadata": {},
   "outputs": [],
   "source": [
    "#X will be only MaritalDependentRatio \n",
    "y = starter_df['Status']\n",
    "X = starter_df.drop(columns=['Status','Gender','Education','Income','Card Type','Months_Inactive_12_mon','Total_Revolving_Bal','Avg_Utilization_Ratio','CreditUsage','AvgTransValue','TenureByAge'])"
   ]
  },
  {
   "cell_type": "code",
   "execution_count": 81,
   "id": "cc9dbb05-a593-44e8-a204-4f40c988efa8",
   "metadata": {},
   "outputs": [],
   "source": [
    "#Split features and target in to training and testing sets\n",
    "X_train, X_test, y_train, y_test = train_test_split(X, y, random_state=1)"
   ]
  },
  {
   "cell_type": "code",
   "execution_count": 82,
   "id": "d1a805bc-9a20-4ab7-ad83-29c694f90e88",
   "metadata": {},
   "outputs": [],
   "source": [
    "#Use SMOTE to add synthetic data and balance our target feature value count\n",
    "oversample = SMOTE()\n",
    "X_train, y_train = oversample.fit_resample(X_train, y_train)"
   ]
  },
  {
   "cell_type": "code",
   "execution_count": 83,
   "id": "41832b71-8b53-4778-a1cf-079847e2c524",
   "metadata": {},
   "outputs": [],
   "source": [
    "#Choose a model\n",
    "#clf = SVC()\n",
    "#clf = LogisticRegression()\n",
    "clf = RandomForestClassifier(n_estimators= 2000)"
   ]
  },
  {
   "cell_type": "code",
   "execution_count": 84,
   "id": "dbe0ecba-ef80-44ec-8ea7-a064f6f871dc",
   "metadata": {},
   "outputs": [
    {
     "data": {
      "text/plain": [
       "RandomForestClassifier(n_estimators=2000)"
      ]
     },
     "execution_count": 84,
     "metadata": {},
     "output_type": "execute_result"
    }
   ],
   "source": [
    "#Fit\n",
    "clf.fit(X_train, y_train)"
   ]
  },
  {
   "cell_type": "code",
   "execution_count": 85,
   "id": "8c6f218a-e722-473d-a866-750e27b6a1ba",
   "metadata": {},
   "outputs": [],
   "source": [
    "#Predict\n",
    "test_predictions = clf.predict(X_test)"
   ]
  },
  {
   "cell_type": "code",
   "execution_count": 86,
   "id": "38aa2cde-1dc2-42d6-a4b3-5953afb3027b",
   "metadata": {},
   "outputs": [
    {
     "name": "stdout",
     "output_type": "stream",
     "text": [
      "Accuracy: 71.95%\n"
     ]
    }
   ],
   "source": [
    "# Evaluate the model's performance\n",
    "accuracy = accuracy_score(test_predictions, y_test)\n",
    "print(\"Accuracy: {:.2f}%\".format(accuracy * 100))"
   ]
  },
  {
   "cell_type": "code",
   "execution_count": 87,
   "id": "072eb7ac-60a8-4ec9-a426-595b4d30c7ae",
   "metadata": {},
   "outputs": [
    {
     "name": "stdout",
     "output_type": "stream",
     "text": [
      "[[ 37 155]\n",
      " [160 771]]\n"
     ]
    }
   ],
   "source": [
    "test_matrix = confusion_matrix(y_test, test_predictions)\n",
    "print(test_matrix)"
   ]
  },
  {
   "cell_type": "code",
   "execution_count": 88,
   "id": "6b94c7bc-3f21-4749-838a-70e41a703ff8",
   "metadata": {},
   "outputs": [
    {
     "name": "stdout",
     "output_type": "stream",
     "text": [
      "              precision    recall  f1-score   support\n",
      "\n",
      "          -1       0.19      0.19      0.19       192\n",
      "           1       0.83      0.83      0.83       931\n",
      "\n",
      "    accuracy                           0.72      1123\n",
      "   macro avg       0.51      0.51      0.51      1123\n",
      "weighted avg       0.72      0.72      0.72      1123\n",
      "\n"
     ]
    }
   ],
   "source": [
    "testing_report = classification_report(y_test, test_predictions)\n",
    "print(testing_report)"
   ]
  },
  {
   "cell_type": "markdown",
   "id": "3c9e8f03-16cf-4138-9637-b32df8337bcb",
   "metadata": {},
   "source": [
    "Marital Dependent Ratio \n",
    "Accuracy: 71.95%\n",
    "              precision    recall  f1-score   support\n",
    "\n",
    "          -1       0.19      0.19      0.19       192\n",
    "           1       0.83      0.83      0.83       931\n",
    "\n",
    "    accuracy                           0.72      1123\n",
    "   macro avg       0.51      0.51      0.51      1123\n",
    "weighted avg       0.72      0.72      0.72      1123\n"
   ]
  },
  {
   "cell_type": "code",
   "execution_count": 66,
   "id": "49302f09-3dd8-41e8-b8b4-f9bd5f69ba3d",
   "metadata": {},
   "outputs": [],
   "source": [
    "#X will be only CreditUsage \n",
    "y = starter_df['Status']\n",
    "X = starter_df.drop(columns=['Status','Gender','Education','Income','Card Type','Months_Inactive_12_mon','Total_Revolving_Bal','Avg_Utilization_Ratio','MaritalDependentRatio','AvgTransValue','TenureByAge'])"
   ]
  },
  {
   "cell_type": "code",
   "execution_count": 49,
   "id": "8c8c2005-4917-49ad-85a7-04a9b9055554",
   "metadata": {},
   "outputs": [],
   "source": [
    "#Split features and target in to training and testing sets\n",
    "X_train, X_test, y_train, y_test = train_test_split(X, y, random_state=1)"
   ]
  },
  {
   "cell_type": "code",
   "execution_count": 50,
   "id": "49e9d506-8e0d-4e2e-8816-08a931a09d05",
   "metadata": {},
   "outputs": [],
   "source": [
    "#Use SMOTE to add synthetic data and balance our target feature value count\n",
    "oversample = SMOTE()\n",
    "X_train, y_train = oversample.fit_resample(X_train, y_train)"
   ]
  },
  {
   "cell_type": "code",
   "execution_count": 57,
   "id": "57b22f39-b2f7-4601-b024-95edc3d6383a",
   "metadata": {},
   "outputs": [],
   "source": [
    "#Choose a model\n",
    "#clf = SVC()\n",
    "#clf = LogisticRegression()\n",
    "clf = RandomForestClassifier(n_estimators= 2000)"
   ]
  },
  {
   "cell_type": "code",
   "execution_count": 58,
   "id": "3a709f0f-1e4b-45cc-b663-cf090d7a6cb9",
   "metadata": {},
   "outputs": [
    {
     "data": {
      "text/plain": [
       "RandomForestClassifier(n_estimators=2000)"
      ]
     },
     "execution_count": 58,
     "metadata": {},
     "output_type": "execute_result"
    }
   ],
   "source": [
    "#Fit\n",
    "clf.fit(X_train, y_train)"
   ]
  },
  {
   "cell_type": "code",
   "execution_count": 59,
   "id": "5633b389-0972-485a-b074-3193aaf07031",
   "metadata": {},
   "outputs": [],
   "source": [
    "#Predict\n",
    "test_predictions = clf.predict(X_test)"
   ]
  },
  {
   "cell_type": "code",
   "execution_count": 60,
   "id": "23715de2-f0cb-4eba-9683-d8cd751801ff",
   "metadata": {},
   "outputs": [
    {
     "name": "stdout",
     "output_type": "stream",
     "text": [
      "Accuracy: 71.59%\n"
     ]
    }
   ],
   "source": [
    "# Evaluate the model's performance\n",
    "accuracy = accuracy_score(test_predictions, y_test)\n",
    "print(\"Accuracy: {:.2f}%\".format(accuracy * 100))"
   ]
  },
  {
   "cell_type": "code",
   "execution_count": 63,
   "id": "9fa29178-2e0f-4707-8e64-abac58243d5d",
   "metadata": {},
   "outputs": [
    {
     "name": "stdout",
     "output_type": "stream",
     "text": [
      "[[ 69 123]\n",
      " [196 735]]\n"
     ]
    }
   ],
   "source": [
    "test_matrix = confusion_matrix(y_test, test_predictions)\n",
    "print(test_matrix)"
   ]
  },
  {
   "cell_type": "code",
   "execution_count": 64,
   "id": "179438ce-e7d8-45d2-bf12-fc2b0011c3b7",
   "metadata": {},
   "outputs": [
    {
     "name": "stdout",
     "output_type": "stream",
     "text": [
      "              precision    recall  f1-score   support\n",
      "\n",
      "          -1       0.26      0.36      0.30       192\n",
      "           1       0.86      0.79      0.82       931\n",
      "\n",
      "    accuracy                           0.72      1123\n",
      "   macro avg       0.56      0.57      0.56      1123\n",
      "weighted avg       0.75      0.72      0.73      1123\n",
      "\n"
     ]
    }
   ],
   "source": [
    "testing_report = classification_report(y_test, test_predictions)\n",
    "print(testing_report)"
   ]
  },
  {
   "cell_type": "code",
   "execution_count": null,
   "id": "7bebbd4d-b81e-4c16-be38-8bf5d0e02132",
   "metadata": {},
   "outputs": [],
   "source": [
    "CreditUsage\n",
    "Accuracy: 71.59%\n",
    "              precision    recall  f1-score   support\n",
    "\n",
    "          -1       0.26      0.36      0.30       192\n",
    "           1       0.86      0.79      0.82       931\n",
    "\n",
    "    accuracy                           0.72      1123\n",
    "   macro avg       0.56      0.57      0.56      1123\n",
    "weighted avg       0.75      0.72      0.73      1123"
   ]
  },
  {
   "cell_type": "code",
   "execution_count": 99,
   "id": "118d8370-efb8-4977-8511-f1424596e015",
   "metadata": {},
   "outputs": [],
   "source": [
    "#X will be only AvgTransValue\n",
    "y = starter_df['Status']\n",
    "X = starter_df.drop(columns=['Status','Gender','Education','Income','Card Type','Months_Inactive_12_mon','Total_Revolving_Bal','Avg_Utilization_Ratio','MaritalDependentRatio','CreditUsage','TenureByAge'])"
   ]
  },
  {
   "cell_type": "code",
   "execution_count": 100,
   "id": "3148faa8-6348-42a3-956a-b249603130e8",
   "metadata": {},
   "outputs": [],
   "source": [
    "#Split features and target in to training and testing sets\n",
    "X_train, X_test, y_train, y_test = train_test_split(X, y, random_state=1)"
   ]
  },
  {
   "cell_type": "code",
   "execution_count": 101,
   "id": "1ad28688-445b-4f9e-b24a-c3f0df820709",
   "metadata": {},
   "outputs": [],
   "source": [
    "#Use SMOTE to add synthetic data and balance our target feature value count\n",
    "oversample = SMOTE()\n",
    "X_train, y_train = oversample.fit_resample(X_train, y_train)"
   ]
  },
  {
   "cell_type": "code",
   "execution_count": 102,
   "id": "c8e04a3a-ba5d-4f0a-b12c-aab9fda09a56",
   "metadata": {},
   "outputs": [],
   "source": [
    "#Choose a model\n",
    "#clf = SVC()\n",
    "#clf = LogisticRegression()\n",
    "clf = RandomForestClassifier(n_estimators= 2000)"
   ]
  },
  {
   "cell_type": "code",
   "execution_count": 103,
   "id": "e7e898cf-8816-42b3-a458-d219439c6bef",
   "metadata": {},
   "outputs": [
    {
     "data": {
      "text/plain": [
       "RandomForestClassifier(n_estimators=2000)"
      ]
     },
     "execution_count": 103,
     "metadata": {},
     "output_type": "execute_result"
    }
   ],
   "source": [
    "#Fit\n",
    "clf.fit(X_train, y_train)"
   ]
  },
  {
   "cell_type": "code",
   "execution_count": 104,
   "id": "4c2de6ad-d8b5-4f60-90fd-8cb69f94ee2c",
   "metadata": {},
   "outputs": [],
   "source": [
    "#Predict\n",
    "test_predictions = clf.predict(X_test)"
   ]
  },
  {
   "cell_type": "code",
   "execution_count": 105,
   "id": "d0767fcf-a5f3-421a-b431-c404142aac94",
   "metadata": {},
   "outputs": [
    {
     "name": "stdout",
     "output_type": "stream",
     "text": [
      "Accuracy: 69.10%\n"
     ]
    }
   ],
   "source": [
    "# Evaluate the model's performance\n",
    "accuracy = accuracy_score(test_predictions, y_test)\n",
    "print(\"Accuracy: {:.2f}%\".format(accuracy * 100))"
   ]
  },
  {
   "cell_type": "code",
   "execution_count": 106,
   "id": "5f4900fa-282b-4771-9c51-6c9f451a4d88",
   "metadata": {},
   "outputs": [
    {
     "name": "stdout",
     "output_type": "stream",
     "text": [
      "[[ 93  99]\n",
      " [248 683]]\n"
     ]
    }
   ],
   "source": [
    "test_matrix = confusion_matrix(y_test, test_predictions)\n",
    "print(test_matrix)"
   ]
  },
  {
   "cell_type": "code",
   "execution_count": 107,
   "id": "8520513a-359b-4f57-81f9-d44b472ec8cf",
   "metadata": {},
   "outputs": [
    {
     "name": "stdout",
     "output_type": "stream",
     "text": [
      "              precision    recall  f1-score   support\n",
      "\n",
      "          -1       0.27      0.48      0.35       192\n",
      "           1       0.87      0.73      0.80       931\n",
      "\n",
      "    accuracy                           0.69      1123\n",
      "   macro avg       0.57      0.61      0.57      1123\n",
      "weighted avg       0.77      0.69      0.72      1123\n",
      "\n"
     ]
    }
   ],
   "source": [
    "testing_report = classification_report(y_test, test_predictions)\n",
    "print(testing_report)"
   ]
  },
  {
   "cell_type": "code",
   "execution_count": null,
   "id": "ccf254f5-0a86-417a-844c-deb57f752655",
   "metadata": {},
   "outputs": [],
   "source": [
    "Avg Trans Value\n",
    "Accuracy: 69.10%\n",
    "              precision    recall  f1-score   support\n",
    "\n",
    "          -1       0.27      0.48      0.35       192\n",
    "           1       0.87      0.73      0.80       931\n",
    "\n",
    "    accuracy                           0.69      1123\n",
    "   macro avg       0.57      0.61      0.57      1123\n",
    "weighted avg       0.77      0.69      0.72      1123"
   ]
  },
  {
   "cell_type": "code",
   "execution_count": 108,
   "id": "dc5f4179-d8af-4c02-9176-b25d6db00249",
   "metadata": {},
   "outputs": [],
   "source": [
    "#X will be only TenureByAge\n",
    "y = starter_df['Status']\n",
    "X = starter_df.drop(columns=['Status','Gender','Education','Income','Card Type','Months_Inactive_12_mon','Total_Revolving_Bal','Avg_Utilization_Ratio','MaritalDependentRatio','CreditUsage','AvgTransValue'])"
   ]
  },
  {
   "cell_type": "code",
   "execution_count": 109,
   "id": "40d0f600-421a-4194-af3b-c2946804f960",
   "metadata": {},
   "outputs": [],
   "source": [
    "#Split features and target in to training and testing sets\n",
    "X_train, X_test, y_train, y_test = train_test_split(X, y, random_state=1)"
   ]
  },
  {
   "cell_type": "code",
   "execution_count": 110,
   "id": "9bd89434-9219-4cc4-b0ec-6710c036f6aa",
   "metadata": {},
   "outputs": [],
   "source": [
    "#Use SMOTE to add synthetic data and balance our target feature value count\n",
    "oversample = SMOTE()\n",
    "X_train, y_train = oversample.fit_resample(X_train, y_train)"
   ]
  },
  {
   "cell_type": "code",
   "execution_count": 111,
   "id": "e0b86c5a-8fc3-4ded-bc7e-d4238cc3940d",
   "metadata": {},
   "outputs": [],
   "source": [
    "#Choose a model\n",
    "#clf = SVC()\n",
    "#clf = LogisticRegression()\n",
    "clf = RandomForestClassifier(n_estimators= 2000)"
   ]
  },
  {
   "cell_type": "code",
   "execution_count": 112,
   "id": "aa645a47-7371-46fe-9229-362cc91fd1f9",
   "metadata": {},
   "outputs": [
    {
     "data": {
      "text/plain": [
       "RandomForestClassifier(n_estimators=2000)"
      ]
     },
     "execution_count": 112,
     "metadata": {},
     "output_type": "execute_result"
    }
   ],
   "source": [
    "#Fit\n",
    "clf.fit(X_train, y_train)"
   ]
  },
  {
   "cell_type": "code",
   "execution_count": 113,
   "id": "5b4ce021-e690-48a0-958b-086231fa7f41",
   "metadata": {},
   "outputs": [],
   "source": [
    "#Predict\n",
    "test_predictions = clf.predict(X_test)"
   ]
  },
  {
   "cell_type": "code",
   "execution_count": 114,
   "id": "07aee4dd-c60c-458f-9564-c36d132bb792",
   "metadata": {},
   "outputs": [
    {
     "name": "stdout",
     "output_type": "stream",
     "text": [
      "Accuracy: 68.66%\n"
     ]
    }
   ],
   "source": [
    "# Evaluate the model's performance\n",
    "accuracy = accuracy_score(test_predictions, y_test)\n",
    "print(\"Accuracy: {:.2f}%\".format(accuracy * 100))"
   ]
  },
  {
   "cell_type": "code",
   "execution_count": 115,
   "id": "7fad0019-efcc-4feb-b1ae-095946ed0867",
   "metadata": {},
   "outputs": [
    {
     "name": "stdout",
     "output_type": "stream",
     "text": [
      "[[ 43 149]\n",
      " [203 728]]\n"
     ]
    }
   ],
   "source": [
    "test_matrix = confusion_matrix(y_test, test_predictions)\n",
    "print(test_matrix)"
   ]
  },
  {
   "cell_type": "code",
   "execution_count": 116,
   "id": "43eadf55-afcd-4356-a69a-95488d70d8f1",
   "metadata": {},
   "outputs": [
    {
     "name": "stdout",
     "output_type": "stream",
     "text": [
      "              precision    recall  f1-score   support\n",
      "\n",
      "          -1       0.17      0.22      0.20       192\n",
      "           1       0.83      0.78      0.81       931\n",
      "\n",
      "    accuracy                           0.69      1123\n",
      "   macro avg       0.50      0.50      0.50      1123\n",
      "weighted avg       0.72      0.69      0.70      1123\n",
      "\n"
     ]
    }
   ],
   "source": [
    "testing_report = classification_report(y_test, test_predictions)\n",
    "print(testing_report)"
   ]
  },
  {
   "cell_type": "markdown",
   "id": "1ca9be27-6d35-49ae-900f-073b6f1ee3a3",
   "metadata": {},
   "source": [
    "Tenure ByAge\n",
    "Accuracy: 68.66%\n",
    "              precision    recall  f1-score   support\n",
    "\n",
    "          -1       0.17      0.22      0.20       192\n",
    "           1       0.83      0.78      0.81       931\n",
    "\n",
    "    accuracy                           0.69      1123\n",
    "   macro avg       0.50      0.50      0.50      1123\n",
    "weighted avg       0.72      0.69      0.70      1123\n"
   ]
  }
 ],
 "metadata": {
  "kernelspec": {
   "display_name": "Python 3.9.12 ('base')",
   "language": "python",
   "name": "python3"
  },
  "language_info": {
   "codemirror_mode": {
    "name": "ipython",
    "version": 3
   },
   "file_extension": ".py",
   "mimetype": "text/x-python",
   "name": "python",
   "nbconvert_exporter": "python",
   "pygments_lexer": "ipython3",
   "version": "3.9.12"
  },
  "vscode": {
   "interpreter": {
    "hash": "8c7e964f3f5e2d4a71f73e7348971da199ee8c841152998a0c6b54ecd95a46aa"
   }
  }
 },
 "nbformat": 4,
 "nbformat_minor": 5
}
