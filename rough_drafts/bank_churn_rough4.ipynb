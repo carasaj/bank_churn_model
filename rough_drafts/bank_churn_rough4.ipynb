{
 "cells": [
  {
   "attachments": {},
   "cell_type": "markdown",
   "metadata": {},
   "source": [
    "### Import Statements\n",
    "The libraries used are `pandas`, `pathlib`, `imblearn`, and `sklearn`. "
   ]
  },
  {
   "cell_type": "code",
   "execution_count": 73,
   "metadata": {},
   "outputs": [],
   "source": [
    "import pandas as pd\n",
    "from pathlib import Path\n",
    "from imblearn.metrics import classification_report_imbalanced\n",
    "from imblearn.over_sampling import SMOTE\n",
    "from sklearn.metrics import accuracy_score\n",
    "from sklearn.metrics import classification_report\n",
    "from sklearn.metrics import confusion_matrix\n",
    "from sklearn.preprocessing import StandardScaler\n",
    "from sklearn.preprocessing import OneHotEncoder\n",
    "from sklearn.compose import ColumnTransformer\n",
    "from sklearn.model_selection import train_test_split\n",
    "from sklearn.ensemble import GradientBoostingClassifier\n",
    "from sklearn.model_selection import GridSearchCV"
   ]
  },
  {
   "attachments": {},
   "cell_type": "markdown",
   "metadata": {},
   "source": [
    "### Import the data and create a dataframe\n",
    "1. Use `pandas` and `pathlib` to read the `BankChurnersPrimary.csv` CSV from the `Resources` folder.\n",
    "2. Sample the dataset to review the data."
   ]
  },
  {
   "cell_type": "code",
   "execution_count": 74,
   "metadata": {},
   "outputs": [
    {
     "data": {
      "text/html": [
       "<div>\n",
       "<style scoped>\n",
       "    .dataframe tbody tr th:only-of-type {\n",
       "        vertical-align: middle;\n",
       "    }\n",
       "\n",
       "    .dataframe tbody tr th {\n",
       "        vertical-align: top;\n",
       "    }\n",
       "\n",
       "    .dataframe thead th {\n",
       "        text-align: right;\n",
       "    }\n",
       "</style>\n",
       "<table border=\"1\" class=\"dataframe\">\n",
       "  <thead>\n",
       "    <tr style=\"text-align: right;\">\n",
       "      <th></th>\n",
       "      <th>CLIENTNUM</th>\n",
       "      <th>Attrition_Flag</th>\n",
       "      <th>Customer_Age</th>\n",
       "      <th>Gender</th>\n",
       "      <th>Dependent_count</th>\n",
       "      <th>Education_Level</th>\n",
       "      <th>Marital_Status</th>\n",
       "      <th>Income_Category</th>\n",
       "      <th>Card_Category</th>\n",
       "      <th>Months_on_book</th>\n",
       "      <th>...</th>\n",
       "      <th>Credit_Limit</th>\n",
       "      <th>Total_Revolving_Bal</th>\n",
       "      <th>Avg_Open_To_Buy</th>\n",
       "      <th>Total_Amt_Chng_Q4_Q1</th>\n",
       "      <th>Total_Trans_Amt</th>\n",
       "      <th>Total_Trans_Ct</th>\n",
       "      <th>Total_Ct_Chng_Q4_Q1</th>\n",
       "      <th>Avg_Utilization_Ratio</th>\n",
       "      <th>Naive_Bayes_Classifier_Attrition_Flag_Card_Category_Contacts_Count_12_mon_Dependent_count_Education_Level_Months_Inactive_12_mon_1</th>\n",
       "      <th>Naive_Bayes_Classifier_Attrition_Flag_Card_Category_Contacts_Count_12_mon_Dependent_count_Education_Level_Months_Inactive_12_mon_2</th>\n",
       "    </tr>\n",
       "  </thead>\n",
       "  <tbody>\n",
       "    <tr>\n",
       "      <th>2157</th>\n",
       "      <td>709710783</td>\n",
       "      <td>Existing Customer</td>\n",
       "      <td>35</td>\n",
       "      <td>F</td>\n",
       "      <td>0</td>\n",
       "      <td>High School</td>\n",
       "      <td>Single</td>\n",
       "      <td>Less than $40K</td>\n",
       "      <td>Blue</td>\n",
       "      <td>36</td>\n",
       "      <td>...</td>\n",
       "      <td>5931.0</td>\n",
       "      <td>0</td>\n",
       "      <td>5931.0</td>\n",
       "      <td>0.668</td>\n",
       "      <td>2730</td>\n",
       "      <td>71</td>\n",
       "      <td>0.614</td>\n",
       "      <td>0.000</td>\n",
       "      <td>0.000430</td>\n",
       "      <td>0.99957</td>\n",
       "    </tr>\n",
       "    <tr>\n",
       "      <th>179</th>\n",
       "      <td>710829108</td>\n",
       "      <td>Existing Customer</td>\n",
       "      <td>59</td>\n",
       "      <td>F</td>\n",
       "      <td>1</td>\n",
       "      <td>Uneducated</td>\n",
       "      <td>Married</td>\n",
       "      <td>$40K - $60K</td>\n",
       "      <td>Blue</td>\n",
       "      <td>36</td>\n",
       "      <td>...</td>\n",
       "      <td>3356.0</td>\n",
       "      <td>985</td>\n",
       "      <td>2371.0</td>\n",
       "      <td>0.350</td>\n",
       "      <td>999</td>\n",
       "      <td>28</td>\n",
       "      <td>0.556</td>\n",
       "      <td>0.294</td>\n",
       "      <td>0.000185</td>\n",
       "      <td>0.99982</td>\n",
       "    </tr>\n",
       "    <tr>\n",
       "      <th>1595</th>\n",
       "      <td>769751958</td>\n",
       "      <td>Existing Customer</td>\n",
       "      <td>55</td>\n",
       "      <td>M</td>\n",
       "      <td>3</td>\n",
       "      <td>Unknown</td>\n",
       "      <td>Married</td>\n",
       "      <td>$120K +</td>\n",
       "      <td>Blue</td>\n",
       "      <td>49</td>\n",
       "      <td>...</td>\n",
       "      <td>9926.0</td>\n",
       "      <td>2018</td>\n",
       "      <td>7908.0</td>\n",
       "      <td>0.618</td>\n",
       "      <td>2235</td>\n",
       "      <td>57</td>\n",
       "      <td>0.357</td>\n",
       "      <td>0.203</td>\n",
       "      <td>0.000372</td>\n",
       "      <td>0.99963</td>\n",
       "    </tr>\n",
       "    <tr>\n",
       "      <th>448</th>\n",
       "      <td>710038008</td>\n",
       "      <td>Existing Customer</td>\n",
       "      <td>56</td>\n",
       "      <td>F</td>\n",
       "      <td>1</td>\n",
       "      <td>Graduate</td>\n",
       "      <td>Single</td>\n",
       "      <td>$40K - $60K</td>\n",
       "      <td>Blue</td>\n",
       "      <td>47</td>\n",
       "      <td>...</td>\n",
       "      <td>6038.0</td>\n",
       "      <td>0</td>\n",
       "      <td>6038.0</td>\n",
       "      <td>0.741</td>\n",
       "      <td>1447</td>\n",
       "      <td>30</td>\n",
       "      <td>0.875</td>\n",
       "      <td>0.000</td>\n",
       "      <td>0.000064</td>\n",
       "      <td>0.99994</td>\n",
       "    </tr>\n",
       "    <tr>\n",
       "      <th>2375</th>\n",
       "      <td>709212183</td>\n",
       "      <td>Existing Customer</td>\n",
       "      <td>53</td>\n",
       "      <td>F</td>\n",
       "      <td>2</td>\n",
       "      <td>Graduate</td>\n",
       "      <td>Married</td>\n",
       "      <td>Less than $40K</td>\n",
       "      <td>Blue</td>\n",
       "      <td>36</td>\n",
       "      <td>...</td>\n",
       "      <td>3176.0</td>\n",
       "      <td>1470</td>\n",
       "      <td>1706.0</td>\n",
       "      <td>0.388</td>\n",
       "      <td>1634</td>\n",
       "      <td>53</td>\n",
       "      <td>0.472</td>\n",
       "      <td>0.463</td>\n",
       "      <td>0.000093</td>\n",
       "      <td>0.99991</td>\n",
       "    </tr>\n",
       "  </tbody>\n",
       "</table>\n",
       "<p>5 rows × 23 columns</p>\n",
       "</div>"
      ],
      "text/plain": [
       "      CLIENTNUM     Attrition_Flag  Customer_Age Gender  Dependent_count  \\\n",
       "2157  709710783  Existing Customer            35      F                0   \n",
       "179   710829108  Existing Customer            59      F                1   \n",
       "1595  769751958  Existing Customer            55      M                3   \n",
       "448   710038008  Existing Customer            56      F                1   \n",
       "2375  709212183  Existing Customer            53      F                2   \n",
       "\n",
       "     Education_Level Marital_Status Income_Category Card_Category  \\\n",
       "2157     High School         Single  Less than $40K          Blue   \n",
       "179       Uneducated        Married     $40K - $60K          Blue   \n",
       "1595         Unknown        Married         $120K +          Blue   \n",
       "448         Graduate         Single     $40K - $60K          Blue   \n",
       "2375        Graduate        Married  Less than $40K          Blue   \n",
       "\n",
       "      Months_on_book  ...  Credit_Limit  Total_Revolving_Bal  Avg_Open_To_Buy  \\\n",
       "2157              36  ...        5931.0                    0           5931.0   \n",
       "179               36  ...        3356.0                  985           2371.0   \n",
       "1595              49  ...        9926.0                 2018           7908.0   \n",
       "448               47  ...        6038.0                    0           6038.0   \n",
       "2375              36  ...        3176.0                 1470           1706.0   \n",
       "\n",
       "      Total_Amt_Chng_Q4_Q1  Total_Trans_Amt  Total_Trans_Ct  \\\n",
       "2157                 0.668             2730              71   \n",
       "179                  0.350              999              28   \n",
       "1595                 0.618             2235              57   \n",
       "448                  0.741             1447              30   \n",
       "2375                 0.388             1634              53   \n",
       "\n",
       "      Total_Ct_Chng_Q4_Q1  Avg_Utilization_Ratio  \\\n",
       "2157                0.614                  0.000   \n",
       "179                 0.556                  0.294   \n",
       "1595                0.357                  0.203   \n",
       "448                 0.875                  0.000   \n",
       "2375                0.472                  0.463   \n",
       "\n",
       "      Naive_Bayes_Classifier_Attrition_Flag_Card_Category_Contacts_Count_12_mon_Dependent_count_Education_Level_Months_Inactive_12_mon_1  \\\n",
       "2157                                           0.000430                                                                                    \n",
       "179                                            0.000185                                                                                    \n",
       "1595                                           0.000372                                                                                    \n",
       "448                                            0.000064                                                                                    \n",
       "2375                                           0.000093                                                                                    \n",
       "\n",
       "      Naive_Bayes_Classifier_Attrition_Flag_Card_Category_Contacts_Count_12_mon_Dependent_count_Education_Level_Months_Inactive_12_mon_2  \n",
       "2157                                            0.99957                                                                                   \n",
       "179                                             0.99982                                                                                   \n",
       "1595                                            0.99963                                                                                   \n",
       "448                                             0.99994                                                                                   \n",
       "2375                                            0.99991                                                                                   \n",
       "\n",
       "[5 rows x 23 columns]"
      ]
     },
     "execution_count": 74,
     "metadata": {},
     "output_type": "execute_result"
    }
   ],
   "source": [
    "starter_df = pd.read_csv(Path(\"c://users/ajcth/documents/github/bank_churn_project/Resources/BankChurnersPrimary.csv\"))\n",
    "starter_df.sample(5)"
   ]
  },
  {
   "attachments": {},
   "cell_type": "markdown",
   "metadata": {},
   "source": [
    "### Remove any columns that won't be used.\n",
    "Naive Bayes columns can't be used (it's calculated from features and target).\n",
    "Education_Level, Marital_Status, and Income_Category have many Nan/Unknown values. Drop to preserve sample size.\n",
    "CLIENTNUM is irrelevant."
   ]
  },
  {
   "cell_type": "code",
   "execution_count": 75,
   "metadata": {},
   "outputs": [],
   "source": [
    "starter_df.drop(columns=[\n",
    "'Naive_Bayes_Classifier_Attrition_Flag_Card_Category_Contacts_Count_12_mon_Dependent_count_Education_Level_Months_Inactive_12_mon_2', \n",
    "'Naive_Bayes_Classifier_Attrition_Flag_Card_Category_Contacts_Count_12_mon_Dependent_count_Education_Level_Months_Inactive_12_mon_1',\n",
    "'CLIENTNUM',\n",
    "'Education_Level', \n",
    "'Marital_Status', \n",
    "'Income_Category'\n",
    "], \n",
    "inplace= True)"
   ]
  },
  {
   "attachments": {},
   "cell_type": "markdown",
   "metadata": {},
   "source": [
    "### Evaluate the Card Type column for use as a feature\n",
    "The Card Type data is processed with OneHotEncoder."
   ]
  },
  {
   "cell_type": "code",
   "execution_count": 76,
   "metadata": {},
   "outputs": [],
   "source": [
    "enc = OneHotEncoder()\n",
    "categorical_variables = ['Card_Category']\n",
    "encoded_data = enc.fit_transform(starter_df[categorical_variables])"
   ]
  },
  {
   "attachments": {},
   "cell_type": "markdown",
   "metadata": {},
   "source": [
    "### Evaluate the Gender column for use as a feature\n",
    "Gender is a binary classification, so we don't need to OneHotEncode.\n",
    "The values will be converted to numericals and specified as datatype `int`.\n",
    "1. Male = 0\n",
    "2. Female = 1 \n"
   ]
  },
  {
   "cell_type": "code",
   "execution_count": 77,
   "metadata": {},
   "outputs": [],
   "source": [
    "starter_df = starter_df.replace({'Gender' : {\n",
    "'M': 0, \n",
    "'F': 1\n",
    "}})\n",
    "starter_df.Gender = starter_df.Gender.astype(int)"
   ]
  },
  {
   "attachments": {},
   "cell_type": "markdown",
   "metadata": {},
   "source": [
    "### Evaluate the Attrition_Flag column for use as the target\n",
    "Attrition_Flag is a binary classification, so we don't need to OneHotEncode.\n",
    "The values will be converted to numericals and specified as datatype `int`.\n",
    "1. Attrited Customer = 0\n",
    "2. Existing Customer = 1 "
   ]
  },
  {
   "cell_type": "code",
   "execution_count": 78,
   "metadata": {},
   "outputs": [],
   "source": [
    "starter_df = starter_df.replace({'Attrition_Flag' : {\n",
    "'Attrited Customer': 0, \n",
    "'Existing Customer': 1\n",
    "}})\n",
    "starter_df.Attrition_Flag = starter_df.Attrition_Flag.astype(int)"
   ]
  },
  {
   "attachments": {},
   "cell_type": "markdown",
   "metadata": {},
   "source": [
    "### Define our features(X) and our target(y)"
   ]
  },
  {
   "cell_type": "code",
   "execution_count": 79,
   "metadata": {},
   "outputs": [],
   "source": [
    "y = starter_df['Attrition_Flag']\n",
    "X = starter_df.drop(columns=['Attrition_Flag'])"
   ]
  },
  {
   "attachments": {},
   "cell_type": "markdown",
   "metadata": {},
   "source": [
    "### Split features and target in to training and testing sets"
   ]
  },
  {
   "cell_type": "code",
   "execution_count": 80,
   "metadata": {},
   "outputs": [],
   "source": [
    "X_train, X_test, y_train, y_test = train_test_split(X, y, random_state=1)"
   ]
  },
  {
   "attachments": {},
   "cell_type": "markdown",
   "metadata": {},
   "source": [
    "### StandardScaler will be used within ColumnTransformer. This allows for the scaling of specified columns within our X_train and X_test set.\n",
    "StandardScaler will only be fit to X_train."
   ]
  },
  {
   "cell_type": "code",
   "execution_count": 81,
   "metadata": {},
   "outputs": [],
   "source": [
    "scaler = StandardScaler()\n",
    "\n",
    "col_tran= ColumnTransformer([\n",
    "('Total_Revolving_Bal', scaler, ['Total_Revolving_Bal']),\n",
    "('Months_Inactive_12_mon', scaler, ['Months_Inactive_12_mon']),\n",
    "('Total_Trans_Amt', scaler, ['Total_Trans_Amt']),\n",
    "('Total_Trans_Ct', scaler, ['Total_Trans_Ct']),\n",
    "('Months_on_book', scaler, ['Months_on_book']),\n",
    "('Customer_Age', scaler, ['Customer_Age']),\n",
    "('Avg_Util_Ratio', scaler, ['Avg_Utilization_Ratio']),\n",
    "('Total_Relationship_Count', scaler, ['Total_Relationship_Count']),\n",
    "('Contacts_Count_12_mon', scaler, ['Contacts_Count_12_mon']),\n",
    "('Total_Amt_Chng_Q4_Q1', scaler, ['Total_Amt_Chng_Q4_Q1']),\n",
    "('Total_Ct_Chng_Q4_Q1', scaler, ['Total_Ct_Chng_Q4_Q1']),\n",
    "('Dependent_count', scaler, ['Dependent_count']),\n",
    "('Credit_Limit', scaler, ['Credit_Limit']),\n",
    "('Avg_Open_To_Buy', scaler, ['Avg_Open_To_Buy'])\n",
    "])\n",
    "\n",
    "\n",
    "X_train = col_tran.fit_transform(X_train)\n",
    "X_test = col_tran.transform(X_test)"
   ]
  },
  {
   "attachments": {},
   "cell_type": "markdown",
   "metadata": {},
   "source": [
    "### Use SMOTE to add synthetic data and balance our target/feature value count"
   ]
  },
  {
   "cell_type": "code",
   "execution_count": 82,
   "metadata": {},
   "outputs": [],
   "source": [
    "oversample = SMOTE()\n",
    "X_train, y_train = oversample.fit_resample(X_train, y_train)"
   ]
  },
  {
   "attachments": {},
   "cell_type": "markdown",
   "metadata": {},
   "source": [
    "### Use GridSearch to determine the best hyperparameter values"
   ]
  },
  {
   "cell_type": "code",
   "execution_count": 83,
   "metadata": {},
   "outputs": [
    {
     "data": {
      "text/plain": [
       "\"\\nparameters = {\\n#'n_estimators' : [],               #default = 100    range = 1-inf\\n#'random_state' : [],               #default = None   range = 1-inf\\n#'subsample' : [],                  #default = 1      range = 0.-1\\n#'min_samples_split' : [],          #default = 2      range = 2-inf\\n#'max_depth' : [],                  #default = 3      range = 1-inf\\n#'min_impurity_decrease' : [],      #default = 0      range = 0 - inf\\n#'min_samples_leaf' : [],           #default = 1      range = 1 - inf\\n#'min_weight_fraction_leaf' : [],   #default = 0      range =0 - 0.5\\n#'max_leaf_nodes' : [],             #default = None   range = 2-inf\\n#'learning_rate' : [],              #default=0.1      range 0.0-inf\\n#'init' : ('zero', None),\\n#'loss' : ('deviance', 'exponential')\\n}\\n\\n\\n\\ngbc = GradientBoostingClassifier()\\nclf = GridSearchCV(gbc, parameters)\\nclf.fit(X_train, y_train)\\nclf.best_estimator_\\n\""
      ]
     },
     "execution_count": 83,
     "metadata": {},
     "output_type": "execute_result"
    }
   ],
   "source": [
    "'''\n",
    "parameters = {\n",
    "#'n_estimators' : [],               #default = 100    range = 1-inf\n",
    "#'random_state' : [],               #default = None   range = 1-inf\n",
    "#'subsample' : [],                  #default = 1      range = 0.-1\n",
    "#'min_samples_split' : [],          #default = 2      range = 2-inf\n",
    "#'max_depth' : [],                  #default = 3      range = 1-inf\n",
    "#'min_impurity_decrease' : [],      #default = 0      range = 0 - inf\n",
    "#'min_samples_leaf' : [],           #default = 1      range = 1 - inf\n",
    "#'min_weight_fraction_leaf' : [],   #default = 0      range =0 - 0.5\n",
    "#'max_leaf_nodes' : [],             #default = None   range = 2-inf\n",
    "#'learning_rate' : [],              #default=0.1      range 0.0-inf\n",
    "#'init' : ('zero', None),\n",
    "#'loss' : ('deviance', 'exponential')\n",
    "}\n",
    "\n",
    "\n",
    "\n",
    "gbc = GradientBoostingClassifier()\n",
    "clf = GridSearchCV(gbc, parameters)\n",
    "clf.fit(X_train, y_train)\n",
    "clf.best_estimator_\n",
    "'''\n"
   ]
  },
  {
   "attachments": {},
   "cell_type": "markdown",
   "metadata": {},
   "source": [
    "### Create an instance of the GradientBoostingClassifier model"
   ]
  },
  {
   "cell_type": "code",
   "execution_count": 84,
   "metadata": {},
   "outputs": [],
   "source": [
    "gbc_model = GradientBoostingClassifier(\n",
    "n_estimators=500,\n",
    "random_state= 2\n",
    ")"
   ]
  },
  {
   "attachments": {},
   "cell_type": "markdown",
   "metadata": {},
   "source": [
    "### Fit the model on the training data"
   ]
  },
  {
   "cell_type": "code",
   "execution_count": 85,
   "metadata": {},
   "outputs": [
    {
     "data": {
      "text/plain": [
       "GradientBoostingClassifier(n_estimators=500, random_state=2)"
      ]
     },
     "execution_count": 85,
     "metadata": {},
     "output_type": "execute_result"
    }
   ],
   "source": [
    "gbc_model.fit(X_train, y_train)"
   ]
  },
  {
   "attachments": {},
   "cell_type": "markdown",
   "metadata": {},
   "source": [
    "### Make predictions on the test data"
   ]
  },
  {
   "cell_type": "code",
   "execution_count": 86,
   "metadata": {},
   "outputs": [],
   "source": [
    "gbc_test_predictions = gbc_model.predict(X_test)"
   ]
  },
  {
   "attachments": {},
   "cell_type": "markdown",
   "metadata": {},
   "source": [
    "### Evaluate the model's performance"
   ]
  },
  {
   "cell_type": "code",
   "execution_count": 87,
   "metadata": {},
   "outputs": [
    {
     "name": "stdout",
     "output_type": "stream",
     "text": [
      "Accuracy: 97.12%\n"
     ]
    }
   ],
   "source": [
    "accuracy = accuracy_score(y_test, gbc_test_predictions)\n",
    "print(\"Accuracy: {:.2f}%\".format(accuracy * 100))"
   ]
  },
  {
   "attachments": {},
   "cell_type": "markdown",
   "metadata": {},
   "source": [
    "### Generate a confusion matrix"
   ]
  },
  {
   "cell_type": "code",
   "execution_count": 88,
   "metadata": {},
   "outputs": [
    {
     "name": "stdout",
     "output_type": "stream",
     "text": [
      "[[ 374   31]\n",
      " [  42 2085]]\n"
     ]
    }
   ],
   "source": [
    "gbc_test_matrix = confusion_matrix(y_test, gbc_test_predictions)\n",
    "print(gbc_test_matrix)"
   ]
  },
  {
   "attachments": {},
   "cell_type": "markdown",
   "metadata": {},
   "source": [
    "### Generate a classification report"
   ]
  },
  {
   "cell_type": "code",
   "execution_count": 89,
   "metadata": {},
   "outputs": [
    {
     "name": "stdout",
     "output_type": "stream",
     "text": [
      "              precision    recall  f1-score   support\n",
      "\n",
      "           0       0.90      0.92      0.91       405\n",
      "           1       0.99      0.98      0.98      2127\n",
      "\n",
      "    accuracy                           0.97      2532\n",
      "   macro avg       0.94      0.95      0.95      2532\n",
      "weighted avg       0.97      0.97      0.97      2532\n",
      "\n"
     ]
    }
   ],
   "source": [
    "gbc_testing_report = classification_report(y_test, gbc_test_predictions)\n",
    "print(gbc_testing_report)"
   ]
  },
  {
   "attachments": {},
   "cell_type": "markdown",
   "metadata": {},
   "source": [
    "### Generate an imbalanced classification report"
   ]
  },
  {
   "cell_type": "code",
   "execution_count": 90,
   "metadata": {},
   "outputs": [
    {
     "name": "stdout",
     "output_type": "stream",
     "text": [
      "                   pre       rec       spe        f1       geo       iba       sup\n",
      "\n",
      "          0       0.90      0.92      0.98      0.91      0.95      0.90       405\n",
      "          1       0.99      0.98      0.92      0.98      0.95      0.91      2127\n",
      "\n",
      "avg / total       0.97      0.97      0.93      0.97      0.95      0.91      2532\n",
      "\n"
     ]
    }
   ],
   "source": [
    "imb__gbc_testing_report = classification_report_imbalanced(y_test, gbc_test_predictions)\n",
    "print(imb__gbc_testing_report)"
   ]
  }
 ],
 "metadata": {
  "kernelspec": {
   "display_name": "dev",
   "language": "python",
   "name": "python3"
  },
  "language_info": {
   "codemirror_mode": {
    "name": "ipython",
    "version": 3
   },
   "file_extension": ".py",
   "mimetype": "text/x-python",
   "name": "python",
   "nbconvert_exporter": "python",
   "pygments_lexer": "ipython3",
   "version": "3.7.13"
  },
  "orig_nbformat": 4,
  "vscode": {
   "interpreter": {
    "hash": "28515e2b63b40114f6e8c1f789cf21b6d4b349a50273d5a1dcb37706cefab85d"
   }
  }
 },
 "nbformat": 4,
 "nbformat_minor": 2
}
