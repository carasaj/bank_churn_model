{
 "cells": [
  {
   "attachments": {},
   "cell_type": "markdown",
   "metadata": {},
   "source": [
    "### Import Statements\n",
    "The libraries used are `pandas`, `pathlib`, `imblearn`, and `sklearn`. "
   ]
  },
  {
   "cell_type": "code",
   "execution_count": 358,
   "metadata": {},
   "outputs": [],
   "source": [
    "import pandas as pd\n",
    "from pathlib import Path\n",
    "from imblearn.metrics import classification_report_imbalanced\n",
    "from imblearn.over_sampling import SMOTE\n",
    "from sklearn.metrics import accuracy_score, confusion_matrix, classification_report\n",
    "from sklearn.preprocessing import StandardScaler, MinMaxScaler, OneHotEncoder\n",
    "from sklearn.compose import ColumnTransformer\n",
    "from sklearn.model_selection import train_test_split, GridSearchCV\n",
    "from sklearn.ensemble import GradientBoostingClassifier\n",
    "from sklearn.feature_selection import VarianceThreshold, mutual_info_classif, SelectKBest, chi2, SequentialFeatureSelector\n",
    "from sklearn.neighbors import KNeighborsClassifier\n",
    "import seaborn as sns\n",
    "import matplotlib.pyplot as plt\n",
    "%matplotlib inline\n",
    "\n",
    "from skfeature.function.similarity_based import fisher_score\n"
   ]
  },
  {
   "attachments": {},
   "cell_type": "markdown",
   "metadata": {},
   "source": [
    "### Import the data and create a dataframe\n",
    "1. Use `pandas` and `pathlib` to read the `BankChurnersPrimary.csv` CSV from the `Resources` folder.\n",
    "2. Sample the dataset to review the data."
   ]
  },
  {
   "cell_type": "code",
   "execution_count": 359,
   "metadata": {},
   "outputs": [
    {
     "data": {
      "text/html": [
       "<div>\n",
       "<style scoped>\n",
       "    .dataframe tbody tr th:only-of-type {\n",
       "        vertical-align: middle;\n",
       "    }\n",
       "\n",
       "    .dataframe tbody tr th {\n",
       "        vertical-align: top;\n",
       "    }\n",
       "\n",
       "    .dataframe thead th {\n",
       "        text-align: right;\n",
       "    }\n",
       "</style>\n",
       "<table border=\"1\" class=\"dataframe\">\n",
       "  <thead>\n",
       "    <tr style=\"text-align: right;\">\n",
       "      <th></th>\n",
       "      <th>CLIENTNUM</th>\n",
       "      <th>Attrition_Flag</th>\n",
       "      <th>Customer_Age</th>\n",
       "      <th>Gender</th>\n",
       "      <th>Dependent_count</th>\n",
       "      <th>Education_Level</th>\n",
       "      <th>Marital_Status</th>\n",
       "      <th>Income_Category</th>\n",
       "      <th>Card_Category</th>\n",
       "      <th>Months_on_book</th>\n",
       "      <th>...</th>\n",
       "      <th>Credit_Limit</th>\n",
       "      <th>Total_Revolving_Bal</th>\n",
       "      <th>Avg_Open_To_Buy</th>\n",
       "      <th>Total_Amt_Chng_Q4_Q1</th>\n",
       "      <th>Total_Trans_Amt</th>\n",
       "      <th>Total_Trans_Ct</th>\n",
       "      <th>Total_Ct_Chng_Q4_Q1</th>\n",
       "      <th>Avg_Utilization_Ratio</th>\n",
       "      <th>Naive_Bayes_Classifier_Attrition_Flag_Card_Category_Contacts_Count_12_mon_Dependent_count_Education_Level_Months_Inactive_12_mon_1</th>\n",
       "      <th>Naive_Bayes_Classifier_Attrition_Flag_Card_Category_Contacts_Count_12_mon_Dependent_count_Education_Level_Months_Inactive_12_mon_2</th>\n",
       "    </tr>\n",
       "  </thead>\n",
       "  <tbody>\n",
       "    <tr>\n",
       "      <th>9215</th>\n",
       "      <td>789594108</td>\n",
       "      <td>Existing Customer</td>\n",
       "      <td>47</td>\n",
       "      <td>M</td>\n",
       "      <td>5</td>\n",
       "      <td>College</td>\n",
       "      <td>Single</td>\n",
       "      <td>$80K - $120K</td>\n",
       "      <td>Blue</td>\n",
       "      <td>41</td>\n",
       "      <td>...</td>\n",
       "      <td>3429.0</td>\n",
       "      <td>1779</td>\n",
       "      <td>1650.0</td>\n",
       "      <td>0.938</td>\n",
       "      <td>14107</td>\n",
       "      <td>99</td>\n",
       "      <td>0.650</td>\n",
       "      <td>0.519</td>\n",
       "      <td>0.000093</td>\n",
       "      <td>0.99991</td>\n",
       "    </tr>\n",
       "    <tr>\n",
       "      <th>4645</th>\n",
       "      <td>711606558</td>\n",
       "      <td>Existing Customer</td>\n",
       "      <td>49</td>\n",
       "      <td>F</td>\n",
       "      <td>1</td>\n",
       "      <td>High School</td>\n",
       "      <td>Married</td>\n",
       "      <td>Less than $40K</td>\n",
       "      <td>Blue</td>\n",
       "      <td>39</td>\n",
       "      <td>...</td>\n",
       "      <td>1909.0</td>\n",
       "      <td>866</td>\n",
       "      <td>1043.0</td>\n",
       "      <td>0.880</td>\n",
       "      <td>4697</td>\n",
       "      <td>83</td>\n",
       "      <td>0.844</td>\n",
       "      <td>0.454</td>\n",
       "      <td>0.000104</td>\n",
       "      <td>0.99990</td>\n",
       "    </tr>\n",
       "    <tr>\n",
       "      <th>7383</th>\n",
       "      <td>713509908</td>\n",
       "      <td>Existing Customer</td>\n",
       "      <td>48</td>\n",
       "      <td>F</td>\n",
       "      <td>2</td>\n",
       "      <td>Graduate</td>\n",
       "      <td>Married</td>\n",
       "      <td>Unknown</td>\n",
       "      <td>Blue</td>\n",
       "      <td>35</td>\n",
       "      <td>...</td>\n",
       "      <td>1755.0</td>\n",
       "      <td>1058</td>\n",
       "      <td>697.0</td>\n",
       "      <td>0.697</td>\n",
       "      <td>4719</td>\n",
       "      <td>90</td>\n",
       "      <td>0.800</td>\n",
       "      <td>0.603</td>\n",
       "      <td>0.000033</td>\n",
       "      <td>0.99997</td>\n",
       "    </tr>\n",
       "    <tr>\n",
       "      <th>5639</th>\n",
       "      <td>789990333</td>\n",
       "      <td>Existing Customer</td>\n",
       "      <td>43</td>\n",
       "      <td>F</td>\n",
       "      <td>4</td>\n",
       "      <td>Graduate</td>\n",
       "      <td>Single</td>\n",
       "      <td>$40K - $60K</td>\n",
       "      <td>Blue</td>\n",
       "      <td>35</td>\n",
       "      <td>...</td>\n",
       "      <td>2303.0</td>\n",
       "      <td>722</td>\n",
       "      <td>1581.0</td>\n",
       "      <td>0.807</td>\n",
       "      <td>4469</td>\n",
       "      <td>80</td>\n",
       "      <td>0.778</td>\n",
       "      <td>0.314</td>\n",
       "      <td>0.000119</td>\n",
       "      <td>0.99988</td>\n",
       "    </tr>\n",
       "    <tr>\n",
       "      <th>31</th>\n",
       "      <td>712991808</td>\n",
       "      <td>Existing Customer</td>\n",
       "      <td>53</td>\n",
       "      <td>M</td>\n",
       "      <td>2</td>\n",
       "      <td>Uneducated</td>\n",
       "      <td>Married</td>\n",
       "      <td>$60K - $80K</td>\n",
       "      <td>Blue</td>\n",
       "      <td>48</td>\n",
       "      <td>...</td>\n",
       "      <td>2451.0</td>\n",
       "      <td>1690</td>\n",
       "      <td>761.0</td>\n",
       "      <td>1.323</td>\n",
       "      <td>1596</td>\n",
       "      <td>26</td>\n",
       "      <td>1.600</td>\n",
       "      <td>0.690</td>\n",
       "      <td>0.000125</td>\n",
       "      <td>0.99988</td>\n",
       "    </tr>\n",
       "  </tbody>\n",
       "</table>\n",
       "<p>5 rows × 23 columns</p>\n",
       "</div>"
      ],
      "text/plain": [
       "      CLIENTNUM     Attrition_Flag  Customer_Age Gender  Dependent_count  \\\n",
       "9215  789594108  Existing Customer            47      M                5   \n",
       "4645  711606558  Existing Customer            49      F                1   \n",
       "7383  713509908  Existing Customer            48      F                2   \n",
       "5639  789990333  Existing Customer            43      F                4   \n",
       "31    712991808  Existing Customer            53      M                2   \n",
       "\n",
       "     Education_Level Marital_Status Income_Category Card_Category  \\\n",
       "9215         College         Single    $80K - $120K          Blue   \n",
       "4645     High School        Married  Less than $40K          Blue   \n",
       "7383        Graduate        Married         Unknown          Blue   \n",
       "5639        Graduate         Single     $40K - $60K          Blue   \n",
       "31        Uneducated        Married     $60K - $80K          Blue   \n",
       "\n",
       "      Months_on_book  ...  Credit_Limit  Total_Revolving_Bal  Avg_Open_To_Buy  \\\n",
       "9215              41  ...        3429.0                 1779           1650.0   \n",
       "4645              39  ...        1909.0                  866           1043.0   \n",
       "7383              35  ...        1755.0                 1058            697.0   \n",
       "5639              35  ...        2303.0                  722           1581.0   \n",
       "31                48  ...        2451.0                 1690            761.0   \n",
       "\n",
       "      Total_Amt_Chng_Q4_Q1  Total_Trans_Amt  Total_Trans_Ct  \\\n",
       "9215                 0.938            14107              99   \n",
       "4645                 0.880             4697              83   \n",
       "7383                 0.697             4719              90   \n",
       "5639                 0.807             4469              80   \n",
       "31                   1.323             1596              26   \n",
       "\n",
       "      Total_Ct_Chng_Q4_Q1  Avg_Utilization_Ratio  \\\n",
       "9215                0.650                  0.519   \n",
       "4645                0.844                  0.454   \n",
       "7383                0.800                  0.603   \n",
       "5639                0.778                  0.314   \n",
       "31                  1.600                  0.690   \n",
       "\n",
       "      Naive_Bayes_Classifier_Attrition_Flag_Card_Category_Contacts_Count_12_mon_Dependent_count_Education_Level_Months_Inactive_12_mon_1  \\\n",
       "9215                                           0.000093                                                                                    \n",
       "4645                                           0.000104                                                                                    \n",
       "7383                                           0.000033                                                                                    \n",
       "5639                                           0.000119                                                                                    \n",
       "31                                             0.000125                                                                                    \n",
       "\n",
       "      Naive_Bayes_Classifier_Attrition_Flag_Card_Category_Contacts_Count_12_mon_Dependent_count_Education_Level_Months_Inactive_12_mon_2  \n",
       "9215                                            0.99991                                                                                   \n",
       "4645                                            0.99990                                                                                   \n",
       "7383                                            0.99997                                                                                   \n",
       "5639                                            0.99988                                                                                   \n",
       "31                                              0.99988                                                                                   \n",
       "\n",
       "[5 rows x 23 columns]"
      ]
     },
     "execution_count": 359,
     "metadata": {},
     "output_type": "execute_result"
    }
   ],
   "source": [
    "starter_df = pd.read_csv(Path(\"c://users/ajcth/documents/github/bank_churn_model/Resources/BankChurnersPrimary.csv\"))\n",
    "starter_df.sample(5)"
   ]
  },
  {
   "attachments": {},
   "cell_type": "markdown",
   "metadata": {},
   "source": [
    "### Remove any columns that won't be used.\n",
    "Naive Bayes columns can't be used (it's calculated from features and target).\n",
    "Education_Level, Marital_Status, and Income_Category have many Nan/Unknown values. Drop to preserve sample size.\n",
    "CLIENTNUM is irrelevant."
   ]
  },
  {
   "cell_type": "code",
   "execution_count": 360,
   "metadata": {},
   "outputs": [],
   "source": [
    "starter_df.drop(columns=[\n",
    "'Naive_Bayes_Classifier_Attrition_Flag_Card_Category_Contacts_Count_12_mon_Dependent_count_Education_Level_Months_Inactive_12_mon_2', \n",
    "'Naive_Bayes_Classifier_Attrition_Flag_Card_Category_Contacts_Count_12_mon_Dependent_count_Education_Level_Months_Inactive_12_mon_1',\n",
    "'CLIENTNUM',\n",
    "'Education_Level', \n",
    "'Marital_Status', \n",
    "'Income_Category'\n",
    "], \n",
    "inplace= True)"
   ]
  },
  {
   "attachments": {},
   "cell_type": "markdown",
   "metadata": {},
   "source": [
    "### Evaluate the Card Type column for use as a feature\n",
    "The Card Type data is processed with OneHotEncoder."
   ]
  },
  {
   "cell_type": "code",
   "execution_count": 361,
   "metadata": {},
   "outputs": [
    {
     "name": "stderr",
     "output_type": "stream",
     "text": [
      "c:\\python_files\\Anaconda3\\envs\\dev\\lib\\site-packages\\sklearn\\utils\\deprecation.py:87: FutureWarning: Function get_feature_names is deprecated; get_feature_names is deprecated in 1.0 and will be removed in 1.2. Please use get_feature_names_out instead.\n",
      "  warnings.warn(msg, category=FutureWarning)\n"
     ]
    }
   ],
   "source": [
    "\n",
    "enc = OneHotEncoder(sparse=False)\n",
    "categorical_variables = ['Card_Category']\n",
    "encoded_data = enc.fit_transform(starter_df[categorical_variables])\n",
    "encoded_dataframe = pd.DataFrame(encoded_data, columns = enc.get_feature_names(categorical_variables))\n",
    "starter_df.drop(columns=['Card_Category'], inplace=True)\n",
    "starter_df = pd.concat([starter_df, encoded_dataframe.set_axis(starter_df.index)], axis=1)\n",
    "starter_df.sample(10)\n"
   ]
  },
  {
   "attachments": {},
   "cell_type": "markdown",
   "metadata": {},
   "source": [
    "### Evaluate the Gender column for use as a feature\n",
    "Gender is a binary classification, so we don't need to OneHotEncode.\n",
    "The values will be converted to numericals and specified as datatype `int`.\n",
    "1. Male = 0\n",
    "2. Female = 1 \n"
   ]
  },
  {
   "cell_type": "code",
   "execution_count": 363,
   "metadata": {},
   "outputs": [],
   "source": [
    "starter_df = starter_df.replace({'Gender' : {\n",
    "'M': 0, \n",
    "'F': 1\n",
    "}})\n",
    "starter_df.Gender = starter_df.Gender.astype(int)"
   ]
  },
  {
   "attachments": {},
   "cell_type": "markdown",
   "metadata": {},
   "source": [
    "### Evaluate the Attrition_Flag column for use as the target\n",
    "Attrition_Flag is a binary classification, so we don't need to OneHotEncode.\n",
    "The values will be converted to numericals and specified as datatype `int`.\n",
    "1. Attrited Customer = 0\n",
    "2. Existing Customer = 1 "
   ]
  },
  {
   "cell_type": "code",
   "execution_count": 364,
   "metadata": {},
   "outputs": [],
   "source": [
    "starter_df = starter_df.replace({'Attrition_Flag' : {\n",
    "'Attrited Customer': 0, \n",
    "'Existing Customer': 1\n",
    "}})\n",
    "starter_df.Attrition_Flag = starter_df.Attrition_Flag.astype(int)"
   ]
  },
  {
   "attachments": {},
   "cell_type": "markdown",
   "metadata": {},
   "source": [
    "### Define our features(X) and our target(y)"
   ]
  },
  {
   "cell_type": "code",
   "execution_count": 366,
   "metadata": {},
   "outputs": [],
   "source": [
    "y = starter_df['Attrition_Flag']\n",
    "X = starter_df.drop(columns=['Attrition_Flag'])"
   ]
  },
  {
   "attachments": {},
   "cell_type": "markdown",
   "metadata": {},
   "source": [
    "### Split features and target in to training and testing sets"
   ]
  },
  {
   "cell_type": "code",
   "execution_count": null,
   "metadata": {},
   "outputs": [],
   "source": [
    "X_train, X_test, y_train, y_test = train_test_split(X, y, random_state=1)"
   ]
  },
  {
   "attachments": {},
   "cell_type": "markdown",
   "metadata": {},
   "source": [
    "### StandardScaler will be used to scale the data \n",
    "StandardScaler will only be fit to X_train."
   ]
  },
  {
   "cell_type": "code",
   "execution_count": null,
   "metadata": {},
   "outputs": [],
   "source": [
    "scaler = StandardScaler()\n",
    "\n",
    "X_train = scaler.fit_transform(X_train)\n",
    "X_test = scaler.transform(X_test)"
   ]
  },
  {
   "attachments": {},
   "cell_type": "markdown",
   "metadata": {},
   "source": [
    "### Use SMOTE to add synthetic data and balance our target/feature value count"
   ]
  },
  {
   "cell_type": "code",
   "execution_count": null,
   "metadata": {},
   "outputs": [],
   "source": [
    "oversample = SMOTE()\n",
    "X_train, y_train = oversample.fit_resample(X_train, y_train)"
   ]
  },
  {
   "attachments": {},
   "cell_type": "markdown",
   "metadata": {},
   "source": [
    "### Create an instance of the GradientBoostingClassifier model"
   ]
  },
  {
   "cell_type": "code",
   "execution_count": null,
   "metadata": {},
   "outputs": [],
   "source": [
    "gbc_model = GradientBoostingClassifier(\n",
    "n_estimators=500,\n",
    "random_state= 2\n",
    ")"
   ]
  },
  {
   "attachments": {},
   "cell_type": "markdown",
   "metadata": {},
   "source": [
    "### Fit the model on the training data"
   ]
  },
  {
   "cell_type": "code",
   "execution_count": null,
   "metadata": {},
   "outputs": [],
   "source": [
    "gbc_model.fit(X_train, y_train)"
   ]
  },
  {
   "attachments": {},
   "cell_type": "markdown",
   "metadata": {},
   "source": [
    "### Make predictions on the test data"
   ]
  },
  {
   "cell_type": "code",
   "execution_count": null,
   "metadata": {},
   "outputs": [],
   "source": [
    "gbc_test_predictions = gbc_model.predict(X_test)"
   ]
  },
  {
   "attachments": {},
   "cell_type": "markdown",
   "metadata": {},
   "source": [
    "### Evaluate the model's performance"
   ]
  },
  {
   "cell_type": "code",
   "execution_count": null,
   "metadata": {},
   "outputs": [],
   "source": [
    "accuracy = accuracy_score(y_test, gbc_test_predictions)\n",
    "print(\"Accuracy: {:.2f}%\".format(accuracy * 100))"
   ]
  },
  {
   "attachments": {},
   "cell_type": "markdown",
   "metadata": {},
   "source": [
    "### Generate a confusion matrix"
   ]
  },
  {
   "cell_type": "code",
   "execution_count": null,
   "metadata": {},
   "outputs": [],
   "source": [
    "gbc_test_matrix = confusion_matrix(y_test, gbc_test_predictions)\n",
    "print(gbc_test_matrix)"
   ]
  },
  {
   "attachments": {},
   "cell_type": "markdown",
   "metadata": {},
   "source": [
    "### Generate a classification report"
   ]
  },
  {
   "cell_type": "code",
   "execution_count": null,
   "metadata": {},
   "outputs": [],
   "source": [
    "gbc_testing_report = classification_report(y_test, gbc_test_predictions)\n",
    "print(gbc_testing_report)"
   ]
  },
  {
   "attachments": {},
   "cell_type": "markdown",
   "metadata": {},
   "source": [
    "### Generate an imbalanced classification report"
   ]
  },
  {
   "cell_type": "code",
   "execution_count": null,
   "metadata": {},
   "outputs": [],
   "source": [
    "imb__gbc_testing_report = classification_report_imbalanced(y_test, gbc_test_predictions)\n",
    "print(imb__gbc_testing_report)"
   ]
  },
  {
   "cell_type": "code",
   "execution_count": null,
   "metadata": {},
   "outputs": [],
   "source": []
  }
 ],
 "metadata": {
  "kernelspec": {
   "display_name": "dev",
   "language": "python",
   "name": "python3"
  },
  "language_info": {
   "codemirror_mode": {
    "name": "ipython",
    "version": 3
   },
   "file_extension": ".py",
   "mimetype": "text/x-python",
   "name": "python",
   "nbconvert_exporter": "python",
   "pygments_lexer": "ipython3",
   "version": "3.7.13"
  },
  "orig_nbformat": 4,
  "vscode": {
   "interpreter": {
    "hash": "28515e2b63b40114f6e8c1f789cf21b6d4b349a50273d5a1dcb37706cefab85d"
   }
  }
 },
 "nbformat": 4,
 "nbformat_minor": 2
}
