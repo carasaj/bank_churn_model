{
 "cells": [
  {
   "attachments": {},
   "cell_type": "markdown",
   "metadata": {},
   "source": [
    "## Import Statements\n",
    "### The libraries used are `pandas`, `pathlib`, `imblearn`, and `sklearn`. "
   ]
  },
  {
   "cell_type": "code",
   "execution_count": 1,
   "metadata": {},
   "outputs": [],
   "source": [
    "import pandas as pd\n",
    "from pathlib import Path\n",
    "from imblearn.metrics import classification_report_imbalanced\n",
    "from imblearn.over_sampling import SMOTE\n",
    "from sklearn.metrics import accuracy_score\n",
    "from sklearn.metrics import classification_report\n",
    "from sklearn.metrics import confusion_matrix\n",
    "from sklearn.preprocessing import StandardScaler\n",
    "from sklearn.compose import ColumnTransformer\n",
    "from sklearn.model_selection import train_test_split\n",
    "from sklearn.ensemble import GradientBoostingClassifier"
   ]
  },
  {
   "attachments": {},
   "cell_type": "markdown",
   "metadata": {},
   "source": [
    "## Import the data and create a dataframe\n",
    "1. Use `pandas` and `pathlib` to read the `BankChurnersPrimary.csv` CSV from the `Resources` folder.\n",
    "2. Sample the dataset to review the data."
   ]
  },
  {
   "cell_type": "code",
   "execution_count": 2,
   "metadata": {},
   "outputs": [
    {
     "data": {
      "text/html": [
       "<div>\n",
       "<style scoped>\n",
       "    .dataframe tbody tr th:only-of-type {\n",
       "        vertical-align: middle;\n",
       "    }\n",
       "\n",
       "    .dataframe tbody tr th {\n",
       "        vertical-align: top;\n",
       "    }\n",
       "\n",
       "    .dataframe thead th {\n",
       "        text-align: right;\n",
       "    }\n",
       "</style>\n",
       "<table border=\"1\" class=\"dataframe\">\n",
       "  <thead>\n",
       "    <tr style=\"text-align: right;\">\n",
       "      <th></th>\n",
       "      <th>CLIENTNUM</th>\n",
       "      <th>Attrition_Flag</th>\n",
       "      <th>Customer_Age</th>\n",
       "      <th>Gender</th>\n",
       "      <th>Dependent_count</th>\n",
       "      <th>Education_Level</th>\n",
       "      <th>Marital_Status</th>\n",
       "      <th>Income_Category</th>\n",
       "      <th>Card_Category</th>\n",
       "      <th>Months_on_book</th>\n",
       "      <th>...</th>\n",
       "      <th>Credit_Limit</th>\n",
       "      <th>Total_Revolving_Bal</th>\n",
       "      <th>Avg_Open_To_Buy</th>\n",
       "      <th>Total_Amt_Chng_Q4_Q1</th>\n",
       "      <th>Total_Trans_Amt</th>\n",
       "      <th>Total_Trans_Ct</th>\n",
       "      <th>Total_Ct_Chng_Q4_Q1</th>\n",
       "      <th>Avg_Utilization_Ratio</th>\n",
       "      <th>Naive_Bayes_Classifier_Attrition_Flag_Card_Category_Contacts_Count_12_mon_Dependent_count_Education_Level_Months_Inactive_12_mon_1</th>\n",
       "      <th>Naive_Bayes_Classifier_Attrition_Flag_Card_Category_Contacts_Count_12_mon_Dependent_count_Education_Level_Months_Inactive_12_mon_2</th>\n",
       "    </tr>\n",
       "  </thead>\n",
       "  <tbody>\n",
       "    <tr>\n",
       "      <th>5302</th>\n",
       "      <td>780100533</td>\n",
       "      <td>Existing Customer</td>\n",
       "      <td>46</td>\n",
       "      <td>M</td>\n",
       "      <td>3</td>\n",
       "      <td>Graduate</td>\n",
       "      <td>Married</td>\n",
       "      <td>$80K - $120K</td>\n",
       "      <td>Blue</td>\n",
       "      <td>31</td>\n",
       "      <td>...</td>\n",
       "      <td>26303.0</td>\n",
       "      <td>2376</td>\n",
       "      <td>23927.0</td>\n",
       "      <td>0.583</td>\n",
       "      <td>3586</td>\n",
       "      <td>67</td>\n",
       "      <td>0.914</td>\n",
       "      <td>0.090</td>\n",
       "      <td>0.000339</td>\n",
       "      <td>0.99966</td>\n",
       "    </tr>\n",
       "    <tr>\n",
       "      <th>4857</th>\n",
       "      <td>717045033</td>\n",
       "      <td>Existing Customer</td>\n",
       "      <td>45</td>\n",
       "      <td>F</td>\n",
       "      <td>3</td>\n",
       "      <td>Unknown</td>\n",
       "      <td>Married</td>\n",
       "      <td>Unknown</td>\n",
       "      <td>Blue</td>\n",
       "      <td>36</td>\n",
       "      <td>...</td>\n",
       "      <td>8459.0</td>\n",
       "      <td>757</td>\n",
       "      <td>7702.0</td>\n",
       "      <td>0.648</td>\n",
       "      <td>4677</td>\n",
       "      <td>87</td>\n",
       "      <td>0.673</td>\n",
       "      <td>0.089</td>\n",
       "      <td>0.000106</td>\n",
       "      <td>0.99989</td>\n",
       "    </tr>\n",
       "    <tr>\n",
       "      <th>1238</th>\n",
       "      <td>756013833</td>\n",
       "      <td>Existing Customer</td>\n",
       "      <td>57</td>\n",
       "      <td>M</td>\n",
       "      <td>3</td>\n",
       "      <td>Doctorate</td>\n",
       "      <td>Married</td>\n",
       "      <td>$80K - $120K</td>\n",
       "      <td>Blue</td>\n",
       "      <td>50</td>\n",
       "      <td>...</td>\n",
       "      <td>4522.0</td>\n",
       "      <td>1861</td>\n",
       "      <td>2661.0</td>\n",
       "      <td>0.957</td>\n",
       "      <td>1806</td>\n",
       "      <td>38</td>\n",
       "      <td>0.727</td>\n",
       "      <td>0.412</td>\n",
       "      <td>0.000287</td>\n",
       "      <td>0.99971</td>\n",
       "    </tr>\n",
       "    <tr>\n",
       "      <th>3660</th>\n",
       "      <td>709435533</td>\n",
       "      <td>Attrited Customer</td>\n",
       "      <td>53</td>\n",
       "      <td>F</td>\n",
       "      <td>1</td>\n",
       "      <td>Unknown</td>\n",
       "      <td>Single</td>\n",
       "      <td>Less than $40K</td>\n",
       "      <td>Blue</td>\n",
       "      <td>41</td>\n",
       "      <td>...</td>\n",
       "      <td>3099.0</td>\n",
       "      <td>0</td>\n",
       "      <td>3099.0</td>\n",
       "      <td>0.279</td>\n",
       "      <td>1401</td>\n",
       "      <td>44</td>\n",
       "      <td>0.419</td>\n",
       "      <td>0.000</td>\n",
       "      <td>0.994640</td>\n",
       "      <td>0.00536</td>\n",
       "    </tr>\n",
       "    <tr>\n",
       "      <th>4590</th>\n",
       "      <td>716177583</td>\n",
       "      <td>Existing Customer</td>\n",
       "      <td>58</td>\n",
       "      <td>F</td>\n",
       "      <td>1</td>\n",
       "      <td>Post-Graduate</td>\n",
       "      <td>Single</td>\n",
       "      <td>Less than $40K</td>\n",
       "      <td>Blue</td>\n",
       "      <td>36</td>\n",
       "      <td>...</td>\n",
       "      <td>1438.3</td>\n",
       "      <td>0</td>\n",
       "      <td>1438.3</td>\n",
       "      <td>0.657</td>\n",
       "      <td>4722</td>\n",
       "      <td>89</td>\n",
       "      <td>0.745</td>\n",
       "      <td>0.000</td>\n",
       "      <td>0.000361</td>\n",
       "      <td>0.99964</td>\n",
       "    </tr>\n",
       "  </tbody>\n",
       "</table>\n",
       "<p>5 rows × 23 columns</p>\n",
       "</div>"
      ],
      "text/plain": [
       "      CLIENTNUM     Attrition_Flag  Customer_Age Gender  Dependent_count  \\\n",
       "5302  780100533  Existing Customer            46      M                3   \n",
       "4857  717045033  Existing Customer            45      F                3   \n",
       "1238  756013833  Existing Customer            57      M                3   \n",
       "3660  709435533  Attrited Customer            53      F                1   \n",
       "4590  716177583  Existing Customer            58      F                1   \n",
       "\n",
       "     Education_Level Marital_Status Income_Category Card_Category  \\\n",
       "5302        Graduate        Married    $80K - $120K          Blue   \n",
       "4857         Unknown        Married         Unknown          Blue   \n",
       "1238       Doctorate        Married    $80K - $120K          Blue   \n",
       "3660         Unknown         Single  Less than $40K          Blue   \n",
       "4590   Post-Graduate         Single  Less than $40K          Blue   \n",
       "\n",
       "      Months_on_book  ...  Credit_Limit  Total_Revolving_Bal  Avg_Open_To_Buy  \\\n",
       "5302              31  ...       26303.0                 2376          23927.0   \n",
       "4857              36  ...        8459.0                  757           7702.0   \n",
       "1238              50  ...        4522.0                 1861           2661.0   \n",
       "3660              41  ...        3099.0                    0           3099.0   \n",
       "4590              36  ...        1438.3                    0           1438.3   \n",
       "\n",
       "      Total_Amt_Chng_Q4_Q1  Total_Trans_Amt  Total_Trans_Ct  \\\n",
       "5302                 0.583             3586              67   \n",
       "4857                 0.648             4677              87   \n",
       "1238                 0.957             1806              38   \n",
       "3660                 0.279             1401              44   \n",
       "4590                 0.657             4722              89   \n",
       "\n",
       "      Total_Ct_Chng_Q4_Q1  Avg_Utilization_Ratio  \\\n",
       "5302                0.914                  0.090   \n",
       "4857                0.673                  0.089   \n",
       "1238                0.727                  0.412   \n",
       "3660                0.419                  0.000   \n",
       "4590                0.745                  0.000   \n",
       "\n",
       "      Naive_Bayes_Classifier_Attrition_Flag_Card_Category_Contacts_Count_12_mon_Dependent_count_Education_Level_Months_Inactive_12_mon_1  \\\n",
       "5302                                           0.000339                                                                                    \n",
       "4857                                           0.000106                                                                                    \n",
       "1238                                           0.000287                                                                                    \n",
       "3660                                           0.994640                                                                                    \n",
       "4590                                           0.000361                                                                                    \n",
       "\n",
       "      Naive_Bayes_Classifier_Attrition_Flag_Card_Category_Contacts_Count_12_mon_Dependent_count_Education_Level_Months_Inactive_12_mon_2  \n",
       "5302                                            0.99966                                                                                   \n",
       "4857                                            0.99989                                                                                   \n",
       "1238                                            0.99971                                                                                   \n",
       "3660                                            0.00536                                                                                   \n",
       "4590                                            0.99964                                                                                   \n",
       "\n",
       "[5 rows x 23 columns]"
      ]
     },
     "execution_count": 2,
     "metadata": {},
     "output_type": "execute_result"
    }
   ],
   "source": [
    "starter_df = pd.read_csv(Path(\"c://users/ajcth/documents/github/bank_churn_project/Resources/BankChurnersPrimary.csv\"))\n",
    "starter_df.sample(5)"
   ]
  },
  {
   "attachments": {},
   "cell_type": "markdown",
   "metadata": {},
   "source": [
    "## Drop any Unknown or NaN values"
   ]
  },
  {
   "cell_type": "code",
   "execution_count": 3,
   "metadata": {},
   "outputs": [],
   "source": [
    "starter_df = starter_df[starter_df != 'Unknown'].dropna()"
   ]
  },
  {
   "attachments": {},
   "cell_type": "markdown",
   "metadata": {},
   "source": [
    "## Remove any columns that won't be used.\n",
    "Naive Bayes columns can't be used (it's calculated from features and target).\n",
    "\n",
    "CLIENTNUM is irrelevant."
   ]
  },
  {
   "cell_type": "code",
   "execution_count": 4,
   "metadata": {},
   "outputs": [],
   "source": [
    "starter_df.drop(columns=[\n",
    "'Naive_Bayes_Classifier_Attrition_Flag_Card_Category_Contacts_Count_12_mon_Dependent_count_Education_Level_Months_Inactive_12_mon_2', \n",
    "'Naive_Bayes_Classifier_Attrition_Flag_Card_Category_Contacts_Count_12_mon_Dependent_count_Education_Level_Months_Inactive_12_mon_1',\n",
    "'CLIENTNUM'\n",
    "], \n",
    "inplace= True)"
   ]
  },
  {
   "attachments": {},
   "cell_type": "markdown",
   "metadata": {},
   "source": [
    "## Evaluate the Education column for use as a feature\n",
    "The Education values are ranked from uneducated to doctorate, and is a gradient rather than ambiguous classifications. \n",
    "\n",
    "The ranks will be converted to numericals and specified as datatype `int`.\n",
    "1. Uneducated = 0\n",
    "2. Highschool = 1\n",
    "3. College = 2\n",
    "4. Graduate = 3\n",
    "5. Post-Grad = 4\n",
    "6. Doctorate = 5"
   ]
  },
  {
   "cell_type": "code",
   "execution_count": 5,
   "metadata": {},
   "outputs": [],
   "source": [
    "starter_df = starter_df.replace({'Education_Level' : {\n",
    "'Uneducated': 0, \n",
    "'High School': 1, \n",
    "'College' : 2, \n",
    "'Graduate' :  3, \n",
    "'Post-Graduate' : 4, \n",
    "'Doctorate' : 5\n",
    "}})\n",
    "starter_df.Education_Level = starter_df.Education_Level.astype(int)"
   ]
  },
  {
   "attachments": {},
   "cell_type": "markdown",
   "metadata": {},
   "source": [
    "## Evaluate the Card Type column for use as a feature\n",
    "The Card Type values are ranked from blue to platinum, and is a gradient rather than ambiguous classifications. The ranks will be converted to numericals and specified as datatype `int`.\n",
    "1. Blue = 0\n",
    "2. Silver = 1\n",
    "3. Gold = 2\n",
    "4. Platinum = 3\n"
   ]
  },
  {
   "cell_type": "code",
   "execution_count": 6,
   "metadata": {},
   "outputs": [],
   "source": [
    "starter_df = starter_df.replace({'Card_Category' : {\n",
    "'Blue': 0, \n",
    "'Silver': 1, \n",
    "'Gold' : 2, \n",
    "'Platinum' : 3\n",
    "}})\n",
    "starter_df.Card_Category = starter_df.Card_Category.astype(int)"
   ]
  },
  {
   "attachments": {},
   "cell_type": "markdown",
   "metadata": {},
   "source": [
    "## Evaluate the Gender column for use as a feature\n",
    "Gender is a binary classification, so we don't need to OneHotEncode.\n",
    "The values will be converted to numericals and specified as datatype `int`.\n",
    "1. Male = 0\n",
    "2. Female = 1 \n"
   ]
  },
  {
   "cell_type": "code",
   "execution_count": 7,
   "metadata": {},
   "outputs": [],
   "source": [
    "starter_df = starter_df.replace({'Gender' : {\n",
    "'M': 0, \n",
    "'F': 1\n",
    "}})\n",
    "starter_df.Gender = starter_df.Gender.astype(int)"
   ]
  },
  {
   "attachments": {},
   "cell_type": "markdown",
   "metadata": {},
   "source": [
    "## Evaluate the Attrition_Flag column for use as the target\n",
    "Attrition_Flag is a binary classification, so we don't need to OneHotEncode.\n",
    "The values will be converted to numericals and specified as datatype `int`.\n",
    "1. Attrited Customer = 0\n",
    "2. Existing Customer = 1 "
   ]
  },
  {
   "cell_type": "code",
   "execution_count": 8,
   "metadata": {},
   "outputs": [],
   "source": [
    "starter_df = starter_df.replace({'Attrition_Flag' : {\n",
    "'Attrited Customer': 0, \n",
    "'Existing Customer': 1\n",
    "}})\n",
    "starter_df.Attrition_Flag = starter_df.Attrition_Flag.astype(int)"
   ]
  },
  {
   "attachments": {},
   "cell_type": "markdown",
   "metadata": {},
   "source": [
    "## Perform feature creation on the Dependents and Marital_Status features to create the Marital_Dependent_Ratio feature\n",
    "The values will be converted to numericals and specified as datatype `int`.\n",
    "Divorced and Single will be combined, as they are both single income sources.\n",
    "1. Divorced = 1\n",
    "2. Single = 1 \n",
    "3. Married = 2\n",
    "\n",
    "The formula for Marital_Dependent_Ratio is as follows:\n",
    "\n",
    "( Marital_Status / (Dependents + 1) / 2 )\n",
    "\n",
    "The original Marital_Status and Dependents columns will be dropped in place of the Marital_Dependent_Ratio column."
   ]
  },
  {
   "cell_type": "code",
   "execution_count": 9,
   "metadata": {},
   "outputs": [],
   "source": [
    "starter_df = starter_df.replace({'Marital_Status' : {\n",
    "'Divorced': 1, \n",
    "'Single': 1, \n",
    "'Married' : 2\n",
    "}})\n",
    "starter_df.Marital_Status = starter_df.Marital_Status.astype(int)\n",
    "starter_df['Marital_Dependent_Ratio'] = ((starter_df['Marital_Status'] / (starter_df['Dependent_count'] + 1)) / 2).round(2)\n",
    "starter_df.drop(columns=['Marital_Status', 'Dependent_count'], inplace=True)\n"
   ]
  },
  {
   "attachments": {},
   "cell_type": "markdown",
   "metadata": {},
   "source": [
    "## Perform feature creation on the Avg_Open_To_Buy and Credit_Limit features to create the Avg_Trans_Value feature. Its a simple ratio.\n",
    "The original Avg_Open_To_Buy and Credit_Limit columns will be dropped in place of the Credit_Usage column."
   ]
  },
  {
   "cell_type": "code",
   "execution_count": 10,
   "metadata": {},
   "outputs": [],
   "source": [
    "starter_df['Credit_Usage'] = (starter_df['Avg_Open_To_Buy'] / starter_df['Credit_Limit']).round(2)\n",
    "starter_df.drop(columns=['Avg_Open_To_Buy', 'Credit_Limit'], inplace=True)"
   ]
  },
  {
   "attachments": {},
   "cell_type": "markdown",
   "metadata": {},
   "source": [
    "## Perform feature creation on the Total_Trans_Amt and Total_Trans_Ct features to create the Avg_Trans_Value feature. Its a simple ratio.\n",
    "The original Total_Trans_Amt and Total_Trans_Ct columns will be dropped in place of the Avg_Trans_Value column."
   ]
  },
  {
   "cell_type": "code",
   "execution_count": 11,
   "metadata": {},
   "outputs": [],
   "source": [
    "starter_df['Avg_Trans_Value'] = (starter_df['Total_Trans_Amt'] / starter_df['Total_Trans_Ct']).round(2)\n",
    "starter_df.drop(columns=['Total_Trans_Amt', 'Total_Trans_Ct'], inplace=True)"
   ]
  },
  {
   "attachments": {},
   "cell_type": "markdown",
   "metadata": {},
   "source": [
    "## Perform feature creation on the Tenure(month) and Age features to create the Tenure_By_Age feature. Its a simple ratio.\n",
    "\n",
    "The original Tenure(month) and Age columns will be dropped in place of the Tenure_By_Age column."
   ]
  },
  {
   "cell_type": "code",
   "execution_count": 12,
   "metadata": {},
   "outputs": [],
   "source": [
    "#Do feature creation to make a ratio between age and tenure\n",
    "starter_df['Tenure_By_Age'] = (starter_df['Months_on_book'] / starter_df['Customer_Age']).round(2)\n",
    "starter_df.drop(columns=['Months_on_book', 'Customer_Age'], inplace=True)"
   ]
  },
  {
   "attachments": {},
   "cell_type": "markdown",
   "metadata": {},
   "source": [
    "## Evaluate the Income column for use as the target\n",
    " The Income values are ranked in blocks, and is a gradient rather than ambiguous classifications. The ranks will be converted to numericals and specified as datatype `int`."
   ]
  },
  {
   "cell_type": "code",
   "execution_count": 13,
   "metadata": {},
   "outputs": [],
   "source": [
    "starter_df = starter_df.replace({'Income_Category' : {\n",
    "'Less than $40K': 0, \n",
    "'$40K - $60K': 1, \n",
    "'$80K - $120K' : 2, \n",
    "'$60K - $80K' : 3, \n",
    "'$120K +' : 4\n",
    "}})\n",
    "starter_df.Income_Category = starter_df.Income_Category.astype(int)"
   ]
  },
  {
   "attachments": {},
   "cell_type": "markdown",
   "metadata": {},
   "source": [
    "## Review the new features"
   ]
  },
  {
   "cell_type": "code",
   "execution_count": 14,
   "metadata": {},
   "outputs": [
    {
     "data": {
      "text/plain": [
       "Attrition_Flag                int32\n",
       "Gender                        int32\n",
       "Education_Level               int32\n",
       "Income_Category               int32\n",
       "Card_Category                 int32\n",
       "Total_Relationship_Count      int64\n",
       "Months_Inactive_12_mon        int64\n",
       "Contacts_Count_12_mon         int64\n",
       "Total_Revolving_Bal           int64\n",
       "Total_Amt_Chng_Q4_Q1        float64\n",
       "Total_Ct_Chng_Q4_Q1         float64\n",
       "Avg_Utilization_Ratio       float64\n",
       "Marital_Dependent_Ratio     float64\n",
       "Credit_Usage                float64\n",
       "Avg_Trans_Value             float64\n",
       "Tenure_By_Age               float64\n",
       "dtype: object"
      ]
     },
     "execution_count": 14,
     "metadata": {},
     "output_type": "execute_result"
    }
   ],
   "source": [
    "starter_df.dtypes"
   ]
  },
  {
   "cell_type": "code",
   "execution_count": 15,
   "metadata": {},
   "outputs": [
    {
     "data": {
      "text/html": [
       "<div>\n",
       "<style scoped>\n",
       "    .dataframe tbody tr th:only-of-type {\n",
       "        vertical-align: middle;\n",
       "    }\n",
       "\n",
       "    .dataframe tbody tr th {\n",
       "        vertical-align: top;\n",
       "    }\n",
       "\n",
       "    .dataframe thead th {\n",
       "        text-align: right;\n",
       "    }\n",
       "</style>\n",
       "<table border=\"1\" class=\"dataframe\">\n",
       "  <thead>\n",
       "    <tr style=\"text-align: right;\">\n",
       "      <th></th>\n",
       "      <th>Attrition_Flag</th>\n",
       "      <th>Gender</th>\n",
       "      <th>Education_Level</th>\n",
       "      <th>Income_Category</th>\n",
       "      <th>Card_Category</th>\n",
       "      <th>Total_Relationship_Count</th>\n",
       "      <th>Months_Inactive_12_mon</th>\n",
       "      <th>Contacts_Count_12_mon</th>\n",
       "      <th>Total_Revolving_Bal</th>\n",
       "      <th>Total_Amt_Chng_Q4_Q1</th>\n",
       "      <th>Total_Ct_Chng_Q4_Q1</th>\n",
       "      <th>Avg_Utilization_Ratio</th>\n",
       "      <th>Marital_Dependent_Ratio</th>\n",
       "      <th>Credit_Usage</th>\n",
       "      <th>Avg_Trans_Value</th>\n",
       "      <th>Tenure_By_Age</th>\n",
       "    </tr>\n",
       "  </thead>\n",
       "  <tbody>\n",
       "    <tr>\n",
       "      <th>1938</th>\n",
       "      <td>1</td>\n",
       "      <td>0</td>\n",
       "      <td>3</td>\n",
       "      <td>3</td>\n",
       "      <td>0</td>\n",
       "      <td>6</td>\n",
       "      <td>3</td>\n",
       "      <td>4</td>\n",
       "      <td>1201</td>\n",
       "      <td>0.802</td>\n",
       "      <td>0.881</td>\n",
       "      <td>0.070</td>\n",
       "      <td>0.25</td>\n",
       "      <td>0.93</td>\n",
       "      <td>49.25</td>\n",
       "      <td>0.78</td>\n",
       "    </tr>\n",
       "    <tr>\n",
       "      <th>5415</th>\n",
       "      <td>0</td>\n",
       "      <td>1</td>\n",
       "      <td>3</td>\n",
       "      <td>0</td>\n",
       "      <td>0</td>\n",
       "      <td>1</td>\n",
       "      <td>3</td>\n",
       "      <td>3</td>\n",
       "      <td>811</td>\n",
       "      <td>0.571</td>\n",
       "      <td>0.278</td>\n",
       "      <td>0.564</td>\n",
       "      <td>0.17</td>\n",
       "      <td>0.44</td>\n",
       "      <td>50.78</td>\n",
       "      <td>0.69</td>\n",
       "    </tr>\n",
       "    <tr>\n",
       "      <th>927</th>\n",
       "      <td>1</td>\n",
       "      <td>0</td>\n",
       "      <td>3</td>\n",
       "      <td>2</td>\n",
       "      <td>0</td>\n",
       "      <td>6</td>\n",
       "      <td>2</td>\n",
       "      <td>3</td>\n",
       "      <td>1387</td>\n",
       "      <td>0.731</td>\n",
       "      <td>0.304</td>\n",
       "      <td>0.663</td>\n",
       "      <td>0.33</td>\n",
       "      <td>0.34</td>\n",
       "      <td>48.93</td>\n",
       "      <td>0.82</td>\n",
       "    </tr>\n",
       "    <tr>\n",
       "      <th>899</th>\n",
       "      <td>1</td>\n",
       "      <td>1</td>\n",
       "      <td>3</td>\n",
       "      <td>0</td>\n",
       "      <td>0</td>\n",
       "      <td>5</td>\n",
       "      <td>2</td>\n",
       "      <td>2</td>\n",
       "      <td>2517</td>\n",
       "      <td>1.301</td>\n",
       "      <td>0.815</td>\n",
       "      <td>0.794</td>\n",
       "      <td>0.12</td>\n",
       "      <td>0.21</td>\n",
       "      <td>41.37</td>\n",
       "      <td>0.72</td>\n",
       "    </tr>\n",
       "    <tr>\n",
       "      <th>982</th>\n",
       "      <td>1</td>\n",
       "      <td>0</td>\n",
       "      <td>3</td>\n",
       "      <td>3</td>\n",
       "      <td>0</td>\n",
       "      <td>3</td>\n",
       "      <td>1</td>\n",
       "      <td>3</td>\n",
       "      <td>2517</td>\n",
       "      <td>1.254</td>\n",
       "      <td>0.636</td>\n",
       "      <td>0.880</td>\n",
       "      <td>0.50</td>\n",
       "      <td>0.12</td>\n",
       "      <td>62.42</td>\n",
       "      <td>0.67</td>\n",
       "    </tr>\n",
       "  </tbody>\n",
       "</table>\n",
       "</div>"
      ],
      "text/plain": [
       "      Attrition_Flag  Gender  Education_Level  Income_Category  Card_Category  \\\n",
       "1938               1       0                3                3              0   \n",
       "5415               0       1                3                0              0   \n",
       "927                1       0                3                2              0   \n",
       "899                1       1                3                0              0   \n",
       "982                1       0                3                3              0   \n",
       "\n",
       "      Total_Relationship_Count  Months_Inactive_12_mon  Contacts_Count_12_mon  \\\n",
       "1938                         6                       3                      4   \n",
       "5415                         1                       3                      3   \n",
       "927                          6                       2                      3   \n",
       "899                          5                       2                      2   \n",
       "982                          3                       1                      3   \n",
       "\n",
       "      Total_Revolving_Bal  Total_Amt_Chng_Q4_Q1  Total_Ct_Chng_Q4_Q1  \\\n",
       "1938                 1201                 0.802                0.881   \n",
       "5415                  811                 0.571                0.278   \n",
       "927                  1387                 0.731                0.304   \n",
       "899                  2517                 1.301                0.815   \n",
       "982                  2517                 1.254                0.636   \n",
       "\n",
       "      Avg_Utilization_Ratio  Marital_Dependent_Ratio  Credit_Usage  \\\n",
       "1938                  0.070                     0.25          0.93   \n",
       "5415                  0.564                     0.17          0.44   \n",
       "927                   0.663                     0.33          0.34   \n",
       "899                   0.794                     0.12          0.21   \n",
       "982                   0.880                     0.50          0.12   \n",
       "\n",
       "      Avg_Trans_Value  Tenure_By_Age  \n",
       "1938            49.25           0.78  \n",
       "5415            50.78           0.69  \n",
       "927             48.93           0.82  \n",
       "899             41.37           0.72  \n",
       "982             62.42           0.67  "
      ]
     },
     "execution_count": 15,
     "metadata": {},
     "output_type": "execute_result"
    }
   ],
   "source": [
    "starter_df.sample(5)"
   ]
  },
  {
   "attachments": {},
   "cell_type": "markdown",
   "metadata": {},
   "source": [
    "## Define our features(X) and our target(y)"
   ]
  },
  {
   "cell_type": "code",
   "execution_count": 16,
   "metadata": {},
   "outputs": [],
   "source": [
    "y = starter_df['Attrition_Flag']\n",
    "X = starter_df.drop(columns=['Attrition_Flag'])"
   ]
  },
  {
   "attachments": {},
   "cell_type": "markdown",
   "metadata": {},
   "source": [
    "## Split features and target in to training and testing sets"
   ]
  },
  {
   "cell_type": "code",
   "execution_count": 17,
   "metadata": {},
   "outputs": [],
   "source": [
    "X_train, X_test, y_train, y_test = train_test_split(X, y, random_state=1)"
   ]
  },
  {
   "attachments": {},
   "cell_type": "markdown",
   "metadata": {},
   "source": [
    "## Using StandardScaler, scale all numerical/float values that don't represent ambiguous categories\n",
    "### StandardScaler will be used within ColumnTransformer. This allows for the scaling of specified columns within our X_train and X_test set.\n",
    "It's critical that the StandardScaler is only fit to our X_train. Both X_train and X_test will be transformed, but the StandardScaler will only be fit to X_train.This prevents the model from 'cheating'."
   ]
  },
  {
   "cell_type": "code",
   "execution_count": 18,
   "metadata": {},
   "outputs": [],
   "source": [
    "scaler = StandardScaler()\n",
    "\n",
    "col_tran= ColumnTransformer([\n",
    "('Total_Revolving_Bal_Scaled', scaler, ['Total_Revolving_Bal']),\n",
    "('Education_Scaled', scaler, ['Education_Level']),\n",
    "('Income_Scaled', scaler, ['Income_Category']),\n",
    "('Card_Type_Scaled', scaler, ['Card_Category']),\n",
    "('Months_Inactive_12_mon_scaled', scaler, ['Months_Inactive_12_mon']),\n",
    "('Credit_Usage_Scaled', scaler, ['Credit_Usage']),\n",
    "('Avg_Trans_Value_Scaled', scaler, ['Avg_Trans_Value']),\n",
    "('Tenure_By_Age_Scaled', scaler, ['Tenure_By_Age']),\n",
    "('Avg_Util_Ratio_Scaled', scaler, ['Avg_Utilization_Ratio']),\n",
    "('Total_Relationship_Count_Scaled', scaler, ['Total_Relationship_Count']),\n",
    "('Contacts_Count_12_mon_scaled', scaler, ['Contacts_Count_12_mon']),\n",
    "('Total_Amt_Chng_Q4_Q1_scaled', scaler, ['Total_Amt_Chng_Q4_Q1']),\n",
    "('Total_Ct_Chng_Q4_Q1_scaled', scaler, ['Total_Ct_Chng_Q4_Q1']),\n",
    "('Marital_Dependent_Ratio_Scaled', scaler, ['Marital_Dependent_Ratio'])\n",
    "])\n",
    "\n",
    "\n",
    "X_train = col_tran.fit_transform(X_train)\n",
    "X_test = col_tran.transform(X_test)"
   ]
  },
  {
   "attachments": {},
   "cell_type": "markdown",
   "metadata": {},
   "source": [
    "## Use SMOTE to add synthetic data and balance our target/feature value count\n",
    "This will only be done on the training data."
   ]
  },
  {
   "cell_type": "code",
   "execution_count": 19,
   "metadata": {},
   "outputs": [],
   "source": [
    "oversample = SMOTE()\n",
    "X_train, y_train = oversample.fit_resample(X_train, y_train)"
   ]
  },
  {
   "attachments": {},
   "cell_type": "markdown",
   "metadata": {},
   "source": [
    "## Create an instance of the GradientBoostingClassifier model\n",
    "Hyperparameter tuning was mostly unhelpful; only two hyperparameters have been changed from default values.\n",
    "1. n_estimators = 500\n",
    "2. random_state= 2"
   ]
  },
  {
   "cell_type": "code",
   "execution_count": 20,
   "metadata": {},
   "outputs": [],
   "source": [
    "gbc_model = GradientBoostingClassifier(\n",
    "n_estimators=500,                 #default = 100    range = 1-inf\n",
    "random_state= 2,                  #default = None   range = 1-inf\n",
    "subsample= 1,                     #default = 1      range = 0.-1\n",
    "min_samples_split = 2,            #default = 2      range = 2-inf\n",
    "max_depth=3,                      #default = 3      range = 1-inf\n",
    "min_impurity_decrease=0,          #default = 0      range = 0 - inf\n",
    "min_samples_leaf = 1,             #default = 1      range = 1 - inf\n",
    "min_weight_fraction_leaf = 0,     #default = 0      range =0 - 0.5\n",
    "max_leaf_nodes = None,            #default = None   range = 2-inf\n",
    "learning_rate = 0.1               #default=0.1      range 0.0-inf\n",
    ")"
   ]
  },
  {
   "attachments": {},
   "cell_type": "markdown",
   "metadata": {},
   "source": [
    "## Fit the model on the training data"
   ]
  },
  {
   "cell_type": "code",
   "execution_count": 21,
   "metadata": {},
   "outputs": [
    {
     "data": {
      "text/plain": [
       "GradientBoostingClassifier(min_impurity_decrease=0, min_weight_fraction_leaf=0,\n",
       "                           n_estimators=500, random_state=2, subsample=1)"
      ]
     },
     "execution_count": 21,
     "metadata": {},
     "output_type": "execute_result"
    }
   ],
   "source": [
    "gbc_model.fit(X_train, y_train)"
   ]
  },
  {
   "attachments": {},
   "cell_type": "markdown",
   "metadata": {},
   "source": [
    "## Make predictions on the test data"
   ]
  },
  {
   "cell_type": "code",
   "execution_count": 22,
   "metadata": {},
   "outputs": [],
   "source": [
    "gbc_test_predictions = gbc_model.predict(X_test)"
   ]
  },
  {
   "attachments": {},
   "cell_type": "markdown",
   "metadata": {},
   "source": [
    "## Evaluate the model's performance"
   ]
  },
  {
   "cell_type": "code",
   "execution_count": 23,
   "metadata": {},
   "outputs": [
    {
     "name": "stdout",
     "output_type": "stream",
     "text": [
      "Accuracy: 92.55%\n"
     ]
    }
   ],
   "source": [
    "accuracy = accuracy_score(y_test, gbc_test_predictions)\n",
    "print(\"Accuracy: {:.2f}%\".format(accuracy * 100))"
   ]
  },
  {
   "attachments": {},
   "cell_type": "markdown",
   "metadata": {},
   "source": [
    "## Generate a confusion matrix"
   ]
  },
  {
   "cell_type": "code",
   "execution_count": 24,
   "metadata": {},
   "outputs": [
    {
     "name": "stdout",
     "output_type": "stream",
     "text": [
      "[[ 200   77]\n",
      " [  55 1439]]\n"
     ]
    }
   ],
   "source": [
    "gbc_test_matrix = confusion_matrix(y_test, gbc_test_predictions)\n",
    "print(gbc_test_matrix)"
   ]
  },
  {
   "attachments": {},
   "cell_type": "markdown",
   "metadata": {},
   "source": [
    "## Generate a classification report"
   ]
  },
  {
   "cell_type": "code",
   "execution_count": 25,
   "metadata": {},
   "outputs": [
    {
     "name": "stdout",
     "output_type": "stream",
     "text": [
      "              precision    recall  f1-score   support\n",
      "\n",
      "           0       0.78      0.72      0.75       277\n",
      "           1       0.95      0.96      0.96      1494\n",
      "\n",
      "    accuracy                           0.93      1771\n",
      "   macro avg       0.87      0.84      0.85      1771\n",
      "weighted avg       0.92      0.93      0.92      1771\n",
      "\n"
     ]
    }
   ],
   "source": [
    "gbc_testing_report = classification_report(y_test, gbc_test_predictions)\n",
    "print(gbc_testing_report)"
   ]
  },
  {
   "attachments": {},
   "cell_type": "markdown",
   "metadata": {},
   "source": [
    "## Generate an imbalanced classification report"
   ]
  },
  {
   "cell_type": "code",
   "execution_count": 26,
   "metadata": {},
   "outputs": [
    {
     "name": "stdout",
     "output_type": "stream",
     "text": [
      "                   pre       rec       spe        f1       geo       iba       sup\n",
      "\n",
      "          0       0.78      0.72      0.96      0.75      0.83      0.68       277\n",
      "          1       0.95      0.96      0.72      0.96      0.83      0.71      1494\n",
      "\n",
      "avg / total       0.92      0.93      0.76      0.92      0.83      0.71      1771\n",
      "\n"
     ]
    }
   ],
   "source": [
    "imb__gbc_testing_report = classification_report_imbalanced(y_test, gbc_test_predictions)\n",
    "print(imb__gbc_testing_report)"
   ]
  }
 ],
 "metadata": {
  "kernelspec": {
   "display_name": "dev",
   "language": "python",
   "name": "python3"
  },
  "language_info": {
   "codemirror_mode": {
    "name": "ipython",
    "version": 3
   },
   "file_extension": ".py",
   "mimetype": "text/x-python",
   "name": "python",
   "nbconvert_exporter": "python",
   "pygments_lexer": "ipython3",
   "version": "3.7.13"
  },
  "orig_nbformat": 4,
  "vscode": {
   "interpreter": {
    "hash": "28515e2b63b40114f6e8c1f789cf21b6d4b349a50273d5a1dcb37706cefab85d"
   }
  }
 },
 "nbformat": 4,
 "nbformat_minor": 2
}
