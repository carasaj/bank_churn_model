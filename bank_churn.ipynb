{
 "cells": [
  {
   "cell_type": "code",
   "execution_count": 179,
   "metadata": {},
   "outputs": [],
   "source": [
    "# for Exited, 1 is not-exited, -1 is exited\n",
    "# for gender, male is 0 and female is 1\n",
    "\n",
    "\n",
    "#Consider creating a combined column for exited and active member\n",
    "    #-2 if exited and active, -1 if exited and inactive, 1 if stayed and inactive, 2 if stayed and active\n",
    "\n",
    "#clean outlier data from monthly salary (scale or remove?)\n",
    "\n",
    "#need to do either undersampling or oversampling, about 8000 users stayed while only 2000 left\n",
    "\n",
    "#standardscaler or create new features from the features (salary, balance, age, credit score, tenure)\n",
    "\n",
    "# separate data by region? looks like most data is from france. Much less likely for french customers to leave.\n",
    "# i.e. the leave data for all three countries is similar but the stay data is much higher in france.\n",
    "\n",
    "#MY ASSUMPTIONS:\n",
    "#The data was collected at two points in a year. First point gave balance, salary, etc., then later that year they checked if that person had left or stayed\n",
    "#Balance may still exist if a person left the bank because it represents the balance they had before leaving\n",
    "#User is considered an active user if they are still using the bank services in some way. its possible for an active member to leave. its possible for an inactive member to stay.\n",
    "\n",
    "#is profitable idea: check a 1 for yes and -1 for no, based on iff the user is both an active member AND has a positive balance"
   ]
  },
  {
   "cell_type": "code",
   "execution_count": 180,
   "metadata": {},
   "outputs": [],
   "source": [
    "import pandas as pd\n",
    "import numpy as np\n",
    "from pathlib import Path\n",
    "\n",
    "from imblearn.over_sampling import SMOTE\n",
    "from sklearn.preprocessing import OneHotEncoder\n",
    "from sklearn.preprocessing import StandardScaler\n",
    "from sklearn.model_selection import train_test_split\n",
    "from sklearn.linear_model import LogisticRegression\n",
    "from sklearn.ensemble import RandomForestClassifier\n",
    "from sklearn.metrics import accuracy_score\n",
    "from sklearn.metrics import classification_report\n",
    "from sklearn.metrics import confusion_matrix\n",
    "from sklearn.svm import SVC\n"
   ]
  },
  {
   "cell_type": "code",
   "execution_count": 181,
   "metadata": {},
   "outputs": [
    {
     "data": {
      "text/html": [
       "<div>\n",
       "<style scoped>\n",
       "    .dataframe tbody tr th:only-of-type {\n",
       "        vertical-align: middle;\n",
       "    }\n",
       "\n",
       "    .dataframe tbody tr th {\n",
       "        vertical-align: top;\n",
       "    }\n",
       "\n",
       "    .dataframe thead th {\n",
       "        text-align: right;\n",
       "    }\n",
       "</style>\n",
       "<table border=\"1\" class=\"dataframe\">\n",
       "  <thead>\n",
       "    <tr style=\"text-align: right;\">\n",
       "      <th></th>\n",
       "      <th>RowNumber</th>\n",
       "      <th>CustomerId</th>\n",
       "      <th>Surname</th>\n",
       "      <th>CreditScore</th>\n",
       "      <th>Geography</th>\n",
       "      <th>Gender</th>\n",
       "      <th>Age</th>\n",
       "      <th>Tenure</th>\n",
       "      <th>Balance</th>\n",
       "      <th>NumOfProducts</th>\n",
       "      <th>HasCrCard</th>\n",
       "      <th>IsActiveMember</th>\n",
       "      <th>EstimatedSalary</th>\n",
       "      <th>Exited</th>\n",
       "    </tr>\n",
       "  </thead>\n",
       "  <tbody>\n",
       "    <tr>\n",
       "      <th>9537</th>\n",
       "      <td>9538</td>\n",
       "      <td>15780409</td>\n",
       "      <td>Egobudike</td>\n",
       "      <td>783</td>\n",
       "      <td>France</td>\n",
       "      <td>Male</td>\n",
       "      <td>40</td>\n",
       "      <td>6</td>\n",
       "      <td>0.00</td>\n",
       "      <td>2</td>\n",
       "      <td>1</td>\n",
       "      <td>0</td>\n",
       "      <td>109742.55</td>\n",
       "      <td>0</td>\n",
       "    </tr>\n",
       "    <tr>\n",
       "      <th>1683</th>\n",
       "      <td>1684</td>\n",
       "      <td>15709387</td>\n",
       "      <td>Obiajulu</td>\n",
       "      <td>711</td>\n",
       "      <td>France</td>\n",
       "      <td>Male</td>\n",
       "      <td>52</td>\n",
       "      <td>5</td>\n",
       "      <td>0.00</td>\n",
       "      <td>1</td>\n",
       "      <td>1</td>\n",
       "      <td>1</td>\n",
       "      <td>159808.95</td>\n",
       "      <td>0</td>\n",
       "    </tr>\n",
       "    <tr>\n",
       "      <th>8131</th>\n",
       "      <td>8132</td>\n",
       "      <td>15803352</td>\n",
       "      <td>Scott</td>\n",
       "      <td>613</td>\n",
       "      <td>Germany</td>\n",
       "      <td>Male</td>\n",
       "      <td>33</td>\n",
       "      <td>3</td>\n",
       "      <td>155736.42</td>\n",
       "      <td>2</td>\n",
       "      <td>1</td>\n",
       "      <td>1</td>\n",
       "      <td>57751.21</td>\n",
       "      <td>0</td>\n",
       "    </tr>\n",
       "    <tr>\n",
       "      <th>2978</th>\n",
       "      <td>2979</td>\n",
       "      <td>15595917</td>\n",
       "      <td>Mackay</td>\n",
       "      <td>580</td>\n",
       "      <td>France</td>\n",
       "      <td>Female</td>\n",
       "      <td>35</td>\n",
       "      <td>1</td>\n",
       "      <td>102097.33</td>\n",
       "      <td>1</td>\n",
       "      <td>0</td>\n",
       "      <td>1</td>\n",
       "      <td>168285.85</td>\n",
       "      <td>0</td>\n",
       "    </tr>\n",
       "    <tr>\n",
       "      <th>8652</th>\n",
       "      <td>8653</td>\n",
       "      <td>15787204</td>\n",
       "      <td>Howe</td>\n",
       "      <td>774</td>\n",
       "      <td>Spain</td>\n",
       "      <td>Female</td>\n",
       "      <td>43</td>\n",
       "      <td>1</td>\n",
       "      <td>110646.54</td>\n",
       "      <td>1</td>\n",
       "      <td>0</td>\n",
       "      <td>0</td>\n",
       "      <td>108804.28</td>\n",
       "      <td>0</td>\n",
       "    </tr>\n",
       "    <tr>\n",
       "      <th>7186</th>\n",
       "      <td>7187</td>\n",
       "      <td>15565996</td>\n",
       "      <td>Arnold</td>\n",
       "      <td>653</td>\n",
       "      <td>France</td>\n",
       "      <td>Male</td>\n",
       "      <td>44</td>\n",
       "      <td>8</td>\n",
       "      <td>0.00</td>\n",
       "      <td>2</td>\n",
       "      <td>1</td>\n",
       "      <td>1</td>\n",
       "      <td>154639.72</td>\n",
       "      <td>0</td>\n",
       "    </tr>\n",
       "    <tr>\n",
       "      <th>7548</th>\n",
       "      <td>7549</td>\n",
       "      <td>15658504</td>\n",
       "      <td>Chiawuotu</td>\n",
       "      <td>584</td>\n",
       "      <td>Germany</td>\n",
       "      <td>Female</td>\n",
       "      <td>62</td>\n",
       "      <td>9</td>\n",
       "      <td>137727.34</td>\n",
       "      <td>2</td>\n",
       "      <td>0</td>\n",
       "      <td>1</td>\n",
       "      <td>121102.90</td>\n",
       "      <td>0</td>\n",
       "    </tr>\n",
       "    <tr>\n",
       "      <th>2558</th>\n",
       "      <td>2559</td>\n",
       "      <td>15727021</td>\n",
       "      <td>Obialo</td>\n",
       "      <td>727</td>\n",
       "      <td>Germany</td>\n",
       "      <td>Female</td>\n",
       "      <td>30</td>\n",
       "      <td>8</td>\n",
       "      <td>119027.28</td>\n",
       "      <td>2</td>\n",
       "      <td>1</td>\n",
       "      <td>1</td>\n",
       "      <td>137903.54</td>\n",
       "      <td>0</td>\n",
       "    </tr>\n",
       "    <tr>\n",
       "      <th>1625</th>\n",
       "      <td>1626</td>\n",
       "      <td>15630321</td>\n",
       "      <td>Hu</td>\n",
       "      <td>680</td>\n",
       "      <td>France</td>\n",
       "      <td>Male</td>\n",
       "      <td>44</td>\n",
       "      <td>3</td>\n",
       "      <td>0.00</td>\n",
       "      <td>2</td>\n",
       "      <td>1</td>\n",
       "      <td>0</td>\n",
       "      <td>86935.08</td>\n",
       "      <td>0</td>\n",
       "    </tr>\n",
       "    <tr>\n",
       "      <th>4452</th>\n",
       "      <td>4453</td>\n",
       "      <td>15704788</td>\n",
       "      <td>Krawczyk</td>\n",
       "      <td>812</td>\n",
       "      <td>Spain</td>\n",
       "      <td>Female</td>\n",
       "      <td>49</td>\n",
       "      <td>8</td>\n",
       "      <td>66079.45</td>\n",
       "      <td>2</td>\n",
       "      <td>0</td>\n",
       "      <td>0</td>\n",
       "      <td>91556.57</td>\n",
       "      <td>1</td>\n",
       "    </tr>\n",
       "  </tbody>\n",
       "</table>\n",
       "</div>"
      ],
      "text/plain": [
       "      RowNumber  CustomerId    Surname  CreditScore Geography  Gender  Age  \\\n",
       "9537       9538    15780409  Egobudike          783    France    Male   40   \n",
       "1683       1684    15709387   Obiajulu          711    France    Male   52   \n",
       "8131       8132    15803352      Scott          613   Germany    Male   33   \n",
       "2978       2979    15595917     Mackay          580    France  Female   35   \n",
       "8652       8653    15787204       Howe          774     Spain  Female   43   \n",
       "7186       7187    15565996     Arnold          653    France    Male   44   \n",
       "7548       7549    15658504  Chiawuotu          584   Germany  Female   62   \n",
       "2558       2559    15727021     Obialo          727   Germany  Female   30   \n",
       "1625       1626    15630321         Hu          680    France    Male   44   \n",
       "4452       4453    15704788   Krawczyk          812     Spain  Female   49   \n",
       "\n",
       "      Tenure    Balance  NumOfProducts  HasCrCard  IsActiveMember  \\\n",
       "9537       6       0.00              2          1               0   \n",
       "1683       5       0.00              1          1               1   \n",
       "8131       3  155736.42              2          1               1   \n",
       "2978       1  102097.33              1          0               1   \n",
       "8652       1  110646.54              1          0               0   \n",
       "7186       8       0.00              2          1               1   \n",
       "7548       9  137727.34              2          0               1   \n",
       "2558       8  119027.28              2          1               1   \n",
       "1625       3       0.00              2          1               0   \n",
       "4452       8   66079.45              2          0               0   \n",
       "\n",
       "      EstimatedSalary  Exited  \n",
       "9537        109742.55       0  \n",
       "1683        159808.95       0  \n",
       "8131         57751.21       0  \n",
       "2978        168285.85       0  \n",
       "8652        108804.28       0  \n",
       "7186        154639.72       0  \n",
       "7548        121102.90       0  \n",
       "2558        137903.54       0  \n",
       "1625         86935.08       0  \n",
       "4452         91556.57       1  "
      ]
     },
     "execution_count": 181,
     "metadata": {},
     "output_type": "execute_result"
    }
   ],
   "source": [
    "\n",
    "starter_df = pd.read_csv(Path(\"c://users/ajcth/documents/github/bank_churn_project/Resources/BankChurners.csv\"))\n",
    "starter_df.sample(10)"
   ]
  },
  {
   "cell_type": "code",
   "execution_count": 182,
   "metadata": {},
   "outputs": [],
   "source": [
    "#Convert the values of the Gender column from \"M\" or \"F\" to \"0\" or \"1\"\n",
    "starter_df = starter_df.replace({'Gender' : {'Male': 0, 'Female': 1}})\n",
    "#Make HasCrCard a -1 if they don't, so it reflects thats a negative\n",
    "starter_df = starter_df.replace({'HasCrCard' : {1: -1, 0 : 1}})\n",
    "#Make IsActiveMember a -1 if they arent, so it reflects thats a negative\n",
    "starter_df = starter_df.replace({'Exited' : {0: -1}})\n",
    "#Make IsActiveMember a -1 if they arent, so it reflects thats a negative\n",
    "starter_df = starter_df.replace({'IsActiveMember' : {0: -1}})\n",
    "#Drop the useless columns\n",
    "starter_df = starter_df.drop(columns=['RowNumber', 'CustomerId', 'Surname'])\n",
    "#Drop Nan's\n",
    "starter_df.dropna(inplace=True)"
   ]
  },
  {
   "cell_type": "code",
   "execution_count": 183,
   "metadata": {},
   "outputs": [
    {
     "data": {
      "text/html": [
       "<div>\n",
       "<style scoped>\n",
       "    .dataframe tbody tr th:only-of-type {\n",
       "        vertical-align: middle;\n",
       "    }\n",
       "\n",
       "    .dataframe tbody tr th {\n",
       "        vertical-align: top;\n",
       "    }\n",
       "\n",
       "    .dataframe thead th {\n",
       "        text-align: right;\n",
       "    }\n",
       "</style>\n",
       "<table border=\"1\" class=\"dataframe\">\n",
       "  <thead>\n",
       "    <tr style=\"text-align: right;\">\n",
       "      <th></th>\n",
       "      <th>CreditScore</th>\n",
       "      <th>Geography</th>\n",
       "      <th>Gender</th>\n",
       "      <th>Age</th>\n",
       "      <th>Tenure</th>\n",
       "      <th>Balance</th>\n",
       "      <th>NumOfProducts</th>\n",
       "      <th>HasCrCard</th>\n",
       "      <th>IsActiveMember</th>\n",
       "      <th>EstimatedSalary</th>\n",
       "      <th>Exited</th>\n",
       "    </tr>\n",
       "  </thead>\n",
       "  <tbody>\n",
       "    <tr>\n",
       "      <th>5972</th>\n",
       "      <td>548</td>\n",
       "      <td>Germany</td>\n",
       "      <td>0</td>\n",
       "      <td>49</td>\n",
       "      <td>9</td>\n",
       "      <td>108437.89</td>\n",
       "      <td>1</td>\n",
       "      <td>1</td>\n",
       "      <td>-1</td>\n",
       "      <td>127022.87</td>\n",
       "      <td>1</td>\n",
       "    </tr>\n",
       "    <tr>\n",
       "      <th>9482</th>\n",
       "      <td>707</td>\n",
       "      <td>France</td>\n",
       "      <td>0</td>\n",
       "      <td>40</td>\n",
       "      <td>1</td>\n",
       "      <td>0.00</td>\n",
       "      <td>2</td>\n",
       "      <td>-1</td>\n",
       "      <td>-1</td>\n",
       "      <td>14090.40</td>\n",
       "      <td>1</td>\n",
       "    </tr>\n",
       "    <tr>\n",
       "      <th>1886</th>\n",
       "      <td>667</td>\n",
       "      <td>Spain</td>\n",
       "      <td>0</td>\n",
       "      <td>39</td>\n",
       "      <td>7</td>\n",
       "      <td>167557.12</td>\n",
       "      <td>1</td>\n",
       "      <td>-1</td>\n",
       "      <td>1</td>\n",
       "      <td>41183.02</td>\n",
       "      <td>-1</td>\n",
       "    </tr>\n",
       "    <tr>\n",
       "      <th>7403</th>\n",
       "      <td>796</td>\n",
       "      <td>Spain</td>\n",
       "      <td>0</td>\n",
       "      <td>56</td>\n",
       "      <td>6</td>\n",
       "      <td>94231.13</td>\n",
       "      <td>1</td>\n",
       "      <td>1</td>\n",
       "      <td>-1</td>\n",
       "      <td>121164.60</td>\n",
       "      <td>1</td>\n",
       "    </tr>\n",
       "    <tr>\n",
       "      <th>437</th>\n",
       "      <td>516</td>\n",
       "      <td>France</td>\n",
       "      <td>0</td>\n",
       "      <td>35</td>\n",
       "      <td>10</td>\n",
       "      <td>104088.59</td>\n",
       "      <td>2</td>\n",
       "      <td>1</td>\n",
       "      <td>-1</td>\n",
       "      <td>119666.00</td>\n",
       "      <td>-1</td>\n",
       "    </tr>\n",
       "    <tr>\n",
       "      <th>9837</th>\n",
       "      <td>750</td>\n",
       "      <td>France</td>\n",
       "      <td>0</td>\n",
       "      <td>38</td>\n",
       "      <td>5</td>\n",
       "      <td>151532.40</td>\n",
       "      <td>1</td>\n",
       "      <td>-1</td>\n",
       "      <td>1</td>\n",
       "      <td>46555.15</td>\n",
       "      <td>-1</td>\n",
       "    </tr>\n",
       "    <tr>\n",
       "      <th>2130</th>\n",
       "      <td>704</td>\n",
       "      <td>France</td>\n",
       "      <td>1</td>\n",
       "      <td>45</td>\n",
       "      <td>6</td>\n",
       "      <td>0.00</td>\n",
       "      <td>1</td>\n",
       "      <td>-1</td>\n",
       "      <td>1</td>\n",
       "      <td>137739.45</td>\n",
       "      <td>-1</td>\n",
       "    </tr>\n",
       "    <tr>\n",
       "      <th>7182</th>\n",
       "      <td>692</td>\n",
       "      <td>Germany</td>\n",
       "      <td>0</td>\n",
       "      <td>49</td>\n",
       "      <td>6</td>\n",
       "      <td>110540.43</td>\n",
       "      <td>2</td>\n",
       "      <td>1</td>\n",
       "      <td>1</td>\n",
       "      <td>107472.99</td>\n",
       "      <td>-1</td>\n",
       "    </tr>\n",
       "    <tr>\n",
       "      <th>8525</th>\n",
       "      <td>712</td>\n",
       "      <td>France</td>\n",
       "      <td>1</td>\n",
       "      <td>29</td>\n",
       "      <td>8</td>\n",
       "      <td>140170.61</td>\n",
       "      <td>1</td>\n",
       "      <td>-1</td>\n",
       "      <td>1</td>\n",
       "      <td>38170.04</td>\n",
       "      <td>-1</td>\n",
       "    </tr>\n",
       "    <tr>\n",
       "      <th>4510</th>\n",
       "      <td>611</td>\n",
       "      <td>Germany</td>\n",
       "      <td>1</td>\n",
       "      <td>43</td>\n",
       "      <td>9</td>\n",
       "      <td>127216.31</td>\n",
       "      <td>2</td>\n",
       "      <td>1</td>\n",
       "      <td>1</td>\n",
       "      <td>17913.25</td>\n",
       "      <td>-1</td>\n",
       "    </tr>\n",
       "  </tbody>\n",
       "</table>\n",
       "</div>"
      ],
      "text/plain": [
       "      CreditScore Geography  Gender  Age  Tenure    Balance  NumOfProducts  \\\n",
       "5972          548   Germany       0   49       9  108437.89              1   \n",
       "9482          707    France       0   40       1       0.00              2   \n",
       "1886          667     Spain       0   39       7  167557.12              1   \n",
       "7403          796     Spain       0   56       6   94231.13              1   \n",
       "437           516    France       0   35      10  104088.59              2   \n",
       "9837          750    France       0   38       5  151532.40              1   \n",
       "2130          704    France       1   45       6       0.00              1   \n",
       "7182          692   Germany       0   49       6  110540.43              2   \n",
       "8525          712    France       1   29       8  140170.61              1   \n",
       "4510          611   Germany       1   43       9  127216.31              2   \n",
       "\n",
       "      HasCrCard  IsActiveMember  EstimatedSalary  Exited  \n",
       "5972          1              -1        127022.87       1  \n",
       "9482         -1              -1         14090.40       1  \n",
       "1886         -1               1         41183.02      -1  \n",
       "7403          1              -1        121164.60       1  \n",
       "437           1              -1        119666.00      -1  \n",
       "9837         -1               1         46555.15      -1  \n",
       "2130         -1               1        137739.45      -1  \n",
       "7182          1               1        107472.99      -1  \n",
       "8525         -1               1         38170.04      -1  \n",
       "4510          1               1         17913.25      -1  "
      ]
     },
     "execution_count": 183,
     "metadata": {},
     "output_type": "execute_result"
    }
   ],
   "source": [
    "starter_df.sample(10)"
   ]
  },
  {
   "cell_type": "code",
   "execution_count": 184,
   "metadata": {},
   "outputs": [],
   "source": [
    "#Not sure if I should use this, since im doing feature creation next on these two unscaled variables\n",
    "scaler = StandardScaler()\n",
    "starter_df[['ScaledBalance', 'ScaledEstimatedSalary']] = scaler.fit_transform(starter_df[['Balance', 'EstimatedSalary']])"
   ]
  },
  {
   "cell_type": "code",
   "execution_count": 185,
   "metadata": {},
   "outputs": [],
   "source": [
    "#use feature creation to make a ratio between age and tenure\n",
    "starter_df['BalanceSalaryRatio'] = (starter_df['Balance'] / starter_df['EstimatedSalary']).round(2)\n",
    "starter_df.drop(columns=['Balance', 'EstimatedSalary'], inplace=True)"
   ]
  },
  {
   "cell_type": "code",
   "execution_count": 186,
   "metadata": {},
   "outputs": [],
   "source": [
    "# Create a OneHotEncoder instance\n",
    "#enc = OneHotEncoder(sparse=False)\n",
    "\n",
    "# Encode categorcal variables using OneHotEncoder\n",
    "#encoded_data = enc.fit_transform(starter_df[['Geography']])"
   ]
  },
  {
   "cell_type": "code",
   "execution_count": 187,
   "metadata": {},
   "outputs": [],
   "source": [
    "#encoded_df_rough = pd.DataFrame(\n",
    "#encoded_data,\n",
    "#columns = enc.get_feature_names(['Geography']))"
   ]
  },
  {
   "cell_type": "code",
   "execution_count": 188,
   "metadata": {},
   "outputs": [],
   "source": [
    "#use feature creation to make a ratio between age and tenure\n",
    "starter_df['TenureByAge'] = (starter_df['Tenure'] / starter_df['Age']).round(2)\n",
    "starter_df.drop(columns=['Tenure', 'Age'], inplace=True)"
   ]
  },
  {
   "cell_type": "code",
   "execution_count": null,
   "metadata": {},
   "outputs": [],
   "source": []
  },
  {
   "cell_type": "code",
   "execution_count": 189,
   "metadata": {},
   "outputs": [],
   "source": [
    "#Remove geography. We are just doing France.\n",
    "starter_df = starter_df[starter_df.Geography != 'Spain']\n",
    "starter_df = starter_df[starter_df.Geography != 'Germany']\n",
    "starter_df.drop(columns=['Geography'], inplace=True)"
   ]
  },
  {
   "cell_type": "code",
   "execution_count": 190,
   "metadata": {},
   "outputs": [
    {
     "data": {
      "text/plain": [
       "'\\nencoded_df = pd.concat(\\n    [\\n        encoded_df_rough,\\n        starter_df\\n    ],\\n    axis=1\\n)\\nencoded_df.sample(10)\\n'"
      ]
     },
     "execution_count": 190,
     "metadata": {},
     "output_type": "execute_result"
    }
   ],
   "source": [
    "\"\"\"\n",
    "encoded_df = pd.concat(\n",
    "    [\n",
    "        encoded_df_rough,\n",
    "        starter_df\n",
    "    ],\n",
    "    axis=1\n",
    ")\n",
    "encoded_df.sample(10)\n",
    "\"\"\""
   ]
  },
  {
   "cell_type": "code",
   "execution_count": 191,
   "metadata": {},
   "outputs": [],
   "source": [
    "X = starter_df.drop(columns= 'Exited')"
   ]
  },
  {
   "cell_type": "code",
   "execution_count": 192,
   "metadata": {},
   "outputs": [],
   "source": [
    "y = starter_df['Exited']"
   ]
  },
  {
   "cell_type": "code",
   "execution_count": 193,
   "metadata": {},
   "outputs": [],
   "source": [
    "X_train, X_test, y_train, y_test = train_test_split(X, y, random_state=1)"
   ]
  },
  {
   "cell_type": "code",
   "execution_count": 194,
   "metadata": {},
   "outputs": [
    {
     "data": {
      "text/plain": [
       "-1    4204\n",
       " 1     810\n",
       "Name: Exited, dtype: int64"
      ]
     },
     "execution_count": 194,
     "metadata": {},
     "output_type": "execute_result"
    }
   ],
   "source": [
    "starter_df['Exited'].value_counts()"
   ]
  },
  {
   "cell_type": "code",
   "execution_count": 195,
   "metadata": {},
   "outputs": [],
   "source": [
    "#Use SMOTE to add synthetic data and balance our target feature value count\n",
    "oversample = SMOTE()\n",
    "X_train, y_train = oversample.fit_resample(X_train, y_train)"
   ]
  },
  {
   "cell_type": "code",
   "execution_count": 196,
   "metadata": {},
   "outputs": [],
   "source": [
    "scaler = StandardScaler()\n",
    "X_scaler = scaler.fit(X_train)\n",
    "X_train_scaled = X_scaler.transform(X_train)\n",
    "X_test_scaled = X_scaler.transform(X_test)"
   ]
  },
  {
   "cell_type": "code",
   "execution_count": 197,
   "metadata": {},
   "outputs": [],
   "source": [
    "#Choose a model\n",
    "#clf = SVC()\n",
    "#clf = LogisticRegression()\n",
    "clf = RandomForestClassifier(n_estimators= 2000)"
   ]
  },
  {
   "cell_type": "code",
   "execution_count": 198,
   "metadata": {},
   "outputs": [
    {
     "data": {
      "text/plain": [
       "RandomForestClassifier(n_estimators=2000)"
      ]
     },
     "execution_count": 198,
     "metadata": {},
     "output_type": "execute_result"
    }
   ],
   "source": [
    "#Fit the model on the training data\n",
    "clf.fit(X_train, y_train)"
   ]
  },
  {
   "cell_type": "code",
   "execution_count": 199,
   "metadata": {},
   "outputs": [],
   "source": [
    "#Make predictions on the test data\n",
    "test_predictions = clf.predict(X_test)"
   ]
  },
  {
   "cell_type": "code",
   "execution_count": 200,
   "metadata": {},
   "outputs": [
    {
     "name": "stdout",
     "output_type": "stream",
     "text": [
      "Accuracy: 79.82%\n"
     ]
    }
   ],
   "source": [
    "accuracy = accuracy_score(test_predictions, y_test)\n",
    "print(\"Accuracy: {:.2f}%\".format(accuracy * 100))"
   ]
  },
  {
   "cell_type": "code",
   "execution_count": 201,
   "metadata": {},
   "outputs": [
    {
     "data": {
      "text/html": [
       "<div>\n",
       "<style scoped>\n",
       "    .dataframe tbody tr th:only-of-type {\n",
       "        vertical-align: middle;\n",
       "    }\n",
       "\n",
       "    .dataframe tbody tr th {\n",
       "        vertical-align: top;\n",
       "    }\n",
       "\n",
       "    .dataframe thead th {\n",
       "        text-align: right;\n",
       "    }\n",
       "</style>\n",
       "<table border=\"1\" class=\"dataframe\">\n",
       "  <thead>\n",
       "    <tr style=\"text-align: right;\">\n",
       "      <th></th>\n",
       "      <th>Testing Data Predictions</th>\n",
       "      <th>Testing Data Actual Targets</th>\n",
       "    </tr>\n",
       "  </thead>\n",
       "  <tbody>\n",
       "    <tr>\n",
       "      <th>9972</th>\n",
       "      <td>1</td>\n",
       "      <td>-1</td>\n",
       "    </tr>\n",
       "    <tr>\n",
       "      <th>9977</th>\n",
       "      <td>-1</td>\n",
       "      <td>-1</td>\n",
       "    </tr>\n",
       "    <tr>\n",
       "      <th>9983</th>\n",
       "      <td>-1</td>\n",
       "      <td>-1</td>\n",
       "    </tr>\n",
       "    <tr>\n",
       "      <th>9985</th>\n",
       "      <td>1</td>\n",
       "      <td>-1</td>\n",
       "    </tr>\n",
       "    <tr>\n",
       "      <th>9996</th>\n",
       "      <td>-1</td>\n",
       "      <td>-1</td>\n",
       "    </tr>\n",
       "  </tbody>\n",
       "</table>\n",
       "</div>"
      ],
      "text/plain": [
       "      Testing Data Predictions  Testing Data Actual Targets\n",
       "9972                         1                           -1\n",
       "9977                        -1                           -1\n",
       "9983                        -1                           -1\n",
       "9985                         1                           -1\n",
       "9996                        -1                           -1"
      ]
     },
     "execution_count": 201,
     "metadata": {},
     "output_type": "execute_result"
    }
   ],
   "source": [
    "#Create a dataframe showing predictions vs test\n",
    "comparison = pd.DataFrame({\"Testing Data Predictions\": test_predictions,\n",
    "    \"Testing Data Actual Targets\": y_test})\n",
    "comparison = comparison.sort_index(ascending=True)\n",
    "comparison.tail(5)"
   ]
  },
  {
   "cell_type": "code",
   "execution_count": 202,
   "metadata": {},
   "outputs": [
    {
     "name": "stdout",
     "output_type": "stream",
     "text": [
      "[[921 125]\n",
      " [128  80]]\n"
     ]
    }
   ],
   "source": [
    "#Generate a test matrix\n",
    "test_matrix = confusion_matrix(y_test, test_predictions)\n",
    "print(test_matrix)"
   ]
  },
  {
   "cell_type": "code",
   "execution_count": 203,
   "metadata": {},
   "outputs": [
    {
     "name": "stdout",
     "output_type": "stream",
     "text": [
      "              precision    recall  f1-score   support\n",
      "\n",
      "          -1       0.88      0.88      0.88      1046\n",
      "           1       0.39      0.38      0.39       208\n",
      "\n",
      "    accuracy                           0.80      1254\n",
      "   macro avg       0.63      0.63      0.63      1254\n",
      "weighted avg       0.80      0.80      0.80      1254\n",
      "\n"
     ]
    }
   ],
   "source": [
    "# Create a testing classifiction report\n",
    "testing_report = classification_report(y_test, test_predictions)\n",
    "\n",
    "# Print the testing classification report\n",
    "print(testing_report)"
   ]
  },
  {
   "cell_type": "code",
   "execution_count": null,
   "metadata": {},
   "outputs": [],
   "source": []
  }
 ],
 "metadata": {
  "kernelspec": {
   "display_name": "dev",
   "language": "python",
   "name": "python3"
  },
  "language_info": {
   "codemirror_mode": {
    "name": "ipython",
    "version": 3
   },
   "file_extension": ".py",
   "mimetype": "text/x-python",
   "name": "python",
   "nbconvert_exporter": "python",
   "pygments_lexer": "ipython3",
   "version": "3.7.13"
  },
  "orig_nbformat": 4,
  "vscode": {
   "interpreter": {
    "hash": "28515e2b63b40114f6e8c1f789cf21b6d4b349a50273d5a1dcb37706cefab85d"
   }
  }
 },
 "nbformat": 4,
 "nbformat_minor": 2
}
