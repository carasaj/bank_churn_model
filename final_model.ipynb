{
 "cells": [
  {
   "attachments": {},
   "cell_type": "markdown",
   "metadata": {},
   "source": [
    "### Import Statements\n",
    "The libraries used are `pandas`, `pathlib`, `imblearn`, and `sklearn`. "
   ]
  },
  {
   "cell_type": "code",
   "execution_count": 1,
   "metadata": {},
   "outputs": [],
   "source": [
    "import pandas as pd\n",
    "from pathlib import Path\n",
    "from imblearn.metrics import classification_report_imbalanced\n",
    "from imblearn.over_sampling import SMOTE\n",
    "from sklearn.metrics import accuracy_score\n",
    "from sklearn.metrics import classification_report\n",
    "from sklearn.metrics import confusion_matrix\n",
    "from sklearn.preprocessing import StandardScaler\n",
    "from sklearn.preprocessing import OneHotEncoder\n",
    "from sklearn.compose import ColumnTransformer\n",
    "from sklearn.model_selection import train_test_split\n",
    "from sklearn.ensemble import GradientBoostingClassifier\n",
    "from sklearn.model_selection import GridSearchCV\n"
   ]
  },
  {
   "attachments": {},
   "cell_type": "markdown",
   "metadata": {},
   "source": [
    "### Import the data and create a dataframe\n",
    "1. Use `pandas` and `pathlib` to read the `BankChurnersPrimary.csv` CSV from the `Resources` folder.\n",
    "2. Sample the dataset to review the data."
   ]
  },
  {
   "cell_type": "code",
   "execution_count": 2,
   "metadata": {},
   "outputs": [
    {
     "data": {
      "text/html": [
       "<div>\n",
       "<style scoped>\n",
       "    .dataframe tbody tr th:only-of-type {\n",
       "        vertical-align: middle;\n",
       "    }\n",
       "\n",
       "    .dataframe tbody tr th {\n",
       "        vertical-align: top;\n",
       "    }\n",
       "\n",
       "    .dataframe thead th {\n",
       "        text-align: right;\n",
       "    }\n",
       "</style>\n",
       "<table border=\"1\" class=\"dataframe\">\n",
       "  <thead>\n",
       "    <tr style=\"text-align: right;\">\n",
       "      <th></th>\n",
       "      <th>CLIENTNUM</th>\n",
       "      <th>Attrition_Flag</th>\n",
       "      <th>Customer_Age</th>\n",
       "      <th>Gender</th>\n",
       "      <th>Dependent_count</th>\n",
       "      <th>Education_Level</th>\n",
       "      <th>Marital_Status</th>\n",
       "      <th>Income_Category</th>\n",
       "      <th>Card_Category</th>\n",
       "      <th>Months_on_book</th>\n",
       "      <th>...</th>\n",
       "      <th>Credit_Limit</th>\n",
       "      <th>Total_Revolving_Bal</th>\n",
       "      <th>Avg_Open_To_Buy</th>\n",
       "      <th>Total_Amt_Chng_Q4_Q1</th>\n",
       "      <th>Total_Trans_Amt</th>\n",
       "      <th>Total_Trans_Ct</th>\n",
       "      <th>Total_Ct_Chng_Q4_Q1</th>\n",
       "      <th>Avg_Utilization_Ratio</th>\n",
       "      <th>Naive_Bayes_Classifier_Attrition_Flag_Card_Category_Contacts_Count_12_mon_Dependent_count_Education_Level_Months_Inactive_12_mon_1</th>\n",
       "      <th>Naive_Bayes_Classifier_Attrition_Flag_Card_Category_Contacts_Count_12_mon_Dependent_count_Education_Level_Months_Inactive_12_mon_2</th>\n",
       "    </tr>\n",
       "  </thead>\n",
       "  <tbody>\n",
       "    <tr>\n",
       "      <th>4055</th>\n",
       "      <td>718602708</td>\n",
       "      <td>Existing Customer</td>\n",
       "      <td>43</td>\n",
       "      <td>M</td>\n",
       "      <td>3</td>\n",
       "      <td>Graduate</td>\n",
       "      <td>Single</td>\n",
       "      <td>$80K - $120K</td>\n",
       "      <td>Blue</td>\n",
       "      <td>33</td>\n",
       "      <td>...</td>\n",
       "      <td>16351.0</td>\n",
       "      <td>1541</td>\n",
       "      <td>14810.0</td>\n",
       "      <td>0.763</td>\n",
       "      <td>3475</td>\n",
       "      <td>82</td>\n",
       "      <td>0.673</td>\n",
       "      <td>0.094</td>\n",
       "      <td>0.000187</td>\n",
       "      <td>0.999810</td>\n",
       "    </tr>\n",
       "    <tr>\n",
       "      <th>4795</th>\n",
       "      <td>711646908</td>\n",
       "      <td>Attrited Customer</td>\n",
       "      <td>39</td>\n",
       "      <td>M</td>\n",
       "      <td>3</td>\n",
       "      <td>Unknown</td>\n",
       "      <td>Single</td>\n",
       "      <td>$60K - $80K</td>\n",
       "      <td>Blue</td>\n",
       "      <td>23</td>\n",
       "      <td>...</td>\n",
       "      <td>7821.0</td>\n",
       "      <td>2517</td>\n",
       "      <td>5304.0</td>\n",
       "      <td>0.408</td>\n",
       "      <td>2010</td>\n",
       "      <td>43</td>\n",
       "      <td>0.344</td>\n",
       "      <td>0.322</td>\n",
       "      <td>0.995440</td>\n",
       "      <td>0.004558</td>\n",
       "    </tr>\n",
       "    <tr>\n",
       "      <th>1595</th>\n",
       "      <td>769751958</td>\n",
       "      <td>Existing Customer</td>\n",
       "      <td>55</td>\n",
       "      <td>M</td>\n",
       "      <td>3</td>\n",
       "      <td>Unknown</td>\n",
       "      <td>Married</td>\n",
       "      <td>$120K +</td>\n",
       "      <td>Blue</td>\n",
       "      <td>49</td>\n",
       "      <td>...</td>\n",
       "      <td>9926.0</td>\n",
       "      <td>2018</td>\n",
       "      <td>7908.0</td>\n",
       "      <td>0.618</td>\n",
       "      <td>2235</td>\n",
       "      <td>57</td>\n",
       "      <td>0.357</td>\n",
       "      <td>0.203</td>\n",
       "      <td>0.000372</td>\n",
       "      <td>0.999630</td>\n",
       "    </tr>\n",
       "    <tr>\n",
       "      <th>8575</th>\n",
       "      <td>779141658</td>\n",
       "      <td>Existing Customer</td>\n",
       "      <td>48</td>\n",
       "      <td>M</td>\n",
       "      <td>4</td>\n",
       "      <td>Graduate</td>\n",
       "      <td>Married</td>\n",
       "      <td>$80K - $120K</td>\n",
       "      <td>Blue</td>\n",
       "      <td>33</td>\n",
       "      <td>...</td>\n",
       "      <td>4963.0</td>\n",
       "      <td>2115</td>\n",
       "      <td>2848.0</td>\n",
       "      <td>0.767</td>\n",
       "      <td>4989</td>\n",
       "      <td>78</td>\n",
       "      <td>0.696</td>\n",
       "      <td>0.426</td>\n",
       "      <td>0.000189</td>\n",
       "      <td>0.999810</td>\n",
       "    </tr>\n",
       "    <tr>\n",
       "      <th>2826</th>\n",
       "      <td>787460883</td>\n",
       "      <td>Attrited Customer</td>\n",
       "      <td>41</td>\n",
       "      <td>M</td>\n",
       "      <td>3</td>\n",
       "      <td>Uneducated</td>\n",
       "      <td>Married</td>\n",
       "      <td>$40K - $60K</td>\n",
       "      <td>Blue</td>\n",
       "      <td>28</td>\n",
       "      <td>...</td>\n",
       "      <td>11091.0</td>\n",
       "      <td>0</td>\n",
       "      <td>11091.0</td>\n",
       "      <td>0.522</td>\n",
       "      <td>1234</td>\n",
       "      <td>34</td>\n",
       "      <td>0.308</td>\n",
       "      <td>0.000</td>\n",
       "      <td>0.998190</td>\n",
       "      <td>0.001812</td>\n",
       "    </tr>\n",
       "  </tbody>\n",
       "</table>\n",
       "<p>5 rows × 23 columns</p>\n",
       "</div>"
      ],
      "text/plain": [
       "      CLIENTNUM     Attrition_Flag  Customer_Age Gender  Dependent_count  \\\n",
       "4055  718602708  Existing Customer            43      M                3   \n",
       "4795  711646908  Attrited Customer            39      M                3   \n",
       "1595  769751958  Existing Customer            55      M                3   \n",
       "8575  779141658  Existing Customer            48      M                4   \n",
       "2826  787460883  Attrited Customer            41      M                3   \n",
       "\n",
       "     Education_Level Marital_Status Income_Category Card_Category  \\\n",
       "4055        Graduate         Single    $80K - $120K          Blue   \n",
       "4795         Unknown         Single     $60K - $80K          Blue   \n",
       "1595         Unknown        Married         $120K +          Blue   \n",
       "8575        Graduate        Married    $80K - $120K          Blue   \n",
       "2826      Uneducated        Married     $40K - $60K          Blue   \n",
       "\n",
       "      Months_on_book  ...  Credit_Limit  Total_Revolving_Bal  Avg_Open_To_Buy  \\\n",
       "4055              33  ...       16351.0                 1541          14810.0   \n",
       "4795              23  ...        7821.0                 2517           5304.0   \n",
       "1595              49  ...        9926.0                 2018           7908.0   \n",
       "8575              33  ...        4963.0                 2115           2848.0   \n",
       "2826              28  ...       11091.0                    0          11091.0   \n",
       "\n",
       "      Total_Amt_Chng_Q4_Q1  Total_Trans_Amt  Total_Trans_Ct  \\\n",
       "4055                 0.763             3475              82   \n",
       "4795                 0.408             2010              43   \n",
       "1595                 0.618             2235              57   \n",
       "8575                 0.767             4989              78   \n",
       "2826                 0.522             1234              34   \n",
       "\n",
       "      Total_Ct_Chng_Q4_Q1  Avg_Utilization_Ratio  \\\n",
       "4055                0.673                  0.094   \n",
       "4795                0.344                  0.322   \n",
       "1595                0.357                  0.203   \n",
       "8575                0.696                  0.426   \n",
       "2826                0.308                  0.000   \n",
       "\n",
       "      Naive_Bayes_Classifier_Attrition_Flag_Card_Category_Contacts_Count_12_mon_Dependent_count_Education_Level_Months_Inactive_12_mon_1  \\\n",
       "4055                                           0.000187                                                                                    \n",
       "4795                                           0.995440                                                                                    \n",
       "1595                                           0.000372                                                                                    \n",
       "8575                                           0.000189                                                                                    \n",
       "2826                                           0.998190                                                                                    \n",
       "\n",
       "      Naive_Bayes_Classifier_Attrition_Flag_Card_Category_Contacts_Count_12_mon_Dependent_count_Education_Level_Months_Inactive_12_mon_2  \n",
       "4055                                           0.999810                                                                                   \n",
       "4795                                           0.004558                                                                                   \n",
       "1595                                           0.999630                                                                                   \n",
       "8575                                           0.999810                                                                                   \n",
       "2826                                           0.001812                                                                                   \n",
       "\n",
       "[5 rows x 23 columns]"
      ]
     },
     "execution_count": 2,
     "metadata": {},
     "output_type": "execute_result"
    }
   ],
   "source": [
    "starter_df = pd.read_csv(Path(\"c://users/ajcth/documents/github/bank_churn_model/Resources/BankChurnersPrimary.csv\"))\n",
    "starter_df.sample(5)"
   ]
  },
  {
   "attachments": {},
   "cell_type": "markdown",
   "metadata": {},
   "source": [
    "### Remove any columns that won't be used.\n",
    "Naive Bayes columns can't be used (it's calculated from features and target).\n",
    "Education_Level, Marital_Status, and Income_Category have many Nan/Unknown values. Drop to preserve sample size.\n",
    "CLIENTNUM is irrelevant."
   ]
  },
  {
   "cell_type": "code",
   "execution_count": 3,
   "metadata": {},
   "outputs": [],
   "source": [
    "starter_df.drop(columns=[\n",
    "'Naive_Bayes_Classifier_Attrition_Flag_Card_Category_Contacts_Count_12_mon_Dependent_count_Education_Level_Months_Inactive_12_mon_2', \n",
    "'Naive_Bayes_Classifier_Attrition_Flag_Card_Category_Contacts_Count_12_mon_Dependent_count_Education_Level_Months_Inactive_12_mon_1',\n",
    "'CLIENTNUM',\n",
    "'Education_Level', \n",
    "'Marital_Status', \n",
    "'Income_Category'\n",
    "], \n",
    "inplace= True)"
   ]
  },
  {
   "attachments": {},
   "cell_type": "markdown",
   "metadata": {},
   "source": [
    "### Evaluate the Card Type column for use as a feature\n",
    "The Card Type data is processed with OneHotEncoder."
   ]
  },
  {
   "cell_type": "code",
   "execution_count": 4,
   "metadata": {},
   "outputs": [
    {
     "name": "stderr",
     "output_type": "stream",
     "text": [
      "c:\\python_files\\Anaconda3\\envs\\dev\\lib\\site-packages\\sklearn\\utils\\deprecation.py:87: FutureWarning: Function get_feature_names is deprecated; get_feature_names is deprecated in 1.0 and will be removed in 1.2. Please use get_feature_names_out instead.\n",
      "  warnings.warn(msg, category=FutureWarning)\n"
     ]
    },
    {
     "data": {
      "text/html": [
       "<div>\n",
       "<style scoped>\n",
       "    .dataframe tbody tr th:only-of-type {\n",
       "        vertical-align: middle;\n",
       "    }\n",
       "\n",
       "    .dataframe tbody tr th {\n",
       "        vertical-align: top;\n",
       "    }\n",
       "\n",
       "    .dataframe thead th {\n",
       "        text-align: right;\n",
       "    }\n",
       "</style>\n",
       "<table border=\"1\" class=\"dataframe\">\n",
       "  <thead>\n",
       "    <tr style=\"text-align: right;\">\n",
       "      <th></th>\n",
       "      <th>Attrition_Flag</th>\n",
       "      <th>Customer_Age</th>\n",
       "      <th>Gender</th>\n",
       "      <th>Dependent_count</th>\n",
       "      <th>Months_on_book</th>\n",
       "      <th>Total_Relationship_Count</th>\n",
       "      <th>Months_Inactive_12_mon</th>\n",
       "      <th>Contacts_Count_12_mon</th>\n",
       "      <th>Credit_Limit</th>\n",
       "      <th>Total_Revolving_Bal</th>\n",
       "      <th>Avg_Open_To_Buy</th>\n",
       "      <th>Total_Amt_Chng_Q4_Q1</th>\n",
       "      <th>Total_Trans_Amt</th>\n",
       "      <th>Total_Trans_Ct</th>\n",
       "      <th>Total_Ct_Chng_Q4_Q1</th>\n",
       "      <th>Avg_Utilization_Ratio</th>\n",
       "      <th>Card_Category_Blue</th>\n",
       "      <th>Card_Category_Gold</th>\n",
       "      <th>Card_Category_Platinum</th>\n",
       "      <th>Card_Category_Silver</th>\n",
       "    </tr>\n",
       "  </thead>\n",
       "  <tbody>\n",
       "    <tr>\n",
       "      <th>2056</th>\n",
       "      <td>Existing Customer</td>\n",
       "      <td>54</td>\n",
       "      <td>F</td>\n",
       "      <td>0</td>\n",
       "      <td>36</td>\n",
       "      <td>4</td>\n",
       "      <td>3</td>\n",
       "      <td>1</td>\n",
       "      <td>12547.0</td>\n",
       "      <td>1378</td>\n",
       "      <td>11169.0</td>\n",
       "      <td>1.120</td>\n",
       "      <td>3360</td>\n",
       "      <td>56</td>\n",
       "      <td>0.750</td>\n",
       "      <td>0.110</td>\n",
       "      <td>0.0</td>\n",
       "      <td>0.0</td>\n",
       "      <td>0.0</td>\n",
       "      <td>1.0</td>\n",
       "    </tr>\n",
       "    <tr>\n",
       "      <th>3548</th>\n",
       "      <td>Existing Customer</td>\n",
       "      <td>36</td>\n",
       "      <td>M</td>\n",
       "      <td>4</td>\n",
       "      <td>36</td>\n",
       "      <td>5</td>\n",
       "      <td>3</td>\n",
       "      <td>3</td>\n",
       "      <td>28200.0</td>\n",
       "      <td>765</td>\n",
       "      <td>27435.0</td>\n",
       "      <td>0.680</td>\n",
       "      <td>2507</td>\n",
       "      <td>64</td>\n",
       "      <td>0.641</td>\n",
       "      <td>0.027</td>\n",
       "      <td>1.0</td>\n",
       "      <td>0.0</td>\n",
       "      <td>0.0</td>\n",
       "      <td>0.0</td>\n",
       "    </tr>\n",
       "    <tr>\n",
       "      <th>7964</th>\n",
       "      <td>Existing Customer</td>\n",
       "      <td>45</td>\n",
       "      <td>F</td>\n",
       "      <td>3</td>\n",
       "      <td>34</td>\n",
       "      <td>1</td>\n",
       "      <td>2</td>\n",
       "      <td>1</td>\n",
       "      <td>1811.0</td>\n",
       "      <td>787</td>\n",
       "      <td>1024.0</td>\n",
       "      <td>0.585</td>\n",
       "      <td>4882</td>\n",
       "      <td>80</td>\n",
       "      <td>1.162</td>\n",
       "      <td>0.435</td>\n",
       "      <td>1.0</td>\n",
       "      <td>0.0</td>\n",
       "      <td>0.0</td>\n",
       "      <td>0.0</td>\n",
       "    </tr>\n",
       "    <tr>\n",
       "      <th>683</th>\n",
       "      <td>Existing Customer</td>\n",
       "      <td>46</td>\n",
       "      <td>F</td>\n",
       "      <td>2</td>\n",
       "      <td>35</td>\n",
       "      <td>6</td>\n",
       "      <td>4</td>\n",
       "      <td>3</td>\n",
       "      <td>4675.0</td>\n",
       "      <td>1734</td>\n",
       "      <td>2941.0</td>\n",
       "      <td>0.413</td>\n",
       "      <td>1232</td>\n",
       "      <td>34</td>\n",
       "      <td>0.545</td>\n",
       "      <td>0.371</td>\n",
       "      <td>1.0</td>\n",
       "      <td>0.0</td>\n",
       "      <td>0.0</td>\n",
       "      <td>0.0</td>\n",
       "    </tr>\n",
       "    <tr>\n",
       "      <th>5499</th>\n",
       "      <td>Existing Customer</td>\n",
       "      <td>43</td>\n",
       "      <td>F</td>\n",
       "      <td>4</td>\n",
       "      <td>36</td>\n",
       "      <td>3</td>\n",
       "      <td>3</td>\n",
       "      <td>2</td>\n",
       "      <td>4902.0</td>\n",
       "      <td>2517</td>\n",
       "      <td>2385.0</td>\n",
       "      <td>0.982</td>\n",
       "      <td>4508</td>\n",
       "      <td>69</td>\n",
       "      <td>0.643</td>\n",
       "      <td>0.513</td>\n",
       "      <td>1.0</td>\n",
       "      <td>0.0</td>\n",
       "      <td>0.0</td>\n",
       "      <td>0.0</td>\n",
       "    </tr>\n",
       "    <tr>\n",
       "      <th>7136</th>\n",
       "      <td>Existing Customer</td>\n",
       "      <td>53</td>\n",
       "      <td>F</td>\n",
       "      <td>2</td>\n",
       "      <td>36</td>\n",
       "      <td>3</td>\n",
       "      <td>4</td>\n",
       "      <td>3</td>\n",
       "      <td>2592.0</td>\n",
       "      <td>1364</td>\n",
       "      <td>1228.0</td>\n",
       "      <td>0.679</td>\n",
       "      <td>4208</td>\n",
       "      <td>68</td>\n",
       "      <td>0.700</td>\n",
       "      <td>0.526</td>\n",
       "      <td>1.0</td>\n",
       "      <td>0.0</td>\n",
       "      <td>0.0</td>\n",
       "      <td>0.0</td>\n",
       "    </tr>\n",
       "    <tr>\n",
       "      <th>821</th>\n",
       "      <td>Existing Customer</td>\n",
       "      <td>37</td>\n",
       "      <td>F</td>\n",
       "      <td>4</td>\n",
       "      <td>36</td>\n",
       "      <td>5</td>\n",
       "      <td>3</td>\n",
       "      <td>1</td>\n",
       "      <td>3093.0</td>\n",
       "      <td>2517</td>\n",
       "      <td>576.0</td>\n",
       "      <td>0.855</td>\n",
       "      <td>1371</td>\n",
       "      <td>23</td>\n",
       "      <td>0.917</td>\n",
       "      <td>0.814</td>\n",
       "      <td>1.0</td>\n",
       "      <td>0.0</td>\n",
       "      <td>0.0</td>\n",
       "      <td>0.0</td>\n",
       "    </tr>\n",
       "    <tr>\n",
       "      <th>9727</th>\n",
       "      <td>Existing Customer</td>\n",
       "      <td>37</td>\n",
       "      <td>M</td>\n",
       "      <td>1</td>\n",
       "      <td>17</td>\n",
       "      <td>1</td>\n",
       "      <td>1</td>\n",
       "      <td>3</td>\n",
       "      <td>34516.0</td>\n",
       "      <td>0</td>\n",
       "      <td>34516.0</td>\n",
       "      <td>0.776</td>\n",
       "      <td>14127</td>\n",
       "      <td>116</td>\n",
       "      <td>0.731</td>\n",
       "      <td>0.000</td>\n",
       "      <td>1.0</td>\n",
       "      <td>0.0</td>\n",
       "      <td>0.0</td>\n",
       "      <td>0.0</td>\n",
       "    </tr>\n",
       "    <tr>\n",
       "      <th>5969</th>\n",
       "      <td>Existing Customer</td>\n",
       "      <td>51</td>\n",
       "      <td>F</td>\n",
       "      <td>3</td>\n",
       "      <td>45</td>\n",
       "      <td>5</td>\n",
       "      <td>2</td>\n",
       "      <td>3</td>\n",
       "      <td>9117.0</td>\n",
       "      <td>1259</td>\n",
       "      <td>7858.0</td>\n",
       "      <td>0.880</td>\n",
       "      <td>3837</td>\n",
       "      <td>75</td>\n",
       "      <td>0.705</td>\n",
       "      <td>0.138</td>\n",
       "      <td>1.0</td>\n",
       "      <td>0.0</td>\n",
       "      <td>0.0</td>\n",
       "      <td>0.0</td>\n",
       "    </tr>\n",
       "    <tr>\n",
       "      <th>5536</th>\n",
       "      <td>Existing Customer</td>\n",
       "      <td>47</td>\n",
       "      <td>F</td>\n",
       "      <td>3</td>\n",
       "      <td>34</td>\n",
       "      <td>4</td>\n",
       "      <td>1</td>\n",
       "      <td>3</td>\n",
       "      <td>1963.0</td>\n",
       "      <td>1524</td>\n",
       "      <td>439.0</td>\n",
       "      <td>0.879</td>\n",
       "      <td>3492</td>\n",
       "      <td>59</td>\n",
       "      <td>1.034</td>\n",
       "      <td>0.776</td>\n",
       "      <td>1.0</td>\n",
       "      <td>0.0</td>\n",
       "      <td>0.0</td>\n",
       "      <td>0.0</td>\n",
       "    </tr>\n",
       "  </tbody>\n",
       "</table>\n",
       "</div>"
      ],
      "text/plain": [
       "         Attrition_Flag  Customer_Age Gender  Dependent_count  Months_on_book  \\\n",
       "2056  Existing Customer            54      F                0              36   \n",
       "3548  Existing Customer            36      M                4              36   \n",
       "7964  Existing Customer            45      F                3              34   \n",
       "683   Existing Customer            46      F                2              35   \n",
       "5499  Existing Customer            43      F                4              36   \n",
       "7136  Existing Customer            53      F                2              36   \n",
       "821   Existing Customer            37      F                4              36   \n",
       "9727  Existing Customer            37      M                1              17   \n",
       "5969  Existing Customer            51      F                3              45   \n",
       "5536  Existing Customer            47      F                3              34   \n",
       "\n",
       "      Total_Relationship_Count  Months_Inactive_12_mon  Contacts_Count_12_mon  \\\n",
       "2056                         4                       3                      1   \n",
       "3548                         5                       3                      3   \n",
       "7964                         1                       2                      1   \n",
       "683                          6                       4                      3   \n",
       "5499                         3                       3                      2   \n",
       "7136                         3                       4                      3   \n",
       "821                          5                       3                      1   \n",
       "9727                         1                       1                      3   \n",
       "5969                         5                       2                      3   \n",
       "5536                         4                       1                      3   \n",
       "\n",
       "      Credit_Limit  Total_Revolving_Bal  Avg_Open_To_Buy  \\\n",
       "2056       12547.0                 1378          11169.0   \n",
       "3548       28200.0                  765          27435.0   \n",
       "7964        1811.0                  787           1024.0   \n",
       "683         4675.0                 1734           2941.0   \n",
       "5499        4902.0                 2517           2385.0   \n",
       "7136        2592.0                 1364           1228.0   \n",
       "821         3093.0                 2517            576.0   \n",
       "9727       34516.0                    0          34516.0   \n",
       "5969        9117.0                 1259           7858.0   \n",
       "5536        1963.0                 1524            439.0   \n",
       "\n",
       "      Total_Amt_Chng_Q4_Q1  Total_Trans_Amt  Total_Trans_Ct  \\\n",
       "2056                 1.120             3360              56   \n",
       "3548                 0.680             2507              64   \n",
       "7964                 0.585             4882              80   \n",
       "683                  0.413             1232              34   \n",
       "5499                 0.982             4508              69   \n",
       "7136                 0.679             4208              68   \n",
       "821                  0.855             1371              23   \n",
       "9727                 0.776            14127             116   \n",
       "5969                 0.880             3837              75   \n",
       "5536                 0.879             3492              59   \n",
       "\n",
       "      Total_Ct_Chng_Q4_Q1  Avg_Utilization_Ratio  Card_Category_Blue  \\\n",
       "2056                0.750                  0.110                 0.0   \n",
       "3548                0.641                  0.027                 1.0   \n",
       "7964                1.162                  0.435                 1.0   \n",
       "683                 0.545                  0.371                 1.0   \n",
       "5499                0.643                  0.513                 1.0   \n",
       "7136                0.700                  0.526                 1.0   \n",
       "821                 0.917                  0.814                 1.0   \n",
       "9727                0.731                  0.000                 1.0   \n",
       "5969                0.705                  0.138                 1.0   \n",
       "5536                1.034                  0.776                 1.0   \n",
       "\n",
       "      Card_Category_Gold  Card_Category_Platinum  Card_Category_Silver  \n",
       "2056                 0.0                     0.0                   1.0  \n",
       "3548                 0.0                     0.0                   0.0  \n",
       "7964                 0.0                     0.0                   0.0  \n",
       "683                  0.0                     0.0                   0.0  \n",
       "5499                 0.0                     0.0                   0.0  \n",
       "7136                 0.0                     0.0                   0.0  \n",
       "821                  0.0                     0.0                   0.0  \n",
       "9727                 0.0                     0.0                   0.0  \n",
       "5969                 0.0                     0.0                   0.0  \n",
       "5536                 0.0                     0.0                   0.0  "
      ]
     },
     "execution_count": 4,
     "metadata": {},
     "output_type": "execute_result"
    }
   ],
   "source": [
    "enc = OneHotEncoder(sparse=False)\n",
    "categorical_variables = ['Card_Category']\n",
    "encoded_data = enc.fit_transform(starter_df[categorical_variables])\n",
    "encoded_dataframe = pd.DataFrame(encoded_data, columns = enc.get_feature_names(categorical_variables))\n",
    "starter_df.drop(columns=['Card_Category'], inplace=True)\n",
    "starter_df = pd.concat([starter_df, encoded_dataframe.set_axis(starter_df.index)], axis=1)\n",
    "starter_df.sample(10)"
   ]
  },
  {
   "attachments": {},
   "cell_type": "markdown",
   "metadata": {},
   "source": [
    "### Evaluate the Gender column for use as a feature\n",
    "Gender is a binary classification, so we don't need to OneHotEncode.\n",
    "The values will be converted to numericals and specified as datatype `int`.\n",
    "1. Male = 0\n",
    "2. Female = 1 \n"
   ]
  },
  {
   "cell_type": "code",
   "execution_count": 5,
   "metadata": {},
   "outputs": [],
   "source": [
    "starter_df = starter_df.replace({'Gender' : {\n",
    "'M': 0, \n",
    "'F': 1\n",
    "}})\n",
    "starter_df.Gender = starter_df.Gender.astype(int)"
   ]
  },
  {
   "attachments": {},
   "cell_type": "markdown",
   "metadata": {},
   "source": [
    "### Evaluate the Attrition_Flag column for use as the target\n",
    "Attrition_Flag is a binary classification, so we don't need to OneHotEncode.\n",
    "The values will be converted to numericals and specified as datatype `int`.\n",
    "1. Attrited Customer = 0\n",
    "2. Existing Customer = 1 "
   ]
  },
  {
   "cell_type": "code",
   "execution_count": 6,
   "metadata": {},
   "outputs": [],
   "source": [
    "starter_df = starter_df.replace({'Attrition_Flag' : {\n",
    "'Attrited Customer': 0, \n",
    "'Existing Customer': 1\n",
    "}})\n",
    "starter_df.Attrition_Flag = starter_df.Attrition_Flag.astype(int)"
   ]
  },
  {
   "attachments": {},
   "cell_type": "markdown",
   "metadata": {},
   "source": [
    "### Define our features(X) and our target(y)"
   ]
  },
  {
   "cell_type": "code",
   "execution_count": 7,
   "metadata": {},
   "outputs": [],
   "source": [
    "y = starter_df['Attrition_Flag']\n",
    "X = starter_df.drop(columns=['Attrition_Flag'])"
   ]
  },
  {
   "attachments": {},
   "cell_type": "markdown",
   "metadata": {},
   "source": [
    "### Split features and target in to training and testing sets"
   ]
  },
  {
   "cell_type": "code",
   "execution_count": 8,
   "metadata": {},
   "outputs": [],
   "source": [
    "X_train, X_test, y_train, y_test = train_test_split(X, y, random_state=1)"
   ]
  },
  {
   "attachments": {},
   "cell_type": "markdown",
   "metadata": {},
   "source": [
    "### StandardScaler will be used to scale the data.\n",
    "StandardScaler will only be fit to X_train."
   ]
  },
  {
   "cell_type": "code",
   "execution_count": 9,
   "metadata": {},
   "outputs": [],
   "source": [
    "scaler = StandardScaler()\n",
    "\n",
    "X_train = scaler.fit_transform(X_train)\n",
    "X_test = scaler.transform(X_test)"
   ]
  },
  {
   "attachments": {},
   "cell_type": "markdown",
   "metadata": {},
   "source": [
    "### Use SMOTE to add synthetic data and balance our target/feature value count"
   ]
  },
  {
   "cell_type": "code",
   "execution_count": 10,
   "metadata": {},
   "outputs": [],
   "source": [
    "oversample = SMOTE()\n",
    "X_train, y_train = oversample.fit_resample(X_train, y_train)"
   ]
  },
  {
   "attachments": {},
   "cell_type": "markdown",
   "metadata": {},
   "source": [
    "### Create an instance of the GradientBoostingClassifier model"
   ]
  },
  {
   "cell_type": "code",
   "execution_count": 11,
   "metadata": {},
   "outputs": [],
   "source": [
    "gbc_model = GradientBoostingClassifier(\n",
    "n_estimators=500,\n",
    "random_state= 2\n",
    ")"
   ]
  },
  {
   "attachments": {},
   "cell_type": "markdown",
   "metadata": {},
   "source": [
    "### Fit the model on the training data"
   ]
  },
  {
   "cell_type": "code",
   "execution_count": 12,
   "metadata": {},
   "outputs": [
    {
     "data": {
      "text/plain": [
       "GradientBoostingClassifier(n_estimators=500, random_state=2)"
      ]
     },
     "execution_count": 12,
     "metadata": {},
     "output_type": "execute_result"
    }
   ],
   "source": [
    "gbc_model.fit(X_train, y_train)"
   ]
  },
  {
   "attachments": {},
   "cell_type": "markdown",
   "metadata": {},
   "source": [
    "### Make predictions on the test data"
   ]
  },
  {
   "cell_type": "code",
   "execution_count": 13,
   "metadata": {},
   "outputs": [],
   "source": [
    "gbc_test_predictions = gbc_model.predict(X_test)"
   ]
  },
  {
   "attachments": {},
   "cell_type": "markdown",
   "metadata": {},
   "source": [
    "### Evaluate the model's performance"
   ]
  },
  {
   "cell_type": "code",
   "execution_count": 14,
   "metadata": {},
   "outputs": [
    {
     "name": "stdout",
     "output_type": "stream",
     "text": [
      "Accuracy: 97.20%\n"
     ]
    }
   ],
   "source": [
    "accuracy = accuracy_score(y_test, gbc_test_predictions)\n",
    "print(\"Accuracy: {:.2f}%\".format(accuracy * 100))"
   ]
  },
  {
   "attachments": {},
   "cell_type": "markdown",
   "metadata": {},
   "source": [
    "### Generate a confusion matrix"
   ]
  },
  {
   "cell_type": "code",
   "execution_count": 15,
   "metadata": {},
   "outputs": [
    {
     "name": "stdout",
     "output_type": "stream",
     "text": [
      "[[ 371   34]\n",
      " [  37 2090]]\n"
     ]
    }
   ],
   "source": [
    "gbc_test_matrix = confusion_matrix(y_test, gbc_test_predictions)\n",
    "print(gbc_test_matrix)"
   ]
  },
  {
   "attachments": {},
   "cell_type": "markdown",
   "metadata": {},
   "source": [
    "### Generate a classification report"
   ]
  },
  {
   "cell_type": "code",
   "execution_count": 16,
   "metadata": {},
   "outputs": [
    {
     "name": "stdout",
     "output_type": "stream",
     "text": [
      "              precision    recall  f1-score   support\n",
      "\n",
      "           0       0.91      0.92      0.91       405\n",
      "           1       0.98      0.98      0.98      2127\n",
      "\n",
      "    accuracy                           0.97      2532\n",
      "   macro avg       0.95      0.95      0.95      2532\n",
      "weighted avg       0.97      0.97      0.97      2532\n",
      "\n"
     ]
    }
   ],
   "source": [
    "gbc_testing_report = classification_report(y_test, gbc_test_predictions)\n",
    "print(gbc_testing_report)"
   ]
  },
  {
   "attachments": {},
   "cell_type": "markdown",
   "metadata": {},
   "source": [
    "### Generate an imbalanced classification report"
   ]
  },
  {
   "cell_type": "code",
   "execution_count": 17,
   "metadata": {},
   "outputs": [
    {
     "name": "stdout",
     "output_type": "stream",
     "text": [
      "                   pre       rec       spe        f1       geo       iba       sup\n",
      "\n",
      "          0       0.91      0.92      0.98      0.91      0.95      0.89       405\n",
      "          1       0.98      0.98      0.92      0.98      0.95      0.91      2127\n",
      "\n",
      "avg / total       0.97      0.97      0.93      0.97      0.95      0.90      2532\n",
      "\n"
     ]
    }
   ],
   "source": [
    "imb_gbc_testing_report = classification_report_imbalanced(y_test, gbc_test_predictions)\n",
    "print(imb_gbc_testing_report)"
   ]
  }
 ],
 "metadata": {
  "kernelspec": {
   "display_name": "dev",
   "language": "python",
   "name": "python3"
  },
  "language_info": {
   "codemirror_mode": {
    "name": "ipython",
    "version": 3
   },
   "file_extension": ".py",
   "mimetype": "text/x-python",
   "name": "python",
   "nbconvert_exporter": "python",
   "pygments_lexer": "ipython3",
   "version": "3.7.13"
  },
  "orig_nbformat": 4,
  "vscode": {
   "interpreter": {
    "hash": "28515e2b63b40114f6e8c1f789cf21b6d4b349a50273d5a1dcb37706cefab85d"
   }
  }
 },
 "nbformat": 4,
 "nbformat_minor": 2
}
